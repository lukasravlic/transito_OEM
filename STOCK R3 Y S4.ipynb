{
 "cells": [
  {
   "cell_type": "markdown",
   "metadata": {},
   "source": [
    "STOCK S4"
   ]
  },
  {
   "cell_type": "markdown",
   "metadata": {},
   "source": [
    "    LIBRERIAS"
   ]
  },
  {
   "cell_type": "code",
   "execution_count": 1,
   "metadata": {},
   "outputs": [],
   "source": [
    "import pandas as pd\n",
    "import os\n",
    "import getpass\n",
    "import datetime\n",
    "\n"
   ]
  },
  {
   "cell_type": "code",
   "execution_count": 2,
   "metadata": {},
   "outputs": [],
   "source": [
    "usuario = getpass.getuser()"
   ]
  },
  {
   "cell_type": "code",
   "execution_count": null,
   "metadata": {},
   "outputs": [],
   "source": []
  },
  {
   "cell_type": "markdown",
   "metadata": {},
   "source": [
    "LECTURA DE BASES"
   ]
  },
  {
   "cell_type": "code",
   "execution_count": null,
   "metadata": {},
   "outputs": [],
   "source": []
  },
  {
   "cell_type": "code",
   "execution_count": 3,
   "metadata": {},
   "outputs": [
    {
     "name": "stdout",
     "output_type": "stream",
     "text": [
      "C:/Users/lravlic/Inchcape/Planificación y Compras Chile - Documentos/Planificación y Compras Maestros\\2024\\2024-07\\COD_ACTUAL_S4_20240701.xlsx\n"
     ]
    }
   ],
   "source": [
    "ruta = f\"C:/Users/{usuario}/Inchcape/Planificación y Compras Chile - Documentos/Planificación y Compras Maestros\"\n",
    "lista_ruta = os.listdir(ruta)\n",
    "for i in lista_ruta:\n",
    "    if str(datetime.datetime.today().year) in i:\n",
    "        ruta = os.path.join(ruta , i)\n",
    "        lista_ruta = os.listdir(ruta)\n",
    "        for i in lista_ruta:\n",
    "            \n",
    "            if str(datetime.datetime.today().month).zfill(2) in i:\n",
    "                ruta = os.path.join(ruta, i)\n",
    "                lista_ruta = os.listdir(ruta)\n",
    "                for i in lista_ruta:\n",
    "                    if 'COD_ACTUAL_S4' in i and not 'R3' in i:\n",
    "                        ruta = os.path.join(ruta, i)\n",
    "                        print(ruta)\n",
    "                        cod_actual_df = pd.read_excel(ruta, usecols = ['Nro_pieza_fabricante_1', 'Cod_Actual_1'])"
   ]
  },
  {
   "cell_type": "code",
   "execution_count": 9,
   "metadata": {},
   "outputs": [],
   "source": [
    "dtypes={'Centro':'str','Almacén':'str'}"
   ]
  },
  {
   "cell_type": "code",
   "execution_count": 16,
   "metadata": {},
   "outputs": [],
   "source": [
    "stock_df = pd.read_excel('stock.XLSX', dtype= dtypes)"
   ]
  },
  {
   "cell_type": "code",
   "execution_count": 17,
   "metadata": {},
   "outputs": [
    {
     "data": {
      "text/plain": [
       "Centro\n",
       "0714    14816\n",
       "0710      511\n",
       "0711      367\n",
       "0496      183\n",
       "0712        1\n",
       "Name: count, dtype: int64"
      ]
     },
     "execution_count": 17,
     "metadata": {},
     "output_type": "execute_result"
    }
   ],
   "source": [
    "stock_df['Centro'].value_counts()"
   ]
  },
  {
   "cell_type": "code",
   "execution_count": 18,
   "metadata": {},
   "outputs": [],
   "source": [
    "ruta_mara= f\"C:/Users/{usuario}/Inchcape/Planificación y Compras Chile - Documentos/Planificación y Compras Maestros/2024/2024-04/MARA_S4_20240401_jc.xlsx\""
   ]
  },
  {
   "cell_type": "code",
   "execution_count": 7,
   "metadata": {},
   "outputs": [],
   "source": [
    "mara_df = pd.read_excel(ruta_mara, usecols=['Material_S4','Nombre Sector'])"
   ]
  },
  {
   "cell_type": "code",
   "execution_count": 21,
   "metadata": {},
   "outputs": [
    {
     "data": {
      "text/plain": [
       "Index(['Material_S4', 'Nombre Sector'], dtype='object')"
      ]
     },
     "execution_count": 21,
     "metadata": {},
     "output_type": "execute_result"
    }
   ],
   "source": [
    "mara_df.columns"
   ]
  },
  {
   "cell_type": "code",
   "execution_count": 19,
   "metadata": {},
   "outputs": [
    {
     "data": {
      "text/plain": [
       "(15879, 19)"
      ]
     },
     "execution_count": 19,
     "metadata": {},
     "output_type": "execute_result"
    }
   ],
   "source": [
    "stock_df.shape"
   ]
  },
  {
   "cell_type": "code",
   "execution_count": 20,
   "metadata": {},
   "outputs": [],
   "source": [
    "stock_df_ue = stock_df.merge(cod_actual_df, left_on = 'Material', right_on='Nro_pieza_fabricante_1', how = 'left')"
   ]
  },
  {
   "cell_type": "code",
   "execution_count": 21,
   "metadata": {},
   "outputs": [],
   "source": [
    "stock_df_ue.drop(columns='Nro_pieza_fabricante_1', inplace=True)\n",
    "stock_df_ue.rename(columns={'Cod_Actual_1':'Ult. Eslabon'}, inplace=True)"
   ]
  },
  {
   "cell_type": "code",
   "execution_count": 22,
   "metadata": {},
   "outputs": [],
   "source": [
    "stock_df_ue['Ult. Eslabon'].fillna(stock_df_ue['Material'], inplace=True)"
   ]
  },
  {
   "cell_type": "code",
   "execution_count": 23,
   "metadata": {},
   "outputs": [],
   "source": [
    "stock_df_ue = stock_df_ue.merge(mara_df, left_on='Ult. Eslabon', right_on='Material_S4')"
   ]
  },
  {
   "cell_type": "code",
   "execution_count": 27,
   "metadata": {},
   "outputs": [
    {
     "data": {
      "text/plain": [
       "Index(['Material', 'Centro', 'Almacén', 'PB a nivel almacén',\n",
       "       'Unidad medida base', 'Libre utilización', 'Moneda',\n",
       "       'Valor libre util.', 'Trans./Trasl.', 'Val.trans.c/cond.',\n",
       "       'Inspecc.de calidad', 'Valor en insp.cal.', 'Stock no libre',\n",
       "       'Valor no libre', 'Bloqueado', 'Valor stock bloq.', 'Devoluciones',\n",
       "       'Val.stock bl.dev.', 'Texto breve de material', 'Ult. Eslabon',\n",
       "       'Material_S4', 'Nombre Sector'],\n",
       "      dtype='object')"
      ]
     },
     "execution_count": 27,
     "metadata": {},
     "output_type": "execute_result"
    }
   ],
   "source": [
    "stock_df_ue.columns"
   ]
  },
  {
   "cell_type": "code",
   "execution_count": 24,
   "metadata": {},
   "outputs": [],
   "source": [
    "today = datetime.date.today() - datetime.timedelta(days=1)\n",
    "\n",
    "# Get the ISO week number for today's date\n",
    "week_number = today.isocalendar()[1]"
   ]
  },
  {
   "cell_type": "code",
   "execution_count": null,
   "metadata": {},
   "outputs": [],
   "source": []
  },
  {
   "cell_type": "code",
   "execution_count": 25,
   "metadata": {},
   "outputs": [],
   "source": [
    "stock_df_ue['SEMANA'] = week_number"
   ]
  },
  {
   "cell_type": "code",
   "execution_count": 26,
   "metadata": {},
   "outputs": [],
   "source": [
    "stock_df_ue.drop(columns='Material_S4', inplace=True)"
   ]
  },
  {
   "cell_type": "code",
   "execution_count": 27,
   "metadata": {},
   "outputs": [],
   "source": [
    "stock_df_ue.to_excel(f'C:/Users/lravlic/Inchcape/Planificación y Compras Chile - Documentos/Planificación y Compras KPI-Reportes/Tubo Semanal/{today.strftime('%Y-%m-%d')}/{today.strftime('%Y-%m-%d')} - Stock S4.xlsx')"
   ]
  },
  {
   "cell_type": "code",
   "execution_count": 4,
   "metadata": {},
   "outputs": [],
   "source": [
    "stockr3_df = pd.read_excel('STOCK R3.XLSX')"
   ]
  },
  {
   "cell_type": "code",
   "execution_count": 5,
   "metadata": {},
   "outputs": [
    {
     "data": {
      "text/html": [
       "<div>\n",
       "<style scoped>\n",
       "    .dataframe tbody tr th:only-of-type {\n",
       "        vertical-align: middle;\n",
       "    }\n",
       "\n",
       "    .dataframe tbody tr th {\n",
       "        vertical-align: top;\n",
       "    }\n",
       "\n",
       "    .dataframe thead th {\n",
       "        text-align: right;\n",
       "    }\n",
       "</style>\n",
       "<table border=\"1\" class=\"dataframe\">\n",
       "  <thead>\n",
       "    <tr style=\"text-align: right;\">\n",
       "      <th></th>\n",
       "      <th>Material</th>\n",
       "      <th>Centro</th>\n",
       "      <th>Almacén</th>\n",
       "      <th>Unidad medida base</th>\n",
       "      <th>Libre utilización</th>\n",
       "      <th>Moneda</th>\n",
       "      <th>Valor libre util.</th>\n",
       "      <th>Trans./Trasl.</th>\n",
       "      <th>Val.trans.c/cond.</th>\n",
       "      <th>Valor en insp.cal.</th>\n",
       "      <th>Stock no libre</th>\n",
       "      <th>Valor no libre</th>\n",
       "      <th>Bloqueado</th>\n",
       "      <th>Valor stock bloq.</th>\n",
       "      <th>Devoluciones</th>\n",
       "      <th>Val.stock bl.dev.</th>\n",
       "      <th>Texto breve de material</th>\n",
       "      <th>En control calidad</th>\n",
       "    </tr>\n",
       "  </thead>\n",
       "  <tbody>\n",
       "    <tr>\n",
       "      <th>0</th>\n",
       "      <td>0000000195-OP</td>\n",
       "      <td>201.0</td>\n",
       "      <td>1100.0</td>\n",
       "      <td>UN</td>\n",
       "      <td>5.0</td>\n",
       "      <td>CLP</td>\n",
       "      <td>752507</td>\n",
       "      <td>0.0</td>\n",
       "      <td>0</td>\n",
       "      <td>0</td>\n",
       "      <td>0.0</td>\n",
       "      <td>0</td>\n",
       "      <td>0.0</td>\n",
       "      <td>0</td>\n",
       "      <td>0.0</td>\n",
       "      <td>0</td>\n",
       "      <td>PIRELLI P7-CINT TUB 205/55 R17 91V</td>\n",
       "      <td>0.0</td>\n",
       "    </tr>\n",
       "    <tr>\n",
       "      <th>1</th>\n",
       "      <td>0000000210</td>\n",
       "      <td>201.0</td>\n",
       "      <td>1100.0</td>\n",
       "      <td>UN</td>\n",
       "      <td>2.0</td>\n",
       "      <td>CLP</td>\n",
       "      <td>239260</td>\n",
       "      <td>0.0</td>\n",
       "      <td>0</td>\n",
       "      <td>0</td>\n",
       "      <td>0.0</td>\n",
       "      <td>0</td>\n",
       "      <td>0.0</td>\n",
       "      <td>0</td>\n",
       "      <td>0.0</td>\n",
       "      <td>0</td>\n",
       "      <td>CONTINENTAL CONTACT 5 195/65R15 95H</td>\n",
       "      <td>0.0</td>\n",
       "    </tr>\n",
       "    <tr>\n",
       "      <th>2</th>\n",
       "      <td>0000000229CPZ</td>\n",
       "      <td>201.0</td>\n",
       "      <td>1100.0</td>\n",
       "      <td>UN</td>\n",
       "      <td>17.0</td>\n",
       "      <td>CLP</td>\n",
       "      <td>2875639</td>\n",
       "      <td>0.0</td>\n",
       "      <td>0</td>\n",
       "      <td>0</td>\n",
       "      <td>0.0</td>\n",
       "      <td>0</td>\n",
       "      <td>0.0</td>\n",
       "      <td>0</td>\n",
       "      <td>0.0</td>\n",
       "      <td>0</td>\n",
       "      <td>CONTINENTAL CONTACT 5 205/55R17 95V</td>\n",
       "      <td>0.0</td>\n",
       "    </tr>\n",
       "    <tr>\n",
       "      <th>3</th>\n",
       "      <td>0000000232</td>\n",
       "      <td>201.0</td>\n",
       "      <td>1100.0</td>\n",
       "      <td>UN</td>\n",
       "      <td>2.0</td>\n",
       "      <td>CLP</td>\n",
       "      <td>362118</td>\n",
       "      <td>0.0</td>\n",
       "      <td>0</td>\n",
       "      <td>0</td>\n",
       "      <td>0.0</td>\n",
       "      <td>0</td>\n",
       "      <td>0.0</td>\n",
       "      <td>0</td>\n",
       "      <td>0.0</td>\n",
       "      <td>0</td>\n",
       "      <td>CONTINENTAL CONTACT 5 195/55R16 91H</td>\n",
       "      <td>0.0</td>\n",
       "    </tr>\n",
       "    <tr>\n",
       "      <th>4</th>\n",
       "      <td>0000000239</td>\n",
       "      <td>201.0</td>\n",
       "      <td>1505.0</td>\n",
       "      <td>UN</td>\n",
       "      <td>2.0</td>\n",
       "      <td>CLP</td>\n",
       "      <td>143682</td>\n",
       "      <td>0.0</td>\n",
       "      <td>0</td>\n",
       "      <td>0</td>\n",
       "      <td>0.0</td>\n",
       "      <td>0</td>\n",
       "      <td>0.0</td>\n",
       "      <td>0</td>\n",
       "      <td>0.0</td>\n",
       "      <td>0</td>\n",
       "      <td>CONTINENTAL CONTACT 5 185/65R15 92T</td>\n",
       "      <td>0.0</td>\n",
       "    </tr>\n",
       "  </tbody>\n",
       "</table>\n",
       "</div>"
      ],
      "text/plain": [
       "        Material  Centro  Almacén Unidad medida base  Libre utilización  \\\n",
       "0  0000000195-OP   201.0   1100.0                 UN                5.0   \n",
       "1     0000000210   201.0   1100.0                 UN                2.0   \n",
       "2  0000000229CPZ   201.0   1100.0                 UN               17.0   \n",
       "3     0000000232   201.0   1100.0                 UN                2.0   \n",
       "4     0000000239   201.0   1505.0                 UN                2.0   \n",
       "\n",
       "  Moneda  Valor libre util.  Trans./Trasl.  Val.trans.c/cond.  \\\n",
       "0    CLP             752507            0.0                  0   \n",
       "1    CLP             239260            0.0                  0   \n",
       "2    CLP            2875639            0.0                  0   \n",
       "3    CLP             362118            0.0                  0   \n",
       "4    CLP             143682            0.0                  0   \n",
       "\n",
       "   Valor en insp.cal.  Stock no libre  Valor no libre  Bloqueado  \\\n",
       "0                   0             0.0               0        0.0   \n",
       "1                   0             0.0               0        0.0   \n",
       "2                   0             0.0               0        0.0   \n",
       "3                   0             0.0               0        0.0   \n",
       "4                   0             0.0               0        0.0   \n",
       "\n",
       "   Valor stock bloq.  Devoluciones  Val.stock bl.dev.  \\\n",
       "0                  0           0.0                  0   \n",
       "1                  0           0.0                  0   \n",
       "2                  0           0.0                  0   \n",
       "3                  0           0.0                  0   \n",
       "4                  0           0.0                  0   \n",
       "\n",
       "               Texto breve de material  En control calidad  \n",
       "0   PIRELLI P7-CINT TUB 205/55 R17 91V                 0.0  \n",
       "1  CONTINENTAL CONTACT 5 195/65R15 95H                 0.0  \n",
       "2  CONTINENTAL CONTACT 5 205/55R17 95V                 0.0  \n",
       "3  CONTINENTAL CONTACT 5 195/55R16 91H                 0.0  \n",
       "4  CONTINENTAL CONTACT 5 185/65R15 92T                 0.0  "
      ]
     },
     "execution_count": 5,
     "metadata": {},
     "output_type": "execute_result"
    }
   ],
   "source": [
    "stockr3_df.head()"
   ]
  },
  {
   "cell_type": "code",
   "execution_count": 6,
   "metadata": {},
   "outputs": [
    {
     "data": {
      "text/plain": [
       "(65565, 18)"
      ]
     },
     "execution_count": 6,
     "metadata": {},
     "output_type": "execute_result"
    }
   ],
   "source": [
    "stockr3_df.shape"
   ]
  },
  {
   "cell_type": "code",
   "execution_count": 9,
   "metadata": {},
   "outputs": [],
   "source": [
    "ruta_mara_r3= f\"C:/Users/{usuario}/Inchcape/Planificación y Compras Chile - Documentos/Planificación y Compras Maestros/2024/2024-07/MARA_R3_20240701.xlsx\"\n",
    "ruta_cod_actual_r3 = f\"C:/Users/{usuario}/Inchcape/Planificación y Compras Chile - Documentos/Planificación y Compras Maestros/2024/2024-07/COD_ACTUAL_R3_20240701.xlsx\""
   ]
  },
  {
   "cell_type": "code",
   "execution_count": 10,
   "metadata": {},
   "outputs": [],
   "source": [
    "mara_r3_df=pd.read_excel(ruta_mara_r3,usecols=['Material_R3','Sector_dsc','Familia'])\n",
    "cod_actual_r3_df=pd.read_excel(ruta_cod_actual_r3, usecols=['Nro_pieza_fabricante_1', 'Cod_Actual_1'])"
   ]
  },
  {
   "cell_type": "code",
   "execution_count": 11,
   "metadata": {},
   "outputs": [
    {
     "data": {
      "text/plain": [
       "Index(['Nro_pieza_fabricante_1', 'Cod_Actual_1'], dtype='object')"
      ]
     },
     "execution_count": 11,
     "metadata": {},
     "output_type": "execute_result"
    }
   ],
   "source": [
    "cod_actual_r3_df.columns"
   ]
  },
  {
   "cell_type": "code",
   "execution_count": 12,
   "metadata": {},
   "outputs": [],
   "source": [
    "stock_df_ue_r3 = stockr3_df.merge(cod_actual_r3_df, left_on = 'Material', right_on='Nro_pieza_fabricante_1', how = 'left')"
   ]
  },
  {
   "cell_type": "code",
   "execution_count": 13,
   "metadata": {},
   "outputs": [],
   "source": [
    "stock_df_ue_r3.drop(columns='Nro_pieza_fabricante_1', inplace=True)\n",
    "stock_df_ue_r3.rename(columns={'Cod_Actual_1':'Ult. Eslabon'}, inplace=True)"
   ]
  },
  {
   "cell_type": "code",
   "execution_count": 14,
   "metadata": {},
   "outputs": [],
   "source": [
    "stock_df_ue_r3['Ult. Eslabon'].fillna(stock_df_ue_r3['Material'], inplace=True)"
   ]
  },
  {
   "cell_type": "code",
   "execution_count": 15,
   "metadata": {},
   "outputs": [
    {
     "data": {
      "text/plain": [
       "Index(['Sector_dsc', 'Material_R3', 'Familia'], dtype='object')"
      ]
     },
     "execution_count": 15,
     "metadata": {},
     "output_type": "execute_result"
    }
   ],
   "source": [
    "mara_r3_df.columns"
   ]
  },
  {
   "cell_type": "code",
   "execution_count": 16,
   "metadata": {},
   "outputs": [],
   "source": [
    "stock_df_ue_r3 = stock_df_ue_r3.merge(mara_r3_df, left_on='Ult. Eslabon', right_on='Material_R3')"
   ]
  },
  {
   "cell_type": "code",
   "execution_count": null,
   "metadata": {},
   "outputs": [],
   "source": []
  },
  {
   "cell_type": "code",
   "execution_count": 19,
   "metadata": {},
   "outputs": [],
   "source": [
    "stock_df_ue_r3.to_excel(f\"C:/Users/lravlic/Inchcape/Planificación y Compras Chile - Documentos/Planificación y Compras KPI-Reportes/Tubo Semanal/2024-07-01/2024-07-01 - Stock R3.xlsx\")"
   ]
  },
  {
   "cell_type": "code",
   "execution_count": 20,
   "metadata": {},
   "outputs": [],
   "source": [
    "me5a_df_r3 = pd.read_excel(\"ME5A R3.XLSX\")"
   ]
  },
  {
   "cell_type": "code",
   "execution_count": 21,
   "metadata": {},
   "outputs": [],
   "source": [
    "me5a_df_r3 = me5a_df_r3.merge(cod_actual_r3_df, left_on='Material', right_on='Nro_pieza_fabricante_1',how='left')"
   ]
  },
  {
   "cell_type": "code",
   "execution_count": 22,
   "metadata": {},
   "outputs": [],
   "source": [
    "me5a_df_r3['Cod_Actual_1'].fillna(me5a_df_r3['Material'], inplace=True)\n",
    "me5a_df_r3.drop(columns= 'Nro_pieza_fabricante_1', inplace=True)\n",
    "me5a_df_r3.rename(columns={'Cod_Actual_1':'Ult. Eslabon'}, inplace=True)"
   ]
  },
  {
   "cell_type": "code",
   "execution_count": null,
   "metadata": {},
   "outputs": [],
   "source": []
  },
  {
   "cell_type": "code",
   "execution_count": 23,
   "metadata": {},
   "outputs": [
    {
     "data": {
      "text/plain": [
       "Index(['Solicitud de pedido', 'Clase documento', 'Fecha de solicitud',\n",
       "       'Pos.solicitud pedido', 'Material', 'Nº material proveedor',\n",
       "       'Texto breve', 'Cantidad solicitada', 'Unidad de medida',\n",
       "       'Nombre del proveedor', 'Indicador de borrado', 'Status tratamiento',\n",
       "       'Centro', 'Status tratamiento solicitud pedido', 'Fecha de entrega',\n",
       "       'Grupo de compras', 'Solicitante', 'Proveedor deseado',\n",
       "       'Proveedor fijo', 'Reg.info de compras', 'Creado por',\n",
       "       'Fecha de pedido', 'Nombre del proveedor deseado', 'Pedido',\n",
       "       'Posición de pedido', 'Proveedor', 'Moneda', 'Precio de valoración',\n",
       "       'Valor total', 'Tipo de imputación', 'Petición de oferta',\n",
       "       'Fecha Petición de oferta', 'Texto bloqueo', 'Cantidad confirmada',\n",
       "       'Urgencia necesidad', 'Ult. Eslabon'],\n",
       "      dtype='object')"
      ]
     },
     "execution_count": 23,
     "metadata": {},
     "output_type": "execute_result"
    }
   ],
   "source": [
    "me5a_df_r3.columns"
   ]
  },
  {
   "cell_type": "code",
   "execution_count": 24,
   "metadata": {},
   "outputs": [],
   "source": [
    "me5a_df_r3 = me5a_df_r3[['Solicitud de pedido', 'Clase documento', 'Fecha de solicitud',\n",
    "       'Pos.solicitud pedido', 'Material','Ult. Eslabon',\n",
    "       'Texto breve', 'Cantidad solicitada', 'Unidad de medida',\n",
    "       'Nombre del proveedor', 'Indicador de borrado', 'Status tratamiento',\n",
    "       'Centro', 'Status tratamiento solicitud pedido', 'Fecha de entrega',\n",
    "       'Grupo de compras', 'Solicitante', 'Proveedor deseado',\n",
    "       'Proveedor fijo', 'Reg.info de compras', 'Creado por',\n",
    "       'Fecha de pedido', 'Nombre del proveedor deseado', 'Pedido',\n",
    "       'Posición de pedido', 'Proveedor', 'Moneda', 'Precio de valoración',\n",
    "       'Valor total', 'Petición de oferta',\n",
    "       'Fecha Petición de oferta', 'Texto bloqueo', 'Cantidad confirmada','Urgencia necesidad'\n",
    "       ]]"
   ]
  },
  {
   "cell_type": "code",
   "execution_count": 25,
   "metadata": {},
   "outputs": [],
   "source": [
    "me5a_df_r3.to_excel(f'C:/Users/lravlic/Inchcape/Planificación y Compras Chile - Documentos/Planificación y Compras KPI-Reportes/Tubo Semanal/2024-07-01/2024-07-01 - ME5A R3.xlsx')"
   ]
  },
  {
   "cell_type": "code",
   "execution_count": 52,
   "metadata": {},
   "outputs": [],
   "source": [
    "me5a_df_r3.to_excel(f'C:/Users/lravlic/Inchcape/Planificación y Compras Chile - Documentos/Planificación y Compras KPI-Reportes/Tubo Semanal/{today.strftime('%Y-%m-%d')}/{today.strftime('%Y-%m-%d')} - ME5A R3.xlsx')"
   ]
  },
  {
   "cell_type": "code",
   "execution_count": 54,
   "metadata": {},
   "outputs": [],
   "source": [
    "stock_r3_df = pd.read_excel('STOCK R3.XLSX')"
   ]
  },
  {
   "cell_type": "code",
   "execution_count": null,
   "metadata": {},
   "outputs": [],
   "source": []
  }
 ],
 "metadata": {
  "kernelspec": {
   "display_name": "Python 3",
   "language": "python",
   "name": "python3"
  },
  "language_info": {
   "codemirror_mode": {
    "name": "ipython",
    "version": 3
   },
   "file_extension": ".py",
   "mimetype": "text/x-python",
   "name": "python",
   "nbconvert_exporter": "python",
   "pygments_lexer": "ipython3",
   "version": "3.12.0"
  }
 },
 "nbformat": 4,
 "nbformat_minor": 2
}
