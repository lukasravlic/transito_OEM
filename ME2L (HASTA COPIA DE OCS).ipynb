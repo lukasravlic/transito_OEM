{
 "cells": [
  {
   "cell_type": "code",
   "execution_count": 154,
   "metadata": {},
   "outputs": [],
   "source": [
    "import pandas as pd\n",
    "import numpy as np\n",
    "import os\n",
    "import datetime\n",
    "\n",
    "\n"
   ]
  },
  {
   "cell_type": "markdown",
   "metadata": {},
   "source": [
    "LECTURA DE DATAFRAMES"
   ]
  },
  {
   "cell_type": "code",
   "execution_count": 155,
   "metadata": {},
   "outputs": [],
   "source": [
    "\n",
    "#ME2L POR SEPARADO\n",
    "me2l1_df = pd.read_excel('ME2L1.XLSX')\n",
    "me2l2_df = pd.read_excel('ME2L2.XLSX')\n",
    "me2l3_df = pd.read_excel('ME2L3.XLSX')\n",
    "\n"
   ]
  },
  {
   "cell_type": "code",
   "execution_count": 156,
   "metadata": {},
   "outputs": [],
   "source": [
    "#BASE PLANIFICABLE\n",
    "base_df = pd.read_excel('Base.xlsx', header=1)\n",
    "base_df = base_df[['Material','Texto breve de material','NomSector_actual','TIPO','Corresponde']]"
   ]
  },
  {
   "cell_type": "code",
   "execution_count": 157,
   "metadata": {},
   "outputs": [],
   "source": [
    "#CODIGOS CADENA DE REEMPLAZO\n",
    "cod_actual_df = pd.read_excel('COD_ACTUAL_S4.xlsx', usecols = ['Nro_pieza_fabricante_1', 'Cod_Actual_1'])"
   ]
  },
  {
   "cell_type": "code",
   "execution_count": 158,
   "metadata": {},
   "outputs": [],
   "source": [
    "base_df_ue = pd.merge(base_df, cod_actual_df, left_on=\"Material\", right_on=\"Nro_pieza_fabricante_1\", how=\"left\")"
   ]
  },
  {
   "cell_type": "code",
   "execution_count": 159,
   "metadata": {},
   "outputs": [],
   "source": [
    "base_df_ue['Cod_Actual_1'] = base_df_ue['Cod_Actual_1'].fillna(base_df_ue['Material'])"
   ]
  },
  {
   "cell_type": "code",
   "execution_count": 160,
   "metadata": {},
   "outputs": [
    {
     "data": {
      "text/plain": [
       "(304803, 7)"
      ]
     },
     "execution_count": 160,
     "metadata": {},
     "output_type": "execute_result"
    }
   ],
   "source": [
    "base_df_ue.shape"
   ]
  },
  {
   "cell_type": "code",
   "execution_count": 161,
   "metadata": {},
   "outputs": [
    {
     "data": {
      "text/plain": [
       "Index(['Material', 'Texto breve de material', 'NomSector_actual', 'TIPO',\n",
       "       'Corresponde', 'Nro_pieza_fabricante_1', 'Cod_Actual_1'],\n",
       "      dtype='object')"
      ]
     },
     "execution_count": 161,
     "metadata": {},
     "output_type": "execute_result"
    }
   ],
   "source": [
    "base_df_ue.columns"
   ]
  },
  {
   "cell_type": "code",
   "execution_count": 162,
   "metadata": {},
   "outputs": [],
   "source": [
    "base_df_ue = base_df_ue[['Cod_Actual_1','Texto breve de material', 'NomSector_actual', 'TIPO','Corresponde']]\n",
    "base_df_ue = base_df_ue.rename(columns={'Cod_Actual_1':'Material'})"
   ]
  },
  {
   "cell_type": "code",
   "execution_count": 163,
   "metadata": {},
   "outputs": [],
   "source": [
    "base_df_ue = base_df_ue.drop_duplicates(subset=['Material'])"
   ]
  },
  {
   "cell_type": "markdown",
   "metadata": {},
   "source": [
    "TRATAMIENTO DE DFS (OC, POSiCION)"
   ]
  },
  {
   "cell_type": "code",
   "execution_count": 164,
   "metadata": {},
   "outputs": [],
   "source": [
    "me2l1_df['Documento compras'] = me2l1_df['Documento compras'].astype('str')\n",
    "me2l1_df = me2l1_df.drop(0)\n",
    "me2l1_df['Documento compras'] = me2l1_df['Documento compras'].apply(lambda x: x.split(\".\")[0])\n",
    "me2l2_df['Documento compras'] = me2l2_df['Documento compras'].astype('str')\n",
    "me2l2_df = me2l2_df.drop(0)\n",
    "me2l2_df['Documento compras'] = me2l2_df['Documento compras'].apply(lambda x: x.split(\".\")[0])\n",
    "me2l3_df['Documento compras'] = me2l3_df['Documento compras'].astype('str')\n",
    "me2l3_df = me2l3_df.drop(0)\n",
    "me2l3_df['Documento compras'] = me2l3_df['Documento compras'].apply(lambda x: x.split(\".\")[0])\n",
    "\n",
    "me2l1_df['Posición'] = me2l1_df['Posición'].astype('int')\n",
    "#me2l1_df['Posición'] = me2l1_df['Posición'].apply(lambda x: x.split(\".\")[0])\n",
    "me2l2_df['Posición'] = me2l2_df['Posición'].astype('int')\n",
    "#me2l2_df['Posición'] = me2l2_df['Posición'].apply(lambda x: x.split(\".\")[0])\n",
    "me2l3_df['Posición'] = me2l3_df['Posición'].astype('int')\n",
    "#me2l3_df['Posición'] = me2l3_df['Posición'].apply(lambda x: x.split(\".\")[0])"
   ]
  },
  {
   "cell_type": "code",
   "execution_count": 165,
   "metadata": {},
   "outputs": [
    {
     "name": "stdout",
     "output_type": "stream",
     "text": [
      "Dimensiones del df1: (6805, 39)\n",
      "----------------------------------------\n",
      "Dimensiones del df2: (5040, 39)\n",
      "----------------------------------------\n",
      "Dimensiones del df3: (8301, 39)\n"
     ]
    }
   ],
   "source": [
    "print(f'Dimensiones del df1: {me2l1_df.shape}')\n",
    "print('-' * 40)\n",
    "print(f'Dimensiones del df2: {me2l2_df.shape}')\n",
    "print('-' * 40)\n",
    "print(f'Dimensiones del df3: {me2l3_df.shape}')\n"
   ]
  },
  {
   "cell_type": "markdown",
   "metadata": {},
   "source": [
    "UNIR DFS"
   ]
  },
  {
   "cell_type": "code",
   "execution_count": 166,
   "metadata": {},
   "outputs": [],
   "source": [
    "me2l_consolidado = pd.concat([me2l1_df,me2l2_df,me2l3_df])\n"
   ]
  },
  {
   "cell_type": "code",
   "execution_count": 167,
   "metadata": {},
   "outputs": [],
   "source": [
    "me2l_consolidado.reset_index(drop=True, inplace=True)"
   ]
  },
  {
   "cell_type": "code",
   "execution_count": 168,
   "metadata": {},
   "outputs": [],
   "source": [
    "me2l_consolidado['Material'] = me2l_consolidado['Material'].astype('str')\n",
    "me2l_consolidado['Material'] = me2l_consolidado['Material'].apply(lambda x: x.split(\".\")[0])"
   ]
  },
  {
   "cell_type": "code",
   "execution_count": 169,
   "metadata": {},
   "outputs": [],
   "source": [
    "#me2l_consolidado.drop(columns=['Reparto','Tipo doc.compras','Historial pedido/Docu.orden entrega','Grupo de artículos','Tipo de posición', 'Tipo de imputación', 'Cantidad de reparto','Hora'], inplace=True)"
   ]
  },
  {
   "cell_type": "code",
   "execution_count": 170,
   "metadata": {},
   "outputs": [
    {
     "name": "stdout",
     "output_type": "stream",
     "text": [
      "Dimensiones de consolidado: (20146, 39)\n"
     ]
    }
   ],
   "source": [
    "print(f'Dimensiones de consolidado: {me2l_consolidado.shape}')"
   ]
  },
  {
   "cell_type": "markdown",
   "metadata": {},
   "source": [
    "ULTIMO ESLABON A ME2L"
   ]
  },
  {
   "cell_type": "code",
   "execution_count": 171,
   "metadata": {},
   "outputs": [],
   "source": [
    "me2l_ue = pd.merge(me2l_consolidado, cod_actual_df, left_on=\"Material\", right_on=\"Nro_pieza_fabricante_1\", how=\"left\")"
   ]
  },
  {
   "cell_type": "code",
   "execution_count": 172,
   "metadata": {},
   "outputs": [],
   "source": [
    "me2l_ue['Cod_Actual_1'].fillna(me2l_ue['Material'], inplace=True)"
   ]
  },
  {
   "cell_type": "code",
   "execution_count": 173,
   "metadata": {},
   "outputs": [
    {
     "data": {
      "text/plain": [
       "(20146, 41)"
      ]
     },
     "execution_count": 173,
     "metadata": {},
     "output_type": "execute_result"
    }
   ],
   "source": [
    "me2l_ue.shape"
   ]
  },
  {
   "cell_type": "code",
   "execution_count": 174,
   "metadata": {},
   "outputs": [],
   "source": [
    "me2l_ue = me2l_ue[['Documento compras', 'Posición', 'Reparto','Cl.documento compras','Tipo doc.compras',\n",
    "       'Grupo de compras','Historial pedido/Docu.orden entrega', 'Fecha documento', 'Material','Cod_Actual_1', 'Texto breve','Grupo de artículos',\n",
    "       'Indicador de borrado','Tipo de posición', 'Tipo de imputación', 'Centro', 'Almacén', 'Cantidad de reparto', 'Cantidad de pedido',\n",
    "       'Unidad medida pedido', 'Precio neto', 'Moneda', 'Cantidad base',\n",
    "       'Fecha de entrega','Hora', 'Fecha entrega estad.', 'Cantidad anterior',\n",
    "       'Cantidad entrada', 'Cantidad de salida', 'Cantidad entregada',\n",
    "       'Solicitud de pedido', 'Pos.solicitud pedido', 'Indicador creación',\n",
    "       'Cantidad de posiciones', 'Nombre de proveedor',\n",
    "       'Por entregar (cantidad)', 'Por entregar (valor)',\n",
    "       'Por calcular (cantidad)', 'Por calcular (valor)'\n",
    "       ]]\n"
   ]
  },
  {
   "cell_type": "code",
   "execution_count": 175,
   "metadata": {},
   "outputs": [],
   "source": [
    "me2l_ue = me2l_ue.rename(columns={'Material':'Material Antiguo'})\n",
    "me2l_ue = me2l_ue.rename(columns={'Cod_Actual_1':'Material'})\n"
   ]
  },
  {
   "cell_type": "code",
   "execution_count": 176,
   "metadata": {},
   "outputs": [],
   "source": [
    "me2l_ue.to_excel(\"C:/Users/lravlic/Inchcape/Planificación y Compras Chile - Documentos/Planificación y Compras KPI-Reportes/Tubo Semanal/2024-02-12/2024-02-12 ME2L S4.xlsx\")"
   ]
  },
  {
   "cell_type": "code",
   "execution_count": 177,
   "metadata": {},
   "outputs": [],
   "source": [
    "me2l_cruce_sector = pd.merge(me2l_ue, base_df_ue, left_on=\"Material\", right_on=\"Material\", how=\"left\")"
   ]
  },
  {
   "cell_type": "code",
   "execution_count": 178,
   "metadata": {},
   "outputs": [],
   "source": [
    "me2l_cruce_sector = me2l_cruce_sector[['Documento compras', 'Posición', 'Reparto','Cl.documento compras','Tipo doc.compras',\n",
    "       'Grupo de compras','Historial pedido/Docu.orden entrega', 'Fecha documento', 'Material Antiguo','Material', 'Texto breve','Grupo de artículos',\n",
    "       'Indicador de borrado','Tipo de posición', 'Tipo de imputación', 'Centro', 'Almacén', 'Cantidad de reparto', 'Cantidad de pedido',\n",
    "       'Unidad medida pedido', 'Precio neto', 'Moneda', 'Cantidad base',\n",
    "       'Fecha de entrega','Hora', 'Fecha entrega estad.', 'Cantidad anterior',\n",
    "       'Cantidad entrada', 'Cantidad de salida', 'Cantidad entregada',\n",
    "       'Solicitud de pedido', 'Pos.solicitud pedido', 'Indicador creación',\n",
    "       'Cantidad de posiciones', 'Nombre de proveedor',\n",
    "       'Por entregar (cantidad)', 'Por entregar (valor)',\n",
    "       'Por calcular (cantidad)', 'Por calcular (valor)', 'NomSector_actual',\n",
    "       'Texto breve de material', 'TIPO', 'Corresponde']]"
   ]
  },
  {
   "cell_type": "code",
   "execution_count": 179,
   "metadata": {},
   "outputs": [
    {
     "data": {
      "text/plain": [
       "Documento compras                              object\n",
       "Posición                                        int32\n",
       "Reparto                                       float64\n",
       "Cl.documento compras                           object\n",
       "Tipo doc.compras                               object\n",
       "Grupo de compras                               object\n",
       "Historial pedido/Docu.orden entrega           float64\n",
       "Fecha documento                        datetime64[ns]\n",
       "Material Antiguo                               object\n",
       "Material                                       object\n",
       "Texto breve                                    object\n",
       "Grupo de artículos                             object\n",
       "Indicador de borrado                          float64\n",
       "Tipo de posición                              float64\n",
       "Tipo de imputación                             object\n",
       "Centro                                        float64\n",
       "Almacén                                       float64\n",
       "Cantidad de reparto                           float64\n",
       "Cantidad de pedido                            float64\n",
       "Unidad medida pedido                           object\n",
       "Precio neto                                   float64\n",
       "Moneda                                         object\n",
       "Cantidad base                                 float64\n",
       "Fecha de entrega                       datetime64[ns]\n",
       "Hora                                           object\n",
       "Fecha entrega estad.                   datetime64[ns]\n",
       "Cantidad anterior                             float64\n",
       "Cantidad entrada                              float64\n",
       "Cantidad de salida                            float64\n",
       "Cantidad entregada                            float64\n",
       "Solicitud de pedido                           float64\n",
       "Pos.solicitud pedido                          float64\n",
       "Indicador creación                             object\n",
       "Cantidad de posiciones                          int64\n",
       "Nombre de proveedor                            object\n",
       "Por entregar (cantidad)                       float64\n",
       "Por entregar (valor)                          float64\n",
       "Por calcular (cantidad)                       float64\n",
       "Por calcular (valor)                          float64\n",
       "NomSector_actual                               object\n",
       "Texto breve de material                        object\n",
       "TIPO                                           object\n",
       "Corresponde                                   float64\n",
       "dtype: object"
      ]
     },
     "execution_count": 179,
     "metadata": {},
     "output_type": "execute_result"
    }
   ],
   "source": [
    "me2l_cruce_sector.dtypes"
   ]
  },
  {
   "cell_type": "code",
   "execution_count": 180,
   "metadata": {},
   "outputs": [],
   "source": [
    "me2l_cruce_sector['Posición'] = me2l_cruce_sector['Posición'].astype('str')"
   ]
  },
  {
   "cell_type": "code",
   "execution_count": 181,
   "metadata": {},
   "outputs": [],
   "source": [
    "me2l_cruce_sector['AUX'] = me2l_cruce_sector['Documento compras'] + me2l_cruce_sector['Posición']"
   ]
  },
  {
   "cell_type": "code",
   "execution_count": 182,
   "metadata": {},
   "outputs": [],
   "source": [
    "me2l_cruce_sector['Origen'] = \"\""
   ]
  },
  {
   "cell_type": "code",
   "execution_count": 183,
   "metadata": {},
   "outputs": [],
   "source": [
    "me2l_cruce_sector = me2l_cruce_sector[['AUX','Documento compras', 'Posición', 'Reparto','Cl.documento compras','Tipo doc.compras',\n",
    "       'Grupo de compras','Historial pedido/Docu.orden entrega', 'Fecha documento', 'Material Antiguo','Material', 'Texto breve','Grupo de artículos',\n",
    "       'Indicador de borrado','Tipo de posición', 'Tipo de imputación', 'Centro', 'Almacén', 'Cantidad de reparto', 'Cantidad de pedido',\n",
    "       'Unidad medida pedido', 'Precio neto', 'Moneda', 'Cantidad base',\n",
    "       'Fecha de entrega','Hora', 'Fecha entrega estad.', 'Cantidad anterior',\n",
    "       'Cantidad entrada', 'Cantidad de salida', 'Cantidad entregada',\n",
    "       'Solicitud de pedido', 'Pos.solicitud pedido', 'Indicador creación',\n",
    "       'Cantidad de posiciones', 'Nombre de proveedor',\n",
    "       'Por entregar (cantidad)', 'Por entregar (valor)',\n",
    "       'Por calcular (cantidad)', 'Por calcular (valor)', 'NomSector_actual','Origen', 'TIPO',  'Corresponde']]"
   ]
  },
  {
   "cell_type": "code",
   "execution_count": 184,
   "metadata": {},
   "outputs": [],
   "source": [
    "me2l_base_tr = me2l_cruce_sector[me2l_cruce_sector['NomSector_actual'].notna()]"
   ]
  },
  {
   "cell_type": "code",
   "execution_count": 185,
   "metadata": {},
   "outputs": [
    {
     "data": {
      "text/plain": [
       "(19355, 44)"
      ]
     },
     "execution_count": 185,
     "metadata": {},
     "output_type": "execute_result"
    }
   ],
   "source": [
    "me2l_base_tr.shape"
   ]
  },
  {
   "cell_type": "code",
   "execution_count": 186,
   "metadata": {},
   "outputs": [
    {
     "name": "stderr",
     "output_type": "stream",
     "text": [
      "C:\\Users\\lravlic\\AppData\\Local\\Temp\\ipykernel_16344\\3910453820.py:1: SettingWithCopyWarning: \n",
      "A value is trying to be set on a copy of a slice from a DataFrame\n",
      "\n",
      "See the caveats in the documentation: https://pandas.pydata.org/pandas-docs/stable/user_guide/indexing.html#returning-a-view-versus-a-copy\n",
      "  me2l_base_tr['Corresponde'].fillna(0, inplace=True)\n",
      "C:\\Users\\lravlic\\AppData\\Local\\Temp\\ipykernel_16344\\3910453820.py:2: SettingWithCopyWarning: \n",
      "A value is trying to be set on a copy of a slice from a DataFrame\n",
      "\n",
      "See the caveats in the documentation: https://pandas.pydata.org/pandas-docs/stable/user_guide/indexing.html#returning-a-view-versus-a-copy\n",
      "  me2l_base_tr['Corresponde'].replace({0:1}, inplace=True)\n"
     ]
    }
   ],
   "source": [
    "me2l_base_tr['Corresponde'].fillna(0, inplace=True)\n",
    "me2l_base_tr['Corresponde'].replace({0:1}, inplace=True)"
   ]
  },
  {
   "cell_type": "code",
   "execution_count": 187,
   "metadata": {},
   "outputs": [],
   "source": [
    "bases_oc = me2l_base_tr.groupby(['Documento compras'])['Posición'].count().sort_values(ascending=False).reset_index()"
   ]
  },
  {
   "cell_type": "code",
   "execution_count": 188,
   "metadata": {},
   "outputs": [
    {
     "data": {
      "text/plain": [
       "(2264, 2)"
      ]
     },
     "execution_count": 188,
     "metadata": {},
     "output_type": "execute_result"
    }
   ],
   "source": [
    "bases_oc.shape"
   ]
  },
  {
   "cell_type": "code",
   "execution_count": 189,
   "metadata": {},
   "outputs": [
    {
     "name": "stderr",
     "output_type": "stream",
     "text": [
      "c:\\Users\\lravlic\\AppData\\Local\\Programs\\Python\\Python312\\Lib\\site-packages\\numpy\\core\\fromnumeric.py:59: FutureWarning: 'DataFrame.swapaxes' is deprecated and will be removed in a future version. Please use 'DataFrame.transpose' instead.\n",
      "  return bound(*args, **kwds)\n"
     ]
    }
   ],
   "source": [
    "\n",
    "\n",
    "# Calculate the number of rows in each part\n",
    "num_rows_per_part = len(bases_oc) // 5  # Integer division to get an equal split\n",
    "\n",
    "# Split the DataFrame into five parts\n",
    "df_parts = np.array_split(bases_oc, 5)\n",
    "\n",
    "\n",
    "# Alternatively, you can access the parts using indexing (e.g., df_parts[0], df_parts[1], etc.)\n",
    "\n",
    "# Each part will have a similar number of rows\n"
   ]
  },
  {
   "cell_type": "code",
   "execution_count": 190,
   "metadata": {},
   "outputs": [],
   "source": [
    "df_parts[0]['Documento compras'].to_clipboard(header=False, index=False)"
   ]
  },
  {
   "cell_type": "code",
   "execution_count": 191,
   "metadata": {},
   "outputs": [],
   "source": [
    "df_parts[1]['Documento compras'].to_clipboard(header=False, index=False)"
   ]
  },
  {
   "cell_type": "code",
   "execution_count": 192,
   "metadata": {},
   "outputs": [],
   "source": [
    "df_parts[2]['Documento compras'].to_clipboard(header=False, index=False)"
   ]
  },
  {
   "cell_type": "code",
   "execution_count": 193,
   "metadata": {},
   "outputs": [],
   "source": [
    "df_parts[3]['Documento compras'].to_clipboard(header=False, index=False)"
   ]
  },
  {
   "cell_type": "code",
   "execution_count": 194,
   "metadata": {},
   "outputs": [],
   "source": [
    "df_parts[4]['Documento compras'].to_clipboard(header=False, index=False)"
   ]
  },
  {
   "cell_type": "code",
   "execution_count": 195,
   "metadata": {},
   "outputs": [],
   "source": [
    "bases_oc['Documento compras'].to_clipboard(header=False, index=False)"
   ]
  },
  {
   "cell_type": "code",
   "execution_count": 196,
   "metadata": {},
   "outputs": [],
   "source": [
    "lista = os.listdir('C:/Users/lravlic/PROYECTOS DATA/PRUEBAS TRANSITO')"
   ]
  },
  {
   "cell_type": "code",
   "execution_count": 197,
   "metadata": {},
   "outputs": [],
   "source": [
    "dfs = []\n",
    "\n",
    "for i in lista:\n",
    "    if 'MONITOR' in i or 'monitor' in i:\n",
    "        df = pd.read_excel(i, index_col=None)\n",
    "        dfs.append(df)\n"
   ]
  },
  {
   "cell_type": "code",
   "execution_count": 198,
   "metadata": {},
   "outputs": [
    {
     "name": "stdout",
     "output_type": "stream",
     "text": [
      "ee.XLSX\n"
     ]
    }
   ],
   "source": [
    "for i in lista:\n",
    "    if 'ee' in i or 'EE' in i or 'entrega entrante' in i or 'ENTREGA ENTRANTE' in i:\n",
    "        df_ee = pd.read_excel(i)\n",
    "        print(i)"
   ]
  },
  {
   "cell_type": "code",
   "execution_count": 199,
   "metadata": {},
   "outputs": [],
   "source": [
    "monitor_df = pd.concat(dfs,axis=0, ignore_index=True)"
   ]
  },
  {
   "cell_type": "code",
   "execution_count": 200,
   "metadata": {},
   "outputs": [],
   "source": [
    "#monitor_df = monitor_df[['Nro. OC SAP','Clase Doc. OC','Posición OC SAP','Ind. Borrado OC','Clase Doc. SP','Nro. SOLPED','Posición SOLPED','Ind. Borrado SP','Cant. UN. OC','N° MIRO','Posición Factura',\n",
    "#'Cant. Factura','Fe. Confirmación','Fe. Compromiso','Fe. ATA','TF de ATA','Cantidad en BO','Ind. Borrado PO']]"
   ]
  },
  {
   "cell_type": "code",
   "execution_count": 201,
   "metadata": {},
   "outputs": [],
   "source": [
    "monitor_df['Nro. OC SAP'] = monitor_df['Nro. OC SAP'].astype('str')\n",
    "monitor_df['Posición OC SAP'] = monitor_df['Posición OC SAP'].astype('str')\n"
   ]
  },
  {
   "cell_type": "code",
   "execution_count": 202,
   "metadata": {},
   "outputs": [],
   "source": [
    "monitor_df['AUX'] = monitor_df['Nro. OC SAP'] + monitor_df['Posición OC SAP']"
   ]
  },
  {
   "cell_type": "code",
   "execution_count": 203,
   "metadata": {},
   "outputs": [],
   "source": [
    "monitor_df['N° MIRO'] = monitor_df['N° MIRO'].astype('str')"
   ]
  },
  {
   "cell_type": "code",
   "execution_count": 204,
   "metadata": {},
   "outputs": [],
   "source": [
    "#revision = monitor_df.groupby('AUX')['Fe. ATA'].nunique().sort_values(ascending=False).reset_index()"
   ]
  },
  {
   "cell_type": "code",
   "execution_count": null,
   "metadata": {},
   "outputs": [],
   "source": []
  },
  {
   "cell_type": "code",
   "execution_count": 205,
   "metadata": {},
   "outputs": [],
   "source": [
    "tabla_1 = monitor_df[monitor_df['Ind. Borrado OC'].isna() &\n",
    "    monitor_df['Ind. Borrado SP'].isna() &\n",
    "    monitor_df['Ind. Borrado PO'].isna()].groupby(['AUX', 'N° MIRO']).agg({'Cant. UN. OC':'mean', 'Cant. Factura':'max','Cantidad en BO':'mean'})"
   ]
  },
  {
   "cell_type": "code",
   "execution_count": 206,
   "metadata": {},
   "outputs": [
    {
     "data": {
      "text/html": [
       "<div>\n",
       "<style scoped>\n",
       "    .dataframe tbody tr th:only-of-type {\n",
       "        vertical-align: middle;\n",
       "    }\n",
       "\n",
       "    .dataframe tbody tr th {\n",
       "        vertical-align: top;\n",
       "    }\n",
       "\n",
       "    .dataframe thead th {\n",
       "        text-align: right;\n",
       "    }\n",
       "</style>\n",
       "<table border=\"1\" class=\"dataframe\">\n",
       "  <thead>\n",
       "    <tr style=\"text-align: right;\">\n",
       "      <th></th>\n",
       "      <th></th>\n",
       "      <th>Cant. UN. OC</th>\n",
       "      <th>Cant. Factura</th>\n",
       "      <th>Cantidad en BO</th>\n",
       "    </tr>\n",
       "    <tr>\n",
       "      <th>AUX</th>\n",
       "      <th>N° MIRO</th>\n",
       "      <th></th>\n",
       "      <th></th>\n",
       "      <th></th>\n",
       "    </tr>\n",
       "  </thead>\n",
       "  <tbody>\n",
       "    <tr>\n",
       "      <th>420000203610</th>\n",
       "      <th>5105776555.0</th>\n",
       "      <td>6.0</td>\n",
       "      <td>6</td>\n",
       "      <td>0.0</td>\n",
       "    </tr>\n",
       "    <tr>\n",
       "      <th>4200002036100</th>\n",
       "      <th>5105780925.0</th>\n",
       "      <td>1.0</td>\n",
       "      <td>1</td>\n",
       "      <td>0.0</td>\n",
       "    </tr>\n",
       "    <tr>\n",
       "      <th>42000020361000</th>\n",
       "      <th>5105828213.0</th>\n",
       "      <td>8.0</td>\n",
       "      <td>8</td>\n",
       "      <td>0.0</td>\n",
       "    </tr>\n",
       "    <tr>\n",
       "      <th>42000020361010</th>\n",
       "      <th>5105780925.0</th>\n",
       "      <td>1.0</td>\n",
       "      <td>1</td>\n",
       "      <td>0.0</td>\n",
       "    </tr>\n",
       "    <tr>\n",
       "      <th>42000020361020</th>\n",
       "      <th>5105776555.0</th>\n",
       "      <td>1.0</td>\n",
       "      <td>1</td>\n",
       "      <td>0.0</td>\n",
       "    </tr>\n",
       "    <tr>\n",
       "      <th>...</th>\n",
       "      <th>...</th>\n",
       "      <td>...</td>\n",
       "      <td>...</td>\n",
       "      <td>...</td>\n",
       "    </tr>\n",
       "    <tr>\n",
       "      <th>470002199690</th>\n",
       "      <th>nan</th>\n",
       "      <td>3.0</td>\n",
       "      <td>0</td>\n",
       "      <td>3.0</td>\n",
       "    </tr>\n",
       "    <tr>\n",
       "      <th>470002199810</th>\n",
       "      <th>nan</th>\n",
       "      <td>100.0</td>\n",
       "      <td>0</td>\n",
       "      <td>100.0</td>\n",
       "    </tr>\n",
       "    <tr>\n",
       "      <th>470002199820</th>\n",
       "      <th>nan</th>\n",
       "      <td>10.0</td>\n",
       "      <td>0</td>\n",
       "      <td>10.0</td>\n",
       "    </tr>\n",
       "    <tr>\n",
       "      <th>470002199830</th>\n",
       "      <th>nan</th>\n",
       "      <td>400.0</td>\n",
       "      <td>0</td>\n",
       "      <td>400.0</td>\n",
       "    </tr>\n",
       "    <tr>\n",
       "      <th>470002199840</th>\n",
       "      <th>nan</th>\n",
       "      <td>400.0</td>\n",
       "      <td>0</td>\n",
       "      <td>400.0</td>\n",
       "    </tr>\n",
       "  </tbody>\n",
       "</table>\n",
       "<p>151413 rows × 3 columns</p>\n",
       "</div>"
      ],
      "text/plain": [
       "                             Cant. UN. OC  Cant. Factura  Cantidad en BO\n",
       "AUX            N° MIRO                                                  \n",
       "420000203610   5105776555.0           6.0              6             0.0\n",
       "4200002036100  5105780925.0           1.0              1             0.0\n",
       "42000020361000 5105828213.0           8.0              8             0.0\n",
       "42000020361010 5105780925.0           1.0              1             0.0\n",
       "42000020361020 5105776555.0           1.0              1             0.0\n",
       "...                                   ...            ...             ...\n",
       "470002199690   nan                    3.0              0             3.0\n",
       "470002199810   nan                  100.0              0           100.0\n",
       "470002199820   nan                   10.0              0            10.0\n",
       "470002199830   nan                  400.0              0           400.0\n",
       "470002199840   nan                  400.0              0           400.0\n",
       "\n",
       "[151413 rows x 3 columns]"
      ]
     },
     "execution_count": 206,
     "metadata": {},
     "output_type": "execute_result"
    }
   ],
   "source": [
    "tabla_1"
   ]
  },
  {
   "cell_type": "code",
   "execution_count": 207,
   "metadata": {},
   "outputs": [],
   "source": [
    "tabla_final = tabla_1.groupby(['AUX']).agg({'Cant. UN. OC':'mean','Cant. Factura':'sum', 'Cantidad en BO':'mean'}).reset_index()"
   ]
  },
  {
   "cell_type": "code",
   "execution_count": 208,
   "metadata": {},
   "outputs": [
    {
     "name": "stdout",
     "output_type": "stream",
     "text": [
      "Dimension de tabla final: (139222, 4)\n",
      "----------------------------------------\n",
      "Total Campo OC: 3939020.0\n",
      "Total Campo Factura: 2484329\n",
      "Total Campo BO: 1378451.5\n"
     ]
    }
   ],
   "source": [
    "print(f'Dimension de tabla final: {tabla_final.shape}')\n",
    "print('-'*40)\n",
    "print(f'Total Campo OC: {tabla_final['Cant. UN. OC'].sum()}')\n",
    "print(f'Total Campo Factura: {tabla_final['Cant. Factura'].sum()}')\n",
    "print(f'Total Campo BO: {tabla_final['Cantidad en BO'].sum()}')"
   ]
  },
  {
   "cell_type": "code",
   "execution_count": 209,
   "metadata": {},
   "outputs": [],
   "source": [
    "tabla_final.to_excel('Monitor TD.xlsx')"
   ]
  },
  {
   "cell_type": "code",
   "execution_count": 210,
   "metadata": {},
   "outputs": [
    {
     "data": {
      "text/plain": [
       "(214459, 13)"
      ]
     },
     "execution_count": 210,
     "metadata": {},
     "output_type": "execute_result"
    }
   ],
   "source": [
    "df_ee.shape"
   ]
  },
  {
   "cell_type": "code",
   "execution_count": 211,
   "metadata": {},
   "outputs": [],
   "source": [
    "df_ee.to_excel('Base Entregas.xlsx')"
   ]
  },
  {
   "cell_type": "code",
   "execution_count": 212,
   "metadata": {},
   "outputs": [],
   "source": [
    "df_ee = df_ee[['Documento compras','Posición modelo', 'Cantidad entrega', 'Estado movim.mcías.']]"
   ]
  },
  {
   "cell_type": "code",
   "execution_count": 213,
   "metadata": {},
   "outputs": [],
   "source": [
    "df_ee['Documento compras'] = df_ee['Documento compras'].astype('str')\n",
    "df_ee['Posición modelo'] = df_ee['Posición modelo'].astype('str')"
   ]
  },
  {
   "cell_type": "code",
   "execution_count": 214,
   "metadata": {},
   "outputs": [
    {
     "data": {
      "text/plain": [
       "Documento compras       object\n",
       "Posición modelo         object\n",
       "Cantidad entrega       float64\n",
       "Estado movim.mcías.     object\n",
       "dtype: object"
      ]
     },
     "execution_count": 214,
     "metadata": {},
     "output_type": "execute_result"
    }
   ],
   "source": [
    "df_ee.dtypes"
   ]
  },
  {
   "cell_type": "code",
   "execution_count": 215,
   "metadata": {},
   "outputs": [
    {
     "data": {
      "text/html": [
       "<div>\n",
       "<style scoped>\n",
       "    .dataframe tbody tr th:only-of-type {\n",
       "        vertical-align: middle;\n",
       "    }\n",
       "\n",
       "    .dataframe tbody tr th {\n",
       "        vertical-align: top;\n",
       "    }\n",
       "\n",
       "    .dataframe thead th {\n",
       "        text-align: right;\n",
       "    }\n",
       "</style>\n",
       "<table border=\"1\" class=\"dataframe\">\n",
       "  <thead>\n",
       "    <tr style=\"text-align: right;\">\n",
       "      <th></th>\n",
       "      <th>Cantidad entrega</th>\n",
       "      <th>Estado movim.mcías.</th>\n",
       "      <th>AUX</th>\n",
       "    </tr>\n",
       "  </thead>\n",
       "  <tbody>\n",
       "    <tr>\n",
       "      <th>0</th>\n",
       "      <td>1.0</td>\n",
       "      <td>C</td>\n",
       "      <td>430000110030</td>\n",
       "    </tr>\n",
       "    <tr>\n",
       "      <th>1</th>\n",
       "      <td>1.0</td>\n",
       "      <td>C</td>\n",
       "      <td>4300001100210</td>\n",
       "    </tr>\n",
       "    <tr>\n",
       "      <th>2</th>\n",
       "      <td>1.0</td>\n",
       "      <td>C</td>\n",
       "      <td>4300001277100</td>\n",
       "    </tr>\n",
       "    <tr>\n",
       "      <th>3</th>\n",
       "      <td>1.0</td>\n",
       "      <td>C</td>\n",
       "      <td>4300001277200</td>\n",
       "    </tr>\n",
       "    <tr>\n",
       "      <th>4</th>\n",
       "      <td>1.0</td>\n",
       "      <td>C</td>\n",
       "      <td>430000127830</td>\n",
       "    </tr>\n",
       "    <tr>\n",
       "      <th>...</th>\n",
       "      <td>...</td>\n",
       "      <td>...</td>\n",
       "      <td>...</td>\n",
       "    </tr>\n",
       "    <tr>\n",
       "      <th>214454</th>\n",
       "      <td>500.0</td>\n",
       "      <td>A</td>\n",
       "      <td>470002166740</td>\n",
       "    </tr>\n",
       "    <tr>\n",
       "      <th>214455</th>\n",
       "      <td>500.0</td>\n",
       "      <td>A</td>\n",
       "      <td>470002166750</td>\n",
       "    </tr>\n",
       "    <tr>\n",
       "      <th>214456</th>\n",
       "      <td>560.0</td>\n",
       "      <td>A</td>\n",
       "      <td>470002166760</td>\n",
       "    </tr>\n",
       "    <tr>\n",
       "      <th>214457</th>\n",
       "      <td>363.0</td>\n",
       "      <td>A</td>\n",
       "      <td>470002174510</td>\n",
       "    </tr>\n",
       "    <tr>\n",
       "      <th>214458</th>\n",
       "      <td>535.0</td>\n",
       "      <td>A</td>\n",
       "      <td>470002174520</td>\n",
       "    </tr>\n",
       "  </tbody>\n",
       "</table>\n",
       "<p>214459 rows × 3 columns</p>\n",
       "</div>"
      ],
      "text/plain": [
       "        Cantidad entrega Estado movim.mcías.            AUX\n",
       "0                    1.0                   C   430000110030\n",
       "1                    1.0                   C  4300001100210\n",
       "2                    1.0                   C  4300001277100\n",
       "3                    1.0                   C  4300001277200\n",
       "4                    1.0                   C   430000127830\n",
       "...                  ...                 ...            ...\n",
       "214454             500.0                   A   470002166740\n",
       "214455             500.0                   A   470002166750\n",
       "214456             560.0                   A   470002166760\n",
       "214457             363.0                   A   470002174510\n",
       "214458             535.0                   A   470002174520\n",
       "\n",
       "[214459 rows x 3 columns]"
      ]
     },
     "execution_count": 215,
     "metadata": {},
     "output_type": "execute_result"
    }
   ],
   "source": [
    "df_ee['AUX'] = df_ee['Documento compras'] + df_ee['Posición modelo']\n",
    "df_ee.drop(columns=['Documento compras','Posición modelo'])"
   ]
  },
  {
   "cell_type": "code",
   "execution_count": 216,
   "metadata": {},
   "outputs": [],
   "source": [
    "table_ee = df_ee[df_ee['Estado movim.mcías.']=='C'].groupby(['AUX'])['Cantidad entrega'].sum().reset_index()"
   ]
  },
  {
   "cell_type": "code",
   "execution_count": 217,
   "metadata": {},
   "outputs": [
    {
     "data": {
      "text/html": [
       "<div>\n",
       "<style scoped>\n",
       "    .dataframe tbody tr th:only-of-type {\n",
       "        vertical-align: middle;\n",
       "    }\n",
       "\n",
       "    .dataframe tbody tr th {\n",
       "        vertical-align: top;\n",
       "    }\n",
       "\n",
       "    .dataframe thead th {\n",
       "        text-align: right;\n",
       "    }\n",
       "</style>\n",
       "<table border=\"1\" class=\"dataframe\">\n",
       "  <thead>\n",
       "    <tr style=\"text-align: right;\">\n",
       "      <th></th>\n",
       "      <th>AUX</th>\n",
       "      <th>Cantidad entrega</th>\n",
       "    </tr>\n",
       "  </thead>\n",
       "  <tbody>\n",
       "    <tr>\n",
       "      <th>0</th>\n",
       "      <td>400002095760</td>\n",
       "      <td>1.0</td>\n",
       "    </tr>\n",
       "  </tbody>\n",
       "</table>\n",
       "</div>"
      ],
      "text/plain": [
       "            AUX  Cantidad entrega\n",
       "0  400002095760               1.0"
      ]
     },
     "execution_count": 217,
     "metadata": {},
     "output_type": "execute_result"
    }
   ],
   "source": [
    "table_ee[table_ee['AUX']=='400002095760']"
   ]
  },
  {
   "cell_type": "code",
   "execution_count": 218,
   "metadata": {},
   "outputs": [],
   "source": [
    "table_ee.to_excel('Entrega Entrante TD.xlsx')"
   ]
  },
  {
   "cell_type": "code",
   "execution_count": 219,
   "metadata": {},
   "outputs": [],
   "source": [
    "me2l_base_tr.to_excel('Base_+_15.xlsx')"
   ]
  },
  {
   "cell_type": "code",
   "execution_count": 220,
   "metadata": {},
   "outputs": [
    {
     "data": {
      "text/plain": [
       "(19355, 44)"
      ]
     },
     "execution_count": 220,
     "metadata": {},
     "output_type": "execute_result"
    }
   ],
   "source": [
    "me2l_base_tr.shape"
   ]
  },
  {
   "cell_type": "code",
   "execution_count": 221,
   "metadata": {},
   "outputs": [],
   "source": [
    "me2l_15 = me2l_base_tr"
   ]
  },
  {
   "cell_type": "code",
   "execution_count": null,
   "metadata": {},
   "outputs": [],
   "source": []
  },
  {
   "cell_type": "code",
   "execution_count": 222,
   "metadata": {},
   "outputs": [
    {
     "data": {
      "text/plain": [
       "Index(['Prefijo OC', 'Nro. OC SAP', 'Clase Doc. OC', 'Posición OC SAP',\n",
       "       'Ind. Borrado OC', 'Fecha Creación OC', 'Clase Doc. SP', 'Nro. SOLPED',\n",
       "       'Posición SOLPED', 'Ind. Borrado SP',\n",
       "       ...\n",
       "       'Días en BO', 'Días Pend. Emb.', 'Pedido Cerrado', 'Material Cotizado',\n",
       "       'Cód. Mat de prov en PO', 'Cantidad en BO', 'Pet.Ofert.Creado por',\n",
       "       'OC Creado por', 'Marcar para \"Cerrar\"', 'AUX'],\n",
       "      dtype='object', length=107)"
      ]
     },
     "execution_count": 222,
     "metadata": {},
     "output_type": "execute_result"
    }
   ],
   "source": [
    "monitor_df.columns"
   ]
  },
  {
   "cell_type": "code",
   "execution_count": 223,
   "metadata": {},
   "outputs": [],
   "source": [
    "monitor_df.drop_duplicates(subset=['AUX'], inplace=True)"
   ]
  },
  {
   "cell_type": "code",
   "execution_count": 224,
   "metadata": {},
   "outputs": [],
   "source": [
    "me2l_15 = me2l_base_tr"
   ]
  },
  {
   "cell_type": "code",
   "execution_count": 225,
   "metadata": {},
   "outputs": [
    {
     "data": {
      "text/plain": [
       "AUX                                            object\n",
       "Documento compras                              object\n",
       "Posición                                       object\n",
       "Reparto                                       float64\n",
       "Cl.documento compras                           object\n",
       "Tipo doc.compras                               object\n",
       "Grupo de compras                               object\n",
       "Historial pedido/Docu.orden entrega           float64\n",
       "Fecha documento                        datetime64[ns]\n",
       "Material Antiguo                               object\n",
       "Material                                       object\n",
       "Texto breve                                    object\n",
       "Grupo de artículos                             object\n",
       "Indicador de borrado                          float64\n",
       "Tipo de posición                              float64\n",
       "Tipo de imputación                             object\n",
       "Centro                                        float64\n",
       "Almacén                                       float64\n",
       "Cantidad de reparto                           float64\n",
       "Cantidad de pedido                            float64\n",
       "Unidad medida pedido                           object\n",
       "Precio neto                                   float64\n",
       "Moneda                                         object\n",
       "Cantidad base                                 float64\n",
       "Fecha de entrega                       datetime64[ns]\n",
       "Hora                                           object\n",
       "Fecha entrega estad.                   datetime64[ns]\n",
       "Cantidad anterior                             float64\n",
       "Cantidad entrada                              float64\n",
       "Cantidad de salida                            float64\n",
       "Cantidad entregada                            float64\n",
       "Solicitud de pedido                           float64\n",
       "Pos.solicitud pedido                          float64\n",
       "Indicador creación                             object\n",
       "Cantidad de posiciones                          int64\n",
       "Nombre de proveedor                            object\n",
       "Por entregar (cantidad)                       float64\n",
       "Por entregar (valor)                          float64\n",
       "Por calcular (cantidad)                       float64\n",
       "Por calcular (valor)                          float64\n",
       "NomSector_actual                               object\n",
       "Origen                                         object\n",
       "TIPO                                           object\n",
       "Corresponde                                   float64\n",
       "dtype: object"
      ]
     },
     "execution_count": 225,
     "metadata": {},
     "output_type": "execute_result"
    }
   ],
   "source": [
    "me2l_15.dtypes"
   ]
  },
  {
   "cell_type": "code",
   "execution_count": 226,
   "metadata": {},
   "outputs": [],
   "source": [
    "me2l_15 = me2l_15.merge(monitor_df[['AUX','Fe. ATA']], left_on='AUX', right_on='AUX', how = 'left')"
   ]
  },
  {
   "cell_type": "code",
   "execution_count": 227,
   "metadata": {},
   "outputs": [],
   "source": [
    "me2l_15['Fecha Est. Fact'] = np.where(me2l_15['Fe. ATA'].notnull(), me2l_15['Fe. ATA'] + pd.Timedelta(days=15), me2l_15['Fecha de entrega'])"
   ]
  },
  {
   "cell_type": "code",
   "execution_count": 228,
   "metadata": {},
   "outputs": [
    {
     "data": {
      "text/html": [
       "<div>\n",
       "<style scoped>\n",
       "    .dataframe tbody tr th:only-of-type {\n",
       "        vertical-align: middle;\n",
       "    }\n",
       "\n",
       "    .dataframe tbody tr th {\n",
       "        vertical-align: top;\n",
       "    }\n",
       "\n",
       "    .dataframe thead th {\n",
       "        text-align: right;\n",
       "    }\n",
       "</style>\n",
       "<table border=\"1\" class=\"dataframe\">\n",
       "  <thead>\n",
       "    <tr style=\"text-align: right;\">\n",
       "      <th></th>\n",
       "      <th>AUX</th>\n",
       "      <th>Cant. UN. OC</th>\n",
       "      <th>Cant. Factura</th>\n",
       "      <th>Cantidad en BO</th>\n",
       "    </tr>\n",
       "  </thead>\n",
       "  <tbody>\n",
       "    <tr>\n",
       "      <th>0</th>\n",
       "      <td>420000203610</td>\n",
       "      <td>6.0</td>\n",
       "      <td>6</td>\n",
       "      <td>0.0</td>\n",
       "    </tr>\n",
       "    <tr>\n",
       "      <th>1</th>\n",
       "      <td>4200002036100</td>\n",
       "      <td>1.0</td>\n",
       "      <td>1</td>\n",
       "      <td>0.0</td>\n",
       "    </tr>\n",
       "    <tr>\n",
       "      <th>2</th>\n",
       "      <td>42000020361000</td>\n",
       "      <td>8.0</td>\n",
       "      <td>8</td>\n",
       "      <td>0.0</td>\n",
       "    </tr>\n",
       "    <tr>\n",
       "      <th>3</th>\n",
       "      <td>42000020361010</td>\n",
       "      <td>1.0</td>\n",
       "      <td>1</td>\n",
       "      <td>0.0</td>\n",
       "    </tr>\n",
       "    <tr>\n",
       "      <th>4</th>\n",
       "      <td>42000020361020</td>\n",
       "      <td>1.0</td>\n",
       "      <td>1</td>\n",
       "      <td>0.0</td>\n",
       "    </tr>\n",
       "  </tbody>\n",
       "</table>\n",
       "</div>"
      ],
      "text/plain": [
       "              AUX  Cant. UN. OC  Cant. Factura  Cantidad en BO\n",
       "0    420000203610           6.0              6             0.0\n",
       "1   4200002036100           1.0              1             0.0\n",
       "2  42000020361000           8.0              8             0.0\n",
       "3  42000020361010           1.0              1             0.0\n",
       "4  42000020361020           1.0              1             0.0"
      ]
     },
     "execution_count": 228,
     "metadata": {},
     "output_type": "execute_result"
    }
   ],
   "source": [
    "tabla_final.head()"
   ]
  },
  {
   "cell_type": "code",
   "execution_count": 229,
   "metadata": {},
   "outputs": [],
   "source": [
    "me2l_15 = me2l_15.merge(tabla_final[['AUX', 'Cant. Factura']], left_on = 'AUX', right_on='AUX',how='left')"
   ]
  },
  {
   "cell_type": "code",
   "execution_count": 230,
   "metadata": {},
   "outputs": [],
   "source": [
    "me2l_15['Cant. Factura'] = me2l_15['Cant. Factura'] * me2l_15['Corresponde']"
   ]
  },
  {
   "cell_type": "code",
   "execution_count": 231,
   "metadata": {},
   "outputs": [
    {
     "data": {
      "text/plain": [
       "Index(['AUX', 'Cantidad entrega'], dtype='object')"
      ]
     },
     "execution_count": 231,
     "metadata": {},
     "output_type": "execute_result"
    }
   ],
   "source": [
    "table_ee.columns"
   ]
  },
  {
   "cell_type": "code",
   "execution_count": 232,
   "metadata": {},
   "outputs": [],
   "source": [
    "me2l_15= me2l_15.merge(table_ee, left_on='AUX', right_on='AUX', how='left')"
   ]
  },
  {
   "cell_type": "code",
   "execution_count": 233,
   "metadata": {},
   "outputs": [],
   "source": [
    "me2l_15['Cantidad entrega'] = me2l_15['Cantidad entrega']*me2l_15['Corresponde']"
   ]
  },
  {
   "cell_type": "code",
   "execution_count": 234,
   "metadata": {},
   "outputs": [
    {
     "data": {
      "text/plain": [
       "77200.99799999999"
      ]
     },
     "execution_count": 234,
     "metadata": {},
     "output_type": "execute_result"
    }
   ],
   "source": [
    "me2l_15['Cantidad entrega'].sum()"
   ]
  },
  {
   "cell_type": "code",
   "execution_count": 235,
   "metadata": {},
   "outputs": [],
   "source": [
    "me2l_15['Qty por Entregar'] = me2l_15['Por entregar (cantidad)']*me2l_15['Corresponde']"
   ]
  },
  {
   "cell_type": "code",
   "execution_count": 236,
   "metadata": {},
   "outputs": [
    {
     "data": {
      "text/plain": [
       "2549315.0"
      ]
     },
     "execution_count": 236,
     "metadata": {},
     "output_type": "execute_result"
    }
   ],
   "source": [
    "me2l_15['Qty por Entregar'].sum()"
   ]
  },
  {
   "cell_type": "code",
   "execution_count": 237,
   "metadata": {},
   "outputs": [],
   "source": [
    "#cambiar esto por la fecha del dia actual\n",
    "\n",
    "hoy = datetime.date(2024,2,12)"
   ]
  },
  {
   "cell_type": "code",
   "execution_count": null,
   "metadata": {},
   "outputs": [],
   "source": []
  },
  {
   "cell_type": "code",
   "execution_count": 238,
   "metadata": {},
   "outputs": [],
   "source": [
    "me2l_15['Cantidad entrega'].fillna(0, inplace=True)"
   ]
  },
  {
   "cell_type": "code",
   "execution_count": 239,
   "metadata": {},
   "outputs": [],
   "source": [
    "\n",
    "\n",
    "# Suponiendo que 'me2l_15' es tu DataFrame y 'AW4', 'BJ4' y 'AT4' son columnas en tu DataFrame\n",
    "result = me2l_15['Cant. Factura'] - me2l_15['Cantidad entrega']\n",
    "result = np.where(np.isnan(result), me2l_15['Qty por Entregar'], result)\n",
    "\n",
    "me2l_15['Qty Fact Corr'] = np.where(result<0, 0, result)"
   ]
  },
  {
   "cell_type": "code",
   "execution_count": 240,
   "metadata": {},
   "outputs": [
    {
     "data": {
      "text/plain": [
       "759264.0"
      ]
     },
     "execution_count": 240,
     "metadata": {},
     "output_type": "execute_result"
    }
   ],
   "source": [
    "me2l_15['Qty Fact Corr'].sum()"
   ]
  },
  {
   "cell_type": "code",
   "execution_count": 241,
   "metadata": {},
   "outputs": [],
   "source": [
    "hoy = pd.to_datetime(hoy)"
   ]
  },
  {
   "cell_type": "code",
   "execution_count": 242,
   "metadata": {},
   "outputs": [
    {
     "data": {
      "text/plain": [
       "Timestamp('2024-11-01 00:00:00')"
      ]
     },
     "execution_count": 242,
     "metadata": {},
     "output_type": "execute_result"
    }
   ],
   "source": [
    "me2l_15[ 'Fecha Est. Fact'].max()"
   ]
  },
  {
   "cell_type": "code",
   "execution_count": 243,
   "metadata": {},
   "outputs": [],
   "source": [
    "conditions = [\n",
    "    (me2l_15['Qty Fact Corr'] > 0) & (me2l_15['Fecha Est. Fact'] >= hoy),\n",
    "    (me2l_15['Qty Fact Corr'] > 0) & (me2l_15['Fecha Est. Fact'] < hoy)\n",
    "]\n",
    "\n",
    "choices = ['Facturado No Vencido', 'Facturado Vencido']\n",
    "\n",
    "me2l_15['Status TR Fact'] = np.select(conditions, choices, default='No Facturado')"
   ]
  },
  {
   "cell_type": "code",
   "execution_count": 244,
   "metadata": {},
   "outputs": [
    {
     "data": {
      "text/plain": [
       "Status TR Fact\n",
       "No Facturado            16342\n",
       "Facturado No Vencido     2521\n",
       "Facturado Vencido         492\n",
       "Name: count, dtype: int64"
      ]
     },
     "execution_count": 244,
     "metadata": {},
     "output_type": "execute_result"
    }
   ],
   "source": [
    "me2l_15['Status TR Fact'].value_counts()"
   ]
  },
  {
   "cell_type": "code",
   "execution_count": 245,
   "metadata": {},
   "outputs": [],
   "source": [
    "from datetime import timedelta, datetime\n",
    "\n",
    "hoy_31 = hoy  + timedelta(days=31)"
   ]
  },
  {
   "cell_type": "code",
   "execution_count": 246,
   "metadata": {},
   "outputs": [],
   "source": [
    "hoy_31 = pd.to_datetime(hoy_31)"
   ]
  },
  {
   "cell_type": "code",
   "execution_count": null,
   "metadata": {},
   "outputs": [],
   "source": []
  },
  {
   "cell_type": "code",
   "execution_count": 247,
   "metadata": {},
   "outputs": [],
   "source": [
    "condition = (me2l_15['Fecha de entrega'] > hoy) & (me2l_15['Fecha de entrega'] < hoy_31)\n",
    "\n",
    "# Apply the condition using boolean indexing and assign 'SI' or 'NO' accordingly\n",
    "me2l_15['Fecha BO Mes Actual'] = np.where(condition, 'SI', 'NO')"
   ]
  },
  {
   "cell_type": "code",
   "execution_count": 248,
   "metadata": {},
   "outputs": [
    {
     "data": {
      "text/plain": [
       "Fecha BO Mes Actual\n",
       "NO    14868\n",
       "SI     4487\n",
       "Name: count, dtype: int64"
      ]
     },
     "execution_count": 248,
     "metadata": {},
     "output_type": "execute_result"
    }
   ],
   "source": [
    "me2l_15['Fecha BO Mes Actual'].value_counts()"
   ]
  },
  {
   "cell_type": "code",
   "execution_count": 249,
   "metadata": {},
   "outputs": [],
   "source": [
    "condition= (me2l_15['Fecha de entrega']< hoy)\n",
    "\n",
    "me2l_15['TR Vencido'] = np.where(condition, 'SI','NO')"
   ]
  },
  {
   "cell_type": "code",
   "execution_count": 250,
   "metadata": {},
   "outputs": [
    {
     "data": {
      "text/plain": [
       "TR Vencido\n",
       "NO    11507\n",
       "SI     7848\n",
       "Name: count, dtype: int64"
      ]
     },
     "execution_count": 250,
     "metadata": {},
     "output_type": "execute_result"
    }
   ],
   "source": [
    "me2l_15['TR Vencido'].value_counts()"
   ]
  },
  {
   "cell_type": "code",
   "execution_count": 251,
   "metadata": {},
   "outputs": [],
   "source": [
    "conditions = [\n",
    "    (me2l_15['Fecha BO Mes Actual'] == \"NO\") & (me2l_15['TR Vencido'] == \"NO\"),\n",
    "    (me2l_15['TR Vencido'] == \"SI\"),\n",
    "]\n",
    "\n",
    "# Define choices\n",
    "choices = [\n",
    "    \"Fecha Teórica\",\n",
    "    \"TR Vencido\",\n",
    "]\n",
    "\n",
    "# Apply np.select\n",
    "me2l_15['Statur TR No FAct'] = np.select(conditions, choices, default=\"Replanificar +45\")"
   ]
  },
  {
   "cell_type": "code",
   "execution_count": 252,
   "metadata": {},
   "outputs": [
    {
     "data": {
      "text/plain": [
       "812221.0"
      ]
     },
     "execution_count": 252,
     "metadata": {},
     "output_type": "execute_result"
    }
   ],
   "source": [
    "me2l_15['Cant. Factura'].sum()"
   ]
  },
  {
   "cell_type": "code",
   "execution_count": 253,
   "metadata": {},
   "outputs": [],
   "source": [
    "#Qty BO\n",
    "me2l_15['Cant. BO'] = me2l_15['Cant. Factura'].fillna(0, inplace=True)"
   ]
  },
  {
   "cell_type": "code",
   "execution_count": 254,
   "metadata": {},
   "outputs": [],
   "source": [
    "#Cant Factura : Cant Fact CORR\n",
    "#QTY BO: CHECK"
   ]
  },
  {
   "cell_type": "code",
   "execution_count": 255,
   "metadata": {},
   "outputs": [],
   "source": [
    "condicion = (me2l_15['Fecha Est. Fact'] < hoy)\n",
    "\n",
    "me2l_15['Atraso'] = np.where(condicion, 'SI','NO')"
   ]
  },
  {
   "cell_type": "code",
   "execution_count": 256,
   "metadata": {},
   "outputs": [
    {
     "data": {
      "text/plain": [
       "Atraso\n",
       "NO    11414\n",
       "SI     7941\n",
       "Name: count, dtype: int64"
      ]
     },
     "execution_count": 256,
     "metadata": {},
     "output_type": "execute_result"
    }
   ],
   "source": [
    "me2l_15['Atraso'].value_counts()"
   ]
  },
  {
   "cell_type": "code",
   "execution_count": 257,
   "metadata": {},
   "outputs": [
    {
     "data": {
      "text/plain": [
       "0       2022-02-22\n",
       "1       2020-09-16\n",
       "2       2021-12-29\n",
       "3       2021-12-29\n",
       "4       2021-12-29\n",
       "           ...    \n",
       "19350   2024-03-30\n",
       "19351   2024-03-30\n",
       "19352   2024-03-30\n",
       "19353   2024-03-04\n",
       "19354   2024-04-25\n",
       "Name: Fecha Est. Fact, Length: 19355, dtype: datetime64[ns]"
      ]
     },
     "execution_count": 257,
     "metadata": {},
     "output_type": "execute_result"
    }
   ],
   "source": [
    "me2l_15['Fecha Est. Fact']"
   ]
  },
  {
   "cell_type": "code",
   "execution_count": 258,
   "metadata": {},
   "outputs": [],
   "source": [
    "condicion = (me2l_15['Atraso'] == 'SI')\n",
    "\n",
    "me2l_15['Fecha Facturacion Final'] = np.where(condicion, hoy_31, me2l_15['Fecha Est. Fact'])\n",
    "\n"
   ]
  },
  {
   "cell_type": "code",
   "execution_count": 259,
   "metadata": {},
   "outputs": [
    {
     "data": {
      "text/plain": [
       "0        2024-03-14 00:00:00\n",
       "1        2024-03-14 00:00:00\n",
       "2        2024-03-14 00:00:00\n",
       "3        2024-03-14 00:00:00\n",
       "4        2024-03-14 00:00:00\n",
       "                ...         \n",
       "19350    1711756800000000000\n",
       "19351    1711756800000000000\n",
       "19352    1711756800000000000\n",
       "19353    1709510400000000000\n",
       "19354    1714003200000000000\n",
       "Name: Fecha Facturacion Final, Length: 19355, dtype: object"
      ]
     },
     "execution_count": 259,
     "metadata": {},
     "output_type": "execute_result"
    }
   ],
   "source": [
    "me2l_15['Fecha Facturacion Final']"
   ]
  },
  {
   "cell_type": "code",
   "execution_count": 260,
   "metadata": {},
   "outputs": [],
   "source": [
    "me2l_15['Fecha Facturacion Final'] = pd.to_datetime(me2l_15['Fecha Facturacion Final'])"
   ]
  },
  {
   "cell_type": "code",
   "execution_count": 261,
   "metadata": {},
   "outputs": [
    {
     "data": {
      "text/plain": [
       "0       2024-03-14\n",
       "1       2024-03-14\n",
       "2       2024-03-14\n",
       "3       2024-03-14\n",
       "4       2024-03-14\n",
       "           ...    \n",
       "19350   2024-03-30\n",
       "19351   2024-03-30\n",
       "19352   2024-03-30\n",
       "19353   2024-03-04\n",
       "19354   2024-04-25\n",
       "Name: Fecha Facturacion Final, Length: 19355, dtype: datetime64[ns]"
      ]
     },
     "execution_count": 261,
     "metadata": {},
     "output_type": "execute_result"
    }
   ],
   "source": [
    "me2l_15['Fecha Facturacion Final']"
   ]
  },
  {
   "cell_type": "code",
   "execution_count": 262,
   "metadata": {},
   "outputs": [
    {
     "data": {
      "text/plain": [
       "Prefijo OC              object\n",
       "Nro. OC SAP             object\n",
       "Clase Doc. OC           object\n",
       "Posición OC SAP         object\n",
       "Ind. Borrado OC         object\n",
       "                         ...  \n",
       "Cantidad en BO           int64\n",
       "Pet.Ofert.Creado por    object\n",
       "OC Creado por           object\n",
       "Marcar para \"Cerrar\"    object\n",
       "AUX                     object\n",
       "Length: 107, dtype: object"
      ]
     },
     "execution_count": 262,
     "metadata": {},
     "output_type": "execute_result"
    }
   ],
   "source": [
    "monitor_df.dtypes"
   ]
  },
  {
   "cell_type": "code",
   "execution_count": 263,
   "metadata": {},
   "outputs": [],
   "source": [
    "me2l_15 = me2l_15.merge(monitor_df[['AUX', 'Vía (Texto)']], left_on='AUX', right_on='AUX', how='left')"
   ]
  },
  {
   "cell_type": "code",
   "execution_count": 264,
   "metadata": {},
   "outputs": [
    {
     "data": {
      "text/plain": [
       "Vía (Texto)\n",
       "Marítimo     10666\n",
       "Aéreo         1835\n",
       "Courier       1043\n",
       "Terrestre      897\n",
       "Name: count, dtype: int64"
      ]
     },
     "execution_count": 264,
     "metadata": {},
     "output_type": "execute_result"
    }
   ],
   "source": [
    "me2l_15['Vía (Texto)'].value_counts()"
   ]
  },
  {
   "cell_type": "code",
   "execution_count": 265,
   "metadata": {},
   "outputs": [
    {
     "data": {
      "text/plain": [
       "Index(['AUX', 'Documento compras', 'Posición', 'Reparto',\n",
       "       'Cl.documento compras', 'Tipo doc.compras', 'Grupo de compras',\n",
       "       'Historial pedido/Docu.orden entrega', 'Fecha documento',\n",
       "       'Material Antiguo', 'Material', 'Texto breve', 'Grupo de artículos',\n",
       "       'Indicador de borrado', 'Tipo de posición', 'Tipo de imputación',\n",
       "       'Centro', 'Almacén', 'Cantidad de reparto', 'Cantidad de pedido',\n",
       "       'Unidad medida pedido', 'Precio neto', 'Moneda', 'Cantidad base',\n",
       "       'Fecha de entrega', 'Hora', 'Fecha entrega estad.', 'Cantidad anterior',\n",
       "       'Cantidad entrada', 'Cantidad de salida', 'Cantidad entregada',\n",
       "       'Solicitud de pedido', 'Pos.solicitud pedido', 'Indicador creación',\n",
       "       'Cantidad de posiciones', 'Nombre de proveedor',\n",
       "       'Por entregar (cantidad)', 'Por entregar (valor)',\n",
       "       'Por calcular (cantidad)', 'Por calcular (valor)', 'NomSector_actual',\n",
       "       'Origen', 'TIPO', 'Corresponde', 'Fe. ATA', 'Fecha Est. Fact',\n",
       "       'Cant. Factura', 'Cantidad entrega', 'Qty por Entregar',\n",
       "       'Qty Fact Corr', 'Status TR Fact', 'Fecha BO Mes Actual', 'TR Vencido',\n",
       "       'Statur TR No FAct', 'Cant. BO', 'Atraso', 'Fecha Facturacion Final',\n",
       "       'Vía (Texto)'],\n",
       "      dtype='object')"
      ]
     },
     "execution_count": 265,
     "metadata": {},
     "output_type": "execute_result"
    }
   ],
   "source": [
    "me2l_15.columns"
   ]
  },
  {
   "cell_type": "code",
   "execution_count": 266,
   "metadata": {},
   "outputs": [],
   "source": [
    "me2l_15['LT Objetivo'] = np.where(me2l_15['Vía (Texto)'].isin([\"Marítimo\", \"Terrestre\"]), 45,\n",
    "                    np.where(me2l_15['Vía (Texto)'] == \"Aéreo\", 15,\n",
    "                        np.where(me2l_15['Vía (Texto)'] == \"Courier\", 7, 0)))"
   ]
  },
  {
   "cell_type": "code",
   "execution_count": 267,
   "metadata": {},
   "outputs": [],
   "source": [
    "me2l_15 = me2l_15.merge(monitor_df[['AUX','Fe. Confirmación']], left_on='AUX',right_on='AUX', how='left')"
   ]
  },
  {
   "cell_type": "code",
   "execution_count": 268,
   "metadata": {},
   "outputs": [],
   "source": [
    "me2l_15['Fecha OC'] = np.where((me2l_15['Fe. Confirmación'] == 0) | (me2l_15['Fe. Confirmación'].isna()), me2l_15['Fecha documento'], me2l_15['Fe. Confirmación'])"
   ]
  },
  {
   "cell_type": "code",
   "execution_count": 269,
   "metadata": {},
   "outputs": [],
   "source": [
    "import datetime\n",
    "today = datetime.date(2024, 2, 14)"
   ]
  },
  {
   "cell_type": "code",
   "execution_count": 270,
   "metadata": {},
   "outputs": [],
   "source": [
    "today = pd.to_datetime(today)"
   ]
  },
  {
   "cell_type": "code",
   "execution_count": 271,
   "metadata": {},
   "outputs": [],
   "source": [
    "\n",
    "\n",
    "# Calculate the difference\n",
    "me2l_15['Dias LT BO'] = (today - me2l_15['Fecha OC']).dt.days - me2l_15['LT Objetivo']\n",
    "\n",
    "# Handling potential errors, setting them to 0\n",
    "me2l_15['Dias LT BO'] = me2l_15['Dias LT BO'].fillna(0)"
   ]
  },
  {
   "cell_type": "code",
   "execution_count": 272,
   "metadata": {},
   "outputs": [
    {
     "data": {
      "text/plain": [
       "4877216"
      ]
     },
     "execution_count": 272,
     "metadata": {},
     "output_type": "execute_result"
    }
   ],
   "source": [
    "me2l_15['Dias LT BO'].sum()"
   ]
  },
  {
   "cell_type": "code",
   "execution_count": 273,
   "metadata": {},
   "outputs": [],
   "source": [
    "import pandas as pd\n",
    "import numpy as np\n",
    "\n",
    "# Define conditions and choices\n",
    "conditions = [\n",
    "    (me2l_15['Vía (Texto)'].isin([\"Marítimo\", \"Terrestre\"])) & (me2l_15['Dias LT BO'].between(1, 30)),\n",
    "    (me2l_15['Vía (Texto)'].isin([\"Marítimo\", \"Terrestre\"])) & (me2l_15['Dias LT BO'].between(31, 60)),\n",
    "    (me2l_15['Vía (Texto)'].isin([\"Marítimo\", \"Terrestre\"])) & (me2l_15['Dias LT BO'].between(61, 90)),\n",
    "    (me2l_15['Vía (Texto)'].isin([\"Marítimo\", \"Terrestre\"])) & (me2l_15['Dias LT BO'] > 90),\n",
    "    (me2l_15['Vía (Texto)'] == \"Aéreo\") & (me2l_15['Dias LT BO'].between(1, 15)),\n",
    "    (me2l_15['Vía (Texto)'] == \"Aéreo\") & (me2l_15['Dias LT BO'].between(16, 30)),\n",
    "    (me2l_15['Vía (Texto)'] == \"Aéreo\") & (me2l_15['Dias LT BO'].between(31, 45)),\n",
    "    (me2l_15['Vía (Texto)'] == \"Courier\") & (me2l_15['Dias LT BO'].between(1, 7)),\n",
    "    (me2l_15['Vía (Texto)'] == \"Courier\") & (me2l_15['Dias LT BO'].between(8, 15)),\n",
    "    (me2l_15['Vía (Texto)'] == \"Courier\") & (me2l_15['Dias LT BO'].between(16, 21)),\n",
    "    (me2l_15['Vía (Texto)'] == \"Courier\") & (me2l_15['Dias LT BO'] > 21),\n",
    "    (me2l_15['Vía (Texto)'] == \"Aéreo\") & (me2l_15['Dias LT BO'] > 45)\n",
    "]\n",
    "\n",
    "choices = [\n",
    "    \"De 1 a 30 días\",\n",
    "    \"De 31 a 60 días\",\n",
    "    \"De 61 a 90 días\",\n",
    "    \"De 91 días a más\",\n",
    "    \"De 1 a 15 días\",\n",
    "    \"De 16 a 30 días\",\n",
    "    \"De 31 a 45 días\",\n",
    "    \"De 1 a 7 días\",\n",
    "    \"De 8 a 15 días\",\n",
    "    \"De 16 a 21 días\",\n",
    "    \"De 21 días a más\",\n",
    "    \"De 45 días a más\"\n",
    "]\n",
    "\n",
    "# Assign the values based on conditions\n",
    "me2l_15['Categoría LT'] = np.select(conditions, choices, default=\"Dentro de LT\")\n",
    "\n"
   ]
  },
  {
   "cell_type": "code",
   "execution_count": 274,
   "metadata": {},
   "outputs": [
    {
     "data": {
      "text/plain": [
       "Categoría LT\n",
       "Dentro de LT        6900\n",
       "De 31 a 60 días     3829\n",
       "De 91 días a más    2758\n",
       "De 1 a 30 días      1862\n",
       "De 45 días a más    1636\n",
       "De 61 a 90 días     1129\n",
       "De 21 días a más    1043\n",
       "De 31 a 45 días      198\n",
       "Name: count, dtype: int64"
      ]
     },
     "execution_count": 274,
     "metadata": {},
     "output_type": "execute_result"
    }
   ],
   "source": [
    "me2l_15['Categoría LT'].value_counts()"
   ]
  },
  {
   "cell_type": "code",
   "execution_count": 275,
   "metadata": {},
   "outputs": [],
   "source": [
    "import pandas as pd\n",
    "import numpy as np\n",
    "\n",
    "# Assuming CE4 is a column in the DataFrame and BV1 is a variable\n",
    "BV1 = 45  # Assuming the value of $BV$1 is 45\n",
    "\n",
    "# Define conditions and choices\n",
    "conditions = [\n",
    "    me2l_15['Statur TR No FAct'] == \"Replanificar +45\",\n",
    "    me2l_15['Statur TR No FAct'] == \"Fecha Teórica\",\n",
    "    (me2l_15['Statur TR No FAct'] == \"TR Vencido\") & ((me2l_15['Categoría LT'] == 0) | (me2l_15['Categoría LT'] == \"Dentro de LT\")),\n",
    "    (me2l_15['Statur TR No FAct'] == \"TR Vencido\") & (me2l_15['Categoría LT'] == \"De 31 a 60 días\"),\n",
    "    (me2l_15['Statur TR No FAct'] == \"TR Vencido\") & (me2l_15['Categoría LT'] == \"De 61 a 90 días\")\n",
    "]\n",
    "\n",
    "choices = [\n",
    "    hoy + timedelta(days =45),\n",
    "    me2l_15['Fecha Facturacion Final'],\n",
    "    hoy + timedelta(days =30),\n",
    "    hoy + timedelta(days =60),\n",
    "    hoy + timedelta(days =90)\n",
    "]\n",
    "\n",
    "# Assign the values based on conditions\n",
    "me2l_15['Fecha No Fact'] = np.select(conditions, choices, default=hoy + timedelta(days =120))\n"
   ]
  },
  {
   "cell_type": "code",
   "execution_count": 276,
   "metadata": {},
   "outputs": [],
   "source": [
    "me2l_15['Fecha No Fact'] = pd.to_datetime(me2l_15['Fecha No Fact'])"
   ]
  },
  {
   "cell_type": "code",
   "execution_count": 277,
   "metadata": {},
   "outputs": [
    {
     "data": {
      "text/plain": [
       "Index(['AUX', 'Cant. UN. OC', 'Cant. Factura', 'Cantidad en BO'], dtype='object')"
      ]
     },
     "execution_count": 277,
     "metadata": {},
     "output_type": "execute_result"
    }
   ],
   "source": [
    "tabla_final.columns"
   ]
  },
  {
   "cell_type": "code",
   "execution_count": 278,
   "metadata": {},
   "outputs": [],
   "source": [
    "me2l_15= me2l_15.merge(tabla_final[['AUX','Cantidad en BO']], left_on='AUX',right_on='AUX', how='left')"
   ]
  },
  {
   "cell_type": "code",
   "execution_count": 279,
   "metadata": {},
   "outputs": [],
   "source": [
    "me2l_15['Cantidad en BO'] = me2l_15['Cantidad en BO']*me2l_15['Corresponde']"
   ]
  },
  {
   "cell_type": "code",
   "execution_count": null,
   "metadata": {},
   "outputs": [],
   "source": []
  },
  {
   "cell_type": "code",
   "execution_count": 280,
   "metadata": {},
   "outputs": [],
   "source": [
    "me2l_15['Cantidad en BO'].fillna(0, inplace=True)"
   ]
  },
  {
   "cell_type": "code",
   "execution_count": 281,
   "metadata": {},
   "outputs": [
    {
     "data": {
      "text/plain": [
       "Index(['AUX', 'Documento compras', 'Posición', 'Reparto',\n",
       "       'Cl.documento compras', 'Tipo doc.compras', 'Grupo de compras',\n",
       "       'Historial pedido/Docu.orden entrega', 'Fecha documento',\n",
       "       'Material Antiguo', 'Material', 'Texto breve', 'Grupo de artículos',\n",
       "       'Indicador de borrado', 'Tipo de posición', 'Tipo de imputación',\n",
       "       'Centro', 'Almacén', 'Cantidad de reparto', 'Cantidad de pedido',\n",
       "       'Unidad medida pedido', 'Precio neto', 'Moneda', 'Cantidad base',\n",
       "       'Fecha de entrega', 'Hora', 'Fecha entrega estad.', 'Cantidad anterior',\n",
       "       'Cantidad entrada', 'Cantidad de salida', 'Cantidad entregada',\n",
       "       'Solicitud de pedido', 'Pos.solicitud pedido', 'Indicador creación',\n",
       "       'Cantidad de posiciones', 'Nombre de proveedor',\n",
       "       'Por entregar (cantidad)', 'Por entregar (valor)',\n",
       "       'Por calcular (cantidad)', 'Por calcular (valor)', 'NomSector_actual',\n",
       "       'Origen', 'TIPO', 'Corresponde', 'Fe. ATA', 'Fecha Est. Fact',\n",
       "       'Cant. Factura', 'Cantidad entrega', 'Qty por Entregar',\n",
       "       'Qty Fact Corr', 'Status TR Fact', 'Fecha BO Mes Actual', 'TR Vencido',\n",
       "       'Statur TR No FAct', 'Cant. BO', 'Atraso', 'Fecha Facturacion Final',\n",
       "       'Vía (Texto)', 'LT Objetivo', 'Fe. Confirmación', 'Fecha OC',\n",
       "       'Dias LT BO', 'Categoría LT', 'Fecha No Fact', 'Cantidad en BO'],\n",
       "      dtype='object')"
      ]
     },
     "execution_count": 281,
     "metadata": {},
     "output_type": "execute_result"
    }
   ],
   "source": [
    "me2l_15.columns"
   ]
  },
  {
   "cell_type": "code",
   "execution_count": 282,
   "metadata": {},
   "outputs": [],
   "source": [
    "import numpy as np\n",
    "\n",
    "# Crear una condición basada en la columna 'TIPO'\n",
    "condicion = (me2l_15['TIPO'] == 'OEM') & (me2l_15['Por calcular (cantidad)'] == 0)\n",
    "\n",
    "# Actualizar la columna 'Cantidad en BO' basada en la condición\n",
    "me2l_15['Cantidad en BO'] = np.where(condicion, 0, me2l_15['Cantidad en BO'])\n",
    "\n"
   ]
  },
  {
   "cell_type": "code",
   "execution_count": 283,
   "metadata": {},
   "outputs": [
    {
     "data": {
      "text/plain": [
       "TIPO\n",
       "OEM    11485\n",
       "AFM     7774\n",
       "AXS       96\n",
       "Name: count, dtype: int64"
      ]
     },
     "execution_count": 283,
     "metadata": {},
     "output_type": "execute_result"
    }
   ],
   "source": [
    "me2l_15['TIPO'].value_counts()"
   ]
  },
  {
   "cell_type": "code",
   "execution_count": 284,
   "metadata": {},
   "outputs": [
    {
     "data": {
      "text/plain": [
       "1730110.0"
      ]
     },
     "execution_count": 284,
     "metadata": {},
     "output_type": "execute_result"
    }
   ],
   "source": [
    "me2l_15['Cantidad en BO'].sum()"
   ]
  },
  {
   "cell_type": "code",
   "execution_count": 285,
   "metadata": {},
   "outputs": [
    {
     "data": {
      "text/html": [
       "<div>\n",
       "<style scoped>\n",
       "    .dataframe tbody tr th:only-of-type {\n",
       "        vertical-align: middle;\n",
       "    }\n",
       "\n",
       "    .dataframe tbody tr th {\n",
       "        vertical-align: top;\n",
       "    }\n",
       "\n",
       "    .dataframe thead th {\n",
       "        text-align: right;\n",
       "    }\n",
       "</style>\n",
       "<table border=\"1\" class=\"dataframe\">\n",
       "  <thead>\n",
       "    <tr style=\"text-align: right;\">\n",
       "      <th></th>\n",
       "      <th>AUX</th>\n",
       "      <th>Documento compras</th>\n",
       "      <th>Posición</th>\n",
       "      <th>Reparto</th>\n",
       "      <th>Cl.documento compras</th>\n",
       "      <th>Tipo doc.compras</th>\n",
       "      <th>Grupo de compras</th>\n",
       "      <th>Historial pedido/Docu.orden entrega</th>\n",
       "      <th>Fecha documento</th>\n",
       "      <th>Material Antiguo</th>\n",
       "      <th>...</th>\n",
       "      <th>Atraso</th>\n",
       "      <th>Fecha Facturacion Final</th>\n",
       "      <th>Vía (Texto)</th>\n",
       "      <th>LT Objetivo</th>\n",
       "      <th>Fe. Confirmación</th>\n",
       "      <th>Fecha OC</th>\n",
       "      <th>Dias LT BO</th>\n",
       "      <th>Categoría LT</th>\n",
       "      <th>Fecha No Fact</th>\n",
       "      <th>Cantidad en BO</th>\n",
       "    </tr>\n",
       "  </thead>\n",
       "  <tbody>\n",
       "    <tr>\n",
       "      <th>121</th>\n",
       "      <td>430002269010</td>\n",
       "      <td>4300022690</td>\n",
       "      <td>10</td>\n",
       "      <td>1.0</td>\n",
       "      <td>ZVOR</td>\n",
       "      <td>F</td>\n",
       "      <td>RR7</td>\n",
       "      <td>NaN</td>\n",
       "      <td>2023-11-09</td>\n",
       "      <td>546274</td>\n",
       "      <td>...</td>\n",
       "      <td>SI</td>\n",
       "      <td>2024-03-14</td>\n",
       "      <td>Courier</td>\n",
       "      <td>7</td>\n",
       "      <td>2023-11-07</td>\n",
       "      <td>2023-11-07</td>\n",
       "      <td>92</td>\n",
       "      <td>De 21 días a más</td>\n",
       "      <td>2024-06-11</td>\n",
       "      <td>1.0</td>\n",
       "    </tr>\n",
       "  </tbody>\n",
       "</table>\n",
       "<p>1 rows × 65 columns</p>\n",
       "</div>"
      ],
      "text/plain": [
       "              AUX Documento compras Posición  Reparto Cl.documento compras  \\\n",
       "121  430002269010        4300022690       10      1.0                 ZVOR   \n",
       "\n",
       "    Tipo doc.compras Grupo de compras  Historial pedido/Docu.orden entrega  \\\n",
       "121                F              RR7                                  NaN   \n",
       "\n",
       "    Fecha documento Material Antiguo  ... Atraso Fecha Facturacion Final  \\\n",
       "121      2023-11-09           546274  ...     SI              2024-03-14   \n",
       "\n",
       "    Vía (Texto)  LT Objetivo  Fe. Confirmación   Fecha OC  Dias LT BO  \\\n",
       "121     Courier            7        2023-11-07 2023-11-07          92   \n",
       "\n",
       "         Categoría LT  Fecha No Fact  Cantidad en BO  \n",
       "121  De 21 días a más     2024-06-11             1.0  \n",
       "\n",
       "[1 rows x 65 columns]"
      ]
     },
     "execution_count": 285,
     "metadata": {},
     "output_type": "execute_result"
    }
   ],
   "source": [
    "me2l_15[me2l_15['AUX'] =='430002269010']"
   ]
  },
  {
   "cell_type": "code",
   "execution_count": 286,
   "metadata": {},
   "outputs": [
    {
     "data": {
      "text/plain": [
       "Index(['AUX', 'Documento compras', 'Posición', 'Reparto',\n",
       "       'Cl.documento compras', 'Tipo doc.compras', 'Grupo de compras',\n",
       "       'Historial pedido/Docu.orden entrega', 'Fecha documento',\n",
       "       'Material Antiguo', 'Material', 'Texto breve', 'Grupo de artículos',\n",
       "       'Indicador de borrado', 'Tipo de posición', 'Tipo de imputación',\n",
       "       'Centro', 'Almacén', 'Cantidad de reparto', 'Cantidad de pedido',\n",
       "       'Unidad medida pedido', 'Precio neto', 'Moneda', 'Cantidad base',\n",
       "       'Fecha de entrega', 'Hora', 'Fecha entrega estad.', 'Cantidad anterior',\n",
       "       'Cantidad entrada', 'Cantidad de salida', 'Cantidad entregada',\n",
       "       'Solicitud de pedido', 'Pos.solicitud pedido', 'Indicador creación',\n",
       "       'Cantidad de posiciones', 'Nombre de proveedor',\n",
       "       'Por entregar (cantidad)', 'Por entregar (valor)',\n",
       "       'Por calcular (cantidad)', 'Por calcular (valor)', 'NomSector_actual',\n",
       "       'Origen', 'TIPO', 'Corresponde', 'Fe. ATA', 'Fecha Est. Fact',\n",
       "       'Cant. Factura', 'Cantidad entrega', 'Qty por Entregar',\n",
       "       'Qty Fact Corr', 'Status TR Fact', 'Fecha BO Mes Actual', 'TR Vencido',\n",
       "       'Statur TR No FAct', 'Cant. BO', 'Atraso', 'Fecha Facturacion Final',\n",
       "       'Vía (Texto)', 'LT Objetivo', 'Fe. Confirmación', 'Fecha OC',\n",
       "       'Dias LT BO', 'Categoría LT', 'Fecha No Fact', 'Cantidad en BO'],\n",
       "      dtype='object')"
      ]
     },
     "execution_count": 286,
     "metadata": {},
     "output_type": "execute_result"
    }
   ],
   "source": [
    "me2l_15.columns"
   ]
  },
  {
   "cell_type": "code",
   "execution_count": 287,
   "metadata": {},
   "outputs": [],
   "source": [
    "side_a = me2l_15[['AUX','Status TR Fact',   'Material','Texto breve','Qty Fact Corr','Centro','NomSector_actual','Origen','TIPO','Cl.documento compras','Fecha Facturacion Final','Nombre de proveedor','Grupo de compras']]\n",
    "side_b = me2l_15[['AUX','Statur TR No FAct','Material','Texto breve','Cantidad en BO',     'Centro','NomSector_actual','Origen','TIPO','Cl.documento compras','Fecha No Fact',          'Nombre de proveedor','Grupo de compras']]"
   ]
  },
  {
   "cell_type": "code",
   "execution_count": 288,
   "metadata": {},
   "outputs": [
    {
     "name": "stderr",
     "output_type": "stream",
     "text": [
      "C:\\Users\\lravlic\\AppData\\Local\\Temp\\ipykernel_16344\\410670440.py:1: SettingWithCopyWarning: \n",
      "A value is trying to be set on a copy of a slice from a DataFrame\n",
      "\n",
      "See the caveats in the documentation: https://pandas.pydata.org/pandas-docs/stable/user_guide/indexing.html#returning-a-view-versus-a-copy\n",
      "  side_a.rename(columns={'Status TR Fact':'Status','Qty Fact Corr':'Cantidad','Fecha Facturacion Final':'Fecha'}, inplace=True)\n",
      "C:\\Users\\lravlic\\AppData\\Local\\Temp\\ipykernel_16344\\410670440.py:2: SettingWithCopyWarning: \n",
      "A value is trying to be set on a copy of a slice from a DataFrame\n",
      "\n",
      "See the caveats in the documentation: https://pandas.pydata.org/pandas-docs/stable/user_guide/indexing.html#returning-a-view-versus-a-copy\n",
      "  side_b.rename(columns={'Statur TR No FAct':'Status','Cantidad en BO':'Cantidad','Fecha No Fact':'Fecha'}, inplace=True)\n"
     ]
    }
   ],
   "source": [
    "side_a.rename(columns={'Status TR Fact':'Status','Qty Fact Corr':'Cantidad','Fecha Facturacion Final':'Fecha'}, inplace=True)\n",
    "side_b.rename(columns={'Statur TR No FAct':'Status','Cantidad en BO':'Cantidad','Fecha No Fact':'Fecha'}, inplace=True)"
   ]
  },
  {
   "cell_type": "code",
   "execution_count": 289,
   "metadata": {},
   "outputs": [],
   "source": [
    "tr_final = pd.concat([side_a, side_b])"
   ]
  },
  {
   "cell_type": "code",
   "execution_count": 290,
   "metadata": {},
   "outputs": [
    {
     "data": {
      "text/html": [
       "<div>\n",
       "<style scoped>\n",
       "    .dataframe tbody tr th:only-of-type {\n",
       "        vertical-align: middle;\n",
       "    }\n",
       "\n",
       "    .dataframe tbody tr th {\n",
       "        vertical-align: top;\n",
       "    }\n",
       "\n",
       "    .dataframe thead th {\n",
       "        text-align: right;\n",
       "    }\n",
       "</style>\n",
       "<table border=\"1\" class=\"dataframe\">\n",
       "  <thead>\n",
       "    <tr style=\"text-align: right;\">\n",
       "      <th></th>\n",
       "      <th>index</th>\n",
       "      <th>AUX</th>\n",
       "      <th>Status</th>\n",
       "      <th>Material</th>\n",
       "      <th>Texto breve</th>\n",
       "      <th>Cantidad</th>\n",
       "      <th>Centro</th>\n",
       "      <th>NomSector_actual</th>\n",
       "      <th>Origen</th>\n",
       "      <th>TIPO</th>\n",
       "      <th>Cl.documento compras</th>\n",
       "      <th>Fecha</th>\n",
       "      <th>Nombre de proveedor</th>\n",
       "      <th>Grupo de compras</th>\n",
       "    </tr>\n",
       "  </thead>\n",
       "  <tbody>\n",
       "    <tr>\n",
       "      <th>0</th>\n",
       "      <td>0</td>\n",
       "      <td>430001322210</td>\n",
       "      <td>No Facturado</td>\n",
       "      <td>1116219</td>\n",
       "      <td>INYECTOR</td>\n",
       "      <td>0.0</td>\n",
       "      <td>710.0</td>\n",
       "      <td>Great Wall</td>\n",
       "      <td></td>\n",
       "      <td>OEM</td>\n",
       "      <td>ZVOR</td>\n",
       "      <td>2024-03-14</td>\n",
       "      <td>11735      Servicio Lucas Diesel Sa</td>\n",
       "      <td>RR4</td>\n",
       "    </tr>\n",
       "    <tr>\n",
       "      <th>1</th>\n",
       "      <td>1</td>\n",
       "      <td>430000752110</td>\n",
       "      <td>No Facturado</td>\n",
       "      <td>1048568</td>\n",
       "      <td>ESPONJA RESPALDO ASIENTO DEL IZQ</td>\n",
       "      <td>0.0</td>\n",
       "      <td>710.0</td>\n",
       "      <td>Mazda</td>\n",
       "      <td></td>\n",
       "      <td>OEM</td>\n",
       "      <td>ZVOR</td>\n",
       "      <td>2024-03-14</td>\n",
       "      <td>11760      Traeger Inter  Y Compani</td>\n",
       "      <td>RR4</td>\n",
       "    </tr>\n",
       "    <tr>\n",
       "      <th>2</th>\n",
       "      <td>2</td>\n",
       "      <td>430001392350</td>\n",
       "      <td>No Facturado</td>\n",
       "      <td>545869</td>\n",
       "      <td>BASE PORTAFILTRO AIRE 2.5</td>\n",
       "      <td>0.0</td>\n",
       "      <td>710.0</td>\n",
       "      <td>Mazda</td>\n",
       "      <td></td>\n",
       "      <td>OEM</td>\n",
       "      <td>ZVOR</td>\n",
       "      <td>2024-03-14</td>\n",
       "      <td>11760      Traeger Inter  Y Compani</td>\n",
       "      <td>RR4</td>\n",
       "    </tr>\n",
       "    <tr>\n",
       "      <th>3</th>\n",
       "      <td>3</td>\n",
       "      <td>430001392360</td>\n",
       "      <td>No Facturado</td>\n",
       "      <td>511194</td>\n",
       "      <td>MANDIL GUARDAFANGO DELT DER</td>\n",
       "      <td>0.0</td>\n",
       "      <td>710.0</td>\n",
       "      <td>Mazda</td>\n",
       "      <td></td>\n",
       "      <td>OEM</td>\n",
       "      <td>ZVOR</td>\n",
       "      <td>2024-03-14</td>\n",
       "      <td>11760      Traeger Inter  Y Compani</td>\n",
       "      <td>RR4</td>\n",
       "    </tr>\n",
       "    <tr>\n",
       "      <th>4</th>\n",
       "      <td>4</td>\n",
       "      <td>430001392430</td>\n",
       "      <td>No Facturado</td>\n",
       "      <td>510714</td>\n",
       "      <td>STRIPE NO.2 DERECHO</td>\n",
       "      <td>0.0</td>\n",
       "      <td>710.0</td>\n",
       "      <td>Mazda</td>\n",
       "      <td></td>\n",
       "      <td>OEM</td>\n",
       "      <td>ZVOR</td>\n",
       "      <td>2024-03-14</td>\n",
       "      <td>11760      Traeger Inter  Y Compani</td>\n",
       "      <td>RR4</td>\n",
       "    </tr>\n",
       "    <tr>\n",
       "      <th>...</th>\n",
       "      <td>...</td>\n",
       "      <td>...</td>\n",
       "      <td>...</td>\n",
       "      <td>...</td>\n",
       "      <td>...</td>\n",
       "      <td>...</td>\n",
       "      <td>...</td>\n",
       "      <td>...</td>\n",
       "      <td>...</td>\n",
       "      <td>...</td>\n",
       "      <td>...</td>\n",
       "      <td>...</td>\n",
       "      <td>...</td>\n",
       "      <td>...</td>\n",
       "    </tr>\n",
       "    <tr>\n",
       "      <th>38705</th>\n",
       "      <td>19350</td>\n",
       "      <td>42000067951330</td>\n",
       "      <td>Fecha Teórica</td>\n",
       "      <td>1066894</td>\n",
       "      <td>VIDRIO LAT DER [SZK JIMNY II]</td>\n",
       "      <td>0.0</td>\n",
       "      <td>711.0</td>\n",
       "      <td>Suzuki</td>\n",
       "      <td></td>\n",
       "      <td>OEM</td>\n",
       "      <td>ZSTO</td>\n",
       "      <td>2024-03-30</td>\n",
       "      <td>7841       Suzuki Motor Corporation</td>\n",
       "      <td>RR1</td>\n",
       "    </tr>\n",
       "    <tr>\n",
       "      <th>38706</th>\n",
       "      <td>19351</td>\n",
       "      <td>42000067951500</td>\n",
       "      <td>Fecha Teórica</td>\n",
       "      <td>555446</td>\n",
       "      <td>CAJA TERMOSTATO</td>\n",
       "      <td>0.0</td>\n",
       "      <td>711.0</td>\n",
       "      <td>Suzuki</td>\n",
       "      <td></td>\n",
       "      <td>OEM</td>\n",
       "      <td>ZSTO</td>\n",
       "      <td>2024-03-30</td>\n",
       "      <td>7841       Suzuki Motor Corporation</td>\n",
       "      <td>RR1</td>\n",
       "    </tr>\n",
       "    <tr>\n",
       "      <th>38707</th>\n",
       "      <td>19352</td>\n",
       "      <td>42000067951580</td>\n",
       "      <td>Fecha Teórica</td>\n",
       "      <td>1171144</td>\n",
       "      <td>GOLILLA PERNO TAPA VALVULA</td>\n",
       "      <td>0.0</td>\n",
       "      <td>711.0</td>\n",
       "      <td>Suzuki</td>\n",
       "      <td></td>\n",
       "      <td>OEM</td>\n",
       "      <td>ZSTO</td>\n",
       "      <td>2024-03-30</td>\n",
       "      <td>7841       Suzuki Motor Corporation</td>\n",
       "      <td>RR1</td>\n",
       "    </tr>\n",
       "    <tr>\n",
       "      <th>38708</th>\n",
       "      <td>19353</td>\n",
       "      <td>42000067951930</td>\n",
       "      <td>Replanificar +45</td>\n",
       "      <td>1168491</td>\n",
       "      <td>OPACADOR PUERTA DEL IZQ B</td>\n",
       "      <td>0.0</td>\n",
       "      <td>711.0</td>\n",
       "      <td>Suzuki</td>\n",
       "      <td></td>\n",
       "      <td>OEM</td>\n",
       "      <td>ZSTO</td>\n",
       "      <td>2024-03-28</td>\n",
       "      <td>7841       Suzuki Motor Corporation</td>\n",
       "      <td>RR1</td>\n",
       "    </tr>\n",
       "    <tr>\n",
       "      <th>38709</th>\n",
       "      <td>19354</td>\n",
       "      <td>42000067952190</td>\n",
       "      <td>Fecha Teórica</td>\n",
       "      <td>1037933</td>\n",
       "      <td>TAPON CARTER</td>\n",
       "      <td>0.0</td>\n",
       "      <td>711.0</td>\n",
       "      <td>Suzuki</td>\n",
       "      <td></td>\n",
       "      <td>OEM</td>\n",
       "      <td>ZSTO</td>\n",
       "      <td>2024-04-25</td>\n",
       "      <td>7841       Suzuki Motor Corporation</td>\n",
       "      <td>RR1</td>\n",
       "    </tr>\n",
       "  </tbody>\n",
       "</table>\n",
       "<p>38710 rows × 14 columns</p>\n",
       "</div>"
      ],
      "text/plain": [
       "       index             AUX            Status Material  \\\n",
       "0          0    430001322210      No Facturado  1116219   \n",
       "1          1    430000752110      No Facturado  1048568   \n",
       "2          2    430001392350      No Facturado   545869   \n",
       "3          3    430001392360      No Facturado   511194   \n",
       "4          4    430001392430      No Facturado   510714   \n",
       "...      ...             ...               ...      ...   \n",
       "38705  19350  42000067951330     Fecha Teórica  1066894   \n",
       "38706  19351  42000067951500     Fecha Teórica   555446   \n",
       "38707  19352  42000067951580     Fecha Teórica  1171144   \n",
       "38708  19353  42000067951930  Replanificar +45  1168491   \n",
       "38709  19354  42000067952190     Fecha Teórica  1037933   \n",
       "\n",
       "                            Texto breve  Cantidad  Centro NomSector_actual  \\\n",
       "0                              INYECTOR       0.0   710.0       Great Wall   \n",
       "1      ESPONJA RESPALDO ASIENTO DEL IZQ       0.0   710.0            Mazda   \n",
       "2             BASE PORTAFILTRO AIRE 2.5       0.0   710.0            Mazda   \n",
       "3           MANDIL GUARDAFANGO DELT DER       0.0   710.0            Mazda   \n",
       "4                   STRIPE NO.2 DERECHO       0.0   710.0            Mazda   \n",
       "...                                 ...       ...     ...              ...   \n",
       "38705     VIDRIO LAT DER [SZK JIMNY II]       0.0   711.0           Suzuki   \n",
       "38706                   CAJA TERMOSTATO       0.0   711.0           Suzuki   \n",
       "38707        GOLILLA PERNO TAPA VALVULA       0.0   711.0           Suzuki   \n",
       "38708         OPACADOR PUERTA DEL IZQ B       0.0   711.0           Suzuki   \n",
       "38709                      TAPON CARTER       0.0   711.0           Suzuki   \n",
       "\n",
       "      Origen TIPO Cl.documento compras      Fecha  \\\n",
       "0             OEM                 ZVOR 2024-03-14   \n",
       "1             OEM                 ZVOR 2024-03-14   \n",
       "2             OEM                 ZVOR 2024-03-14   \n",
       "3             OEM                 ZVOR 2024-03-14   \n",
       "4             OEM                 ZVOR 2024-03-14   \n",
       "...      ...  ...                  ...        ...   \n",
       "38705         OEM                 ZSTO 2024-03-30   \n",
       "38706         OEM                 ZSTO 2024-03-30   \n",
       "38707         OEM                 ZSTO 2024-03-30   \n",
       "38708         OEM                 ZSTO 2024-03-28   \n",
       "38709         OEM                 ZSTO 2024-04-25   \n",
       "\n",
       "                       Nombre de proveedor Grupo de compras  \n",
       "0      11735      Servicio Lucas Diesel Sa              RR4  \n",
       "1      11760      Traeger Inter  Y Compani              RR4  \n",
       "2      11760      Traeger Inter  Y Compani              RR4  \n",
       "3      11760      Traeger Inter  Y Compani              RR4  \n",
       "4      11760      Traeger Inter  Y Compani              RR4  \n",
       "...                                    ...              ...  \n",
       "38705  7841       Suzuki Motor Corporation              RR1  \n",
       "38706  7841       Suzuki Motor Corporation              RR1  \n",
       "38707  7841       Suzuki Motor Corporation              RR1  \n",
       "38708  7841       Suzuki Motor Corporation              RR1  \n",
       "38709  7841       Suzuki Motor Corporation              RR1  \n",
       "\n",
       "[38710 rows x 14 columns]"
      ]
     },
     "execution_count": 290,
     "metadata": {},
     "output_type": "execute_result"
    }
   ],
   "source": [
    "tr_final.reset_index()"
   ]
  },
  {
   "cell_type": "code",
   "execution_count": 291,
   "metadata": {},
   "outputs": [
    {
     "data": {
      "text/plain": [
       "2489374.0"
      ]
     },
     "execution_count": 291,
     "metadata": {},
     "output_type": "execute_result"
    }
   ],
   "source": [
    "tr_final['Cantidad'].sum()"
   ]
  },
  {
   "cell_type": "code",
   "execution_count": 292,
   "metadata": {},
   "outputs": [],
   "source": [
    "tr_final.to_excel('TR FINAL.xlsx')"
   ]
  },
  {
   "cell_type": "code",
   "execution_count": null,
   "metadata": {},
   "outputs": [],
   "source": []
  }
 ],
 "metadata": {
  "kernelspec": {
   "display_name": "Python 3",
   "language": "python",
   "name": "python3"
  },
  "language_info": {
   "codemirror_mode": {
    "name": "ipython",
    "version": 3
   },
   "file_extension": ".py",
   "mimetype": "text/x-python",
   "name": "python",
   "nbconvert_exporter": "python",
   "pygments_lexer": "ipython3",
   "version": "3.12.0"
  }
 },
 "nbformat": 4,
 "nbformat_minor": 2
}
