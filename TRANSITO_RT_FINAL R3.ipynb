{
 "cells": [
  {
   "cell_type": "code",
   "execution_count": 1,
   "metadata": {},
   "outputs": [],
   "source": [
    "import pandas as pd\n",
    "import numpy as np\n",
    "import os\n",
    "import datetime\n",
    "import win32com.client\n",
    "import getpass\n",
    "\n",
    "\n"
   ]
  },
  {
   "cell_type": "code",
   "execution_count": 4,
   "metadata": {},
   "outputs": [],
   "source": [
    "import win32com.client\n",
    "\n",
    "# Initialize SAP GUI scripting engine\n",
    "SapGuiAuto = win32com.client.GetObject(\"SAPGUI\")\n",
    "application = SapGuiAuto.GetScriptingEngine\n",
    "\n",
    "# Get the first connection and session\n",
    "connection = application.Children(0)\n",
    "session = connection.Children(0)\n",
    "\n",
    "# Maximize the SAP window\n",
    "session.findById(\"wnd[0]\").maximize()\n",
    "\n",
    "# Enter transaction code ME2L and execute\n",
    "session.findById(\"wnd[0]/tbar[0]/okcd\").text = \"me2l\"\n",
    "session.findById(\"wnd[0]\").sendVKey(0)\n",
    "\n",
    "# Set the \"we101\" text in the appropriate field\n",
    "session.findById(\"wnd[0]/usr/ctxtSELPA-LOW\").text = \"we101\"\n",
    "\n",
    "# Set focus and position for the next field\n",
    "session.findById(\"wnd[0]/usr/ctxtS_BSART-LOW\").setFocus()\n",
    "session.findById(\"wnd[0]/usr/ctxtS_BSART-LOW\").caretPosition = 0\n",
    "\n",
    "# Press the value push button\n",
    "session.findById(\"wnd[0]/usr/btn%_S_BSART_%_APP_%-VALU_PUSH\").press()\n",
    "\n",
    "# Fill in multiple values in a subsequent popup\n",
    "values = [\"zsto\", \"zspt\", \"zvor\", \"zipl\", \"zatt\"]\n",
    "for i, value in enumerate(values):\n",
    "    session.findById(f\"wnd[1]/usr/tabsTAB_STRIP/tabpSIVA/ssubSCREEN_HEADER:SAPLALDB:3010/tblSAPLALDBSINGLE/ctxtRSCSEL_255-SLOW_I[1,{i}]\").text = value\n",
    "\n",
    "# Set focus and caret position\n",
    "session.findById(\"wnd[1]/usr/tabsTAB_STRIP/tabpSIVA/ssubSCREEN_HEADER:SAPLALDB:3010/tblSAPLALDBSINGLE/ctxtRSCSEL_255-SLOW_I[1,4]\").setFocus()\n",
    "session.findById(\"wnd[1]/usr/tabsTAB_STRIP/tabpSIVA/ssubSCREEN_HEADER:SAPLALDB:3010/tblSAPLALDBSINGLE/ctxtRSCSEL_255-SLOW_I[1,4]\").caretPosition = 4\n",
    "\n",
    "# Send VKey 8 to confirm the entries\n",
    "session.findById(\"wnd[1]\").sendVKey(8)\n",
    "\n",
    "# Set the plant to \"0201\"\n",
    "session.findById(\"wnd[0]/usr/ctxtS_WERKS-LOW\").text = \"0201\"\n",
    "session.findById(\"wnd[0]/usr/ctxtS_WERKS-LOW\").setFocus()\n",
    "session.findById(\"wnd[0]/usr/ctxtS_WERKS-LOW\").caretPosition = 4\n",
    "\n",
    "# Send VKey 8 to confirm the plant entry\n",
    "session.findById(\"wnd[0]\").sendVKey(8)\n",
    "\n",
    "# Execute the next steps\n",
    "session.findById(\"wnd[0]\").sendVKey(23)\n",
    "session.findById(\"wnd[0]/tbar[1]/btn[33]\").press()\n",
    "\n",
    "# Interact with the subsequent popup\n",
    "session.findById(\"wnd[1]/usr/ssubD0500_SUBSCREEN:SAPLSLVC_DIALOG:0501/cntlG51_CONTAINER/shellcont/shell\").setCurrentCell(8, \"TEXT\")\n",
    "session.findById(\"wnd[1]/usr/ssubD0500_SUBSCREEN:SAPLSLVC_DIALOG:0501/cntlG51_CONTAINER/shellcont/shell\").firstVisibleRow = 3\n",
    "session.findById(\"wnd[1]/usr/ssubD0500_SUBSCREEN:SAPLSLVC_DIALOG:0501/cntlG51_CONTAINER/shellcont/shell\").selectedRows = \"8\"\n",
    "session.findById(\"wnd[1]/usr/ssubD0500_SUBSCREEN:SAPLSLVC_DIALOG:0501/cntlG51_CONTAINER/shellcont/shell\").clickCurrentCell()\n",
    "session.findById(\"wnd[0]/tbar[1]/btn[43]\").press()\n",
    "session.findById(\"wnd[1]/tbar[0]/btn[0]\").press()\n",
    "\n",
    "# Set file path and name\n",
    "session.findById(\"wnd[1]/usr/ctxtDY_PATH\").text = \"C:\\\\Users\\\\lravlic\\\\Inchcape\\\\Planificación y Compras Chile - Documentos\\\\Planificación y Compras KPI-Reportes\\\\Bases Transito (python)\\\\\"\n",
    "session.findById(\"wnd[1]/usr/ctxtDY_FILENAME\").text = \"me2l_r3.XLSX\"\n",
    "session.findById(\"wnd[1]/usr/ctxtDY_FILENAME\").caretPosition = 7\n",
    "session.findById(\"wnd[1]/tbar[0]/btn[11]\").press()\n",
    "\n",
    "# Close the windows\n",
    "session.findById(\"wnd[0]\").sendVKey(3)\n",
    "session.findById(\"wnd[0]\").sendVKey(3)\n",
    "\n",
    "\n"
   ]
  },
  {
   "cell_type": "code",
   "execution_count": 5,
   "metadata": {},
   "outputs": [],
   "source": [
    "import xlwings as xw\n",
    "try:\n",
    "    book = xw.Book(\"C:/Users/lravlic/Inchcape/Planificación y Compras Chile - Documentos/Planificación y Compras KPI-Reportes/Bases Transito (python)/me2l_r3.XLSX\")\n",
    "    book.close()\n",
    "except Exception as e:\n",
    "    print(e)"
   ]
  },
  {
   "cell_type": "markdown",
   "metadata": {},
   "source": [
    "LECTURA DE DATAFRAMES"
   ]
  },
  {
   "cell_type": "code",
   "execution_count": 6,
   "metadata": {},
   "outputs": [],
   "source": [
    "\n",
    "#ME2L POR SEPARADO\n",
    "me2l_df = pd.read_excel(\"C:/Users/lravlic/Inchcape/Planificación y Compras Chile - Documentos/Planificación y Compras KPI-Reportes/Bases Transito (python)/me2l_r3.xlsx\", dtype={'Posición':'str', 'Documento compras':'str'})\n",
    "\n",
    "\n"
   ]
  },
  {
   "cell_type": "code",
   "execution_count": 7,
   "metadata": {},
   "outputs": [],
   "source": [
    "me2l_df = me2l_df.drop(0)"
   ]
  },
  {
   "cell_type": "markdown",
   "metadata": {},
   "source": [
    "Estructura de ME2L"
   ]
  },
  {
   "cell_type": "code",
   "execution_count": 9,
   "metadata": {},
   "outputs": [],
   "source": [
    "base = pd.read_excel(\"C:/Users/lravlic/Inchcape/Planificación y Compras Chile - Documentos/Planificación y Compras Maestros/Base Planificable/2024-08 Base Planificable/R3/Base Agosto OEM-AXS.xlsx\", header=1)\n",
    "base_df_prov = base[['Proveedor', 'Pais (Proveedor)']]\n",
    "base_df = base[['Material','Texto breve de material','NomSector_actual','TIPO','Corresponde','Proveedor', 'Pais (Proveedor)']]"
   ]
  },
  {
   "cell_type": "markdown",
   "metadata": {},
   "source": [
    "ESTRUCTURA BASE PLANIFICABLE"
   ]
  },
  {
   "cell_type": "code",
   "execution_count": 10,
   "metadata": {},
   "outputs": [],
   "source": [
    "from pathlib import Path\n",
    "#BASE PLANIFICABLE\n",
    "hoy = datetime.datetime.today()\n",
    "usuario = getpass.getuser()\n",
    "ruta = f'C:/Users/{usuario}/Inchcape/Planificación y Compras Chile - Documentos/Bases Indicadores en CSV {hoy.year}-{hoy.month:02d}'\n",
    "ruta_repo = Path(ruta)\n",
    "base_df = base_df[['Material','Texto breve de material','NomSector_actual','TIPO','Corresponde']]"
   ]
  },
  {
   "cell_type": "code",
   "execution_count": 11,
   "metadata": {},
   "outputs": [],
   "source": [
    "columnas= ['Nro_pieza_fabricante_1',\t'Cod_Actual_1']\n",
    "\n",
    "#columnas= ['Nro_pieza_fabricante_1',\t'Cod_Actual_1']\n",
    "ruta_cod = ruta_repo.joinpath('COD_ACTUAL.csv')\n",
    "\n",
    "# Leer el archivo CSV en un DataFrame\n",
    "cod_actual_df = pd.read_csv(ruta_cod)\n",
    "cod_actual_df = cod_actual_df[columnas]"
   ]
  },
  {
   "cell_type": "code",
   "execution_count": 12,
   "metadata": {},
   "outputs": [],
   "source": [
    "base_df_ue = pd.merge(base_df, cod_actual_df, left_on=\"Material\", right_on=\"Nro_pieza_fabricante_1\", how=\"left\")"
   ]
  },
  {
   "cell_type": "code",
   "execution_count": 13,
   "metadata": {},
   "outputs": [],
   "source": [
    "base_df_ue['Cod_Actual_1'] = base_df_ue['Cod_Actual_1'].fillna(base_df_ue['Material'])"
   ]
  },
  {
   "cell_type": "code",
   "execution_count": 14,
   "metadata": {},
   "outputs": [],
   "source": [
    "base_df_ue = base_df_ue[['Cod_Actual_1','Texto breve de material', 'NomSector_actual', 'TIPO','Corresponde']]\n",
    "base_df_ue = base_df_ue.rename(columns={'Cod_Actual_1':'Material'})"
   ]
  },
  {
   "cell_type": "code",
   "execution_count": 15,
   "metadata": {},
   "outputs": [],
   "source": [
    "base_df_ue = base_df_ue.drop_duplicates(subset=['Material'])"
   ]
  },
  {
   "cell_type": "markdown",
   "metadata": {},
   "source": [
    "TRATAMIENTO DE DFS (OC, POSiCION)"
   ]
  },
  {
   "cell_type": "code",
   "execution_count": 16,
   "metadata": {},
   "outputs": [
    {
     "name": "stdout",
     "output_type": "stream",
     "text": [
      "Dimensiones del df1: \n",
      "FILAS:18408\n",
      "COLUMNAS: 37\n"
     ]
    }
   ],
   "source": [
    "print(f'Dimensiones del df1: \\nFILAS:{me2l_df.shape[0]}\\nCOLUMNAS: {me2l_df.shape[1]}')\n",
    "\n"
   ]
  },
  {
   "cell_type": "code",
   "execution_count": 17,
   "metadata": {},
   "outputs": [],
   "source": [
    "me2l_df['Material'] = me2l_df['Material'].astype('str')\n",
    "me2l_df['Material'] = me2l_df['Material'].apply(lambda x: x.split(\".\")[0])"
   ]
  },
  {
   "cell_type": "markdown",
   "metadata": {},
   "source": [
    "ULTIMO ESLABON A ME2L"
   ]
  },
  {
   "cell_type": "code",
   "execution_count": 18,
   "metadata": {},
   "outputs": [],
   "source": [
    "me2l_ue = pd.merge(me2l_df, cod_actual_df, left_on=\"Material\", right_on=\"Nro_pieza_fabricante_1\", how=\"left\")"
   ]
  },
  {
   "cell_type": "code",
   "execution_count": 19,
   "metadata": {},
   "outputs": [],
   "source": [
    "me2l_ue['Cod_Actual_1'].fillna(me2l_ue['Material'], inplace=True)"
   ]
  },
  {
   "cell_type": "code",
   "execution_count": 20,
   "metadata": {},
   "outputs": [],
   "source": [
    "me2l_ue = me2l_ue[['Documento compras', 'Posición', 'Reparto','Cl.documento compras','Tipo doc.compras',\n",
    "       'Grupo de compras','Historial pedido/Docu.orden entrega', 'Fecha documento', 'Material','Cod_Actual_1', 'Texto breve','Grupo de artículos',\n",
    "       'Indicador de borrado','Tipo de posición', 'Tipo de imputación', 'Centro', 'Almacén', 'Cantidad de reparto', 'Cantidad de pedido',\n",
    "       'Unidad medida pedido', 'Precio neto', 'Moneda', 'Cantidad base',\n",
    "       'Fecha de entrega','Hora', 'Fecha entrega estad.',  'Cantidad entrada', 'Cantidad de salida', 'Cantidad entregada',\n",
    "       'Solicitud de pedido', 'Pos.solicitud pedido', 'Indicador creación',\n",
    "       'Cantidad de posiciones', 'Nombre del proveedor',\n",
    "       'Por entregar (cantidad)', 'Por entregar (valor)',\n",
    "       'Por calcular (cantidad)', 'Por calcular (valor)'\n",
    "       ]]\n"
   ]
  },
  {
   "cell_type": "code",
   "execution_count": 21,
   "metadata": {},
   "outputs": [],
   "source": [
    "me2l_ue = me2l_ue.rename(columns={'Material':'Material Antiguo'})\n",
    "me2l_ue = me2l_ue.rename(columns={'Cod_Actual_1':'Material'})\n"
   ]
  },
  {
   "cell_type": "code",
   "execution_count": 22,
   "metadata": {},
   "outputs": [
    {
     "name": "stderr",
     "output_type": "stream",
     "text": [
      "C:\\Users\\lravlic\\AppData\\Local\\Temp\\ipykernel_27184\\889298065.py:52: SettingWithCopyWarning: \n",
      "A value is trying to be set on a copy of a slice from a DataFrame\n",
      "\n",
      "See the caveats in the documentation: https://pandas.pydata.org/pandas-docs/stable/user_guide/indexing.html#returning-a-view-versus-a-copy\n",
      "  me2l_base_tr['Corresponde'].fillna(0, inplace=True)\n",
      "C:\\Users\\lravlic\\AppData\\Local\\Temp\\ipykernel_27184\\889298065.py:53: SettingWithCopyWarning: \n",
      "A value is trying to be set on a copy of a slice from a DataFrame\n",
      "\n",
      "See the caveats in the documentation: https://pandas.pydata.org/pandas-docs/stable/user_guide/indexing.html#returning-a-view-versus-a-copy\n",
      "  me2l_base_tr['Corresponde'].replace({0:1}, inplace=True)\n"
     ]
    },
    {
     "data": {
      "text/html": [
       "<div>\n",
       "<style scoped>\n",
       "    .dataframe tbody tr th:only-of-type {\n",
       "        vertical-align: middle;\n",
       "    }\n",
       "\n",
       "    .dataframe tbody tr th {\n",
       "        vertical-align: top;\n",
       "    }\n",
       "\n",
       "    .dataframe thead th {\n",
       "        text-align: right;\n",
       "    }\n",
       "</style>\n",
       "<table border=\"1\" class=\"dataframe\">\n",
       "  <thead>\n",
       "    <tr style=\"text-align: right;\">\n",
       "      <th></th>\n",
       "      <th>AUX</th>\n",
       "      <th>Documento compras</th>\n",
       "      <th>Posición</th>\n",
       "      <th>Reparto</th>\n",
       "      <th>Cl.documento compras</th>\n",
       "      <th>Tipo doc.compras</th>\n",
       "      <th>Grupo de compras</th>\n",
       "      <th>Historial pedido/Docu.orden entrega</th>\n",
       "      <th>Fecha documento</th>\n",
       "      <th>Material Antiguo</th>\n",
       "      <th>...</th>\n",
       "      <th>Cantidad de posiciones</th>\n",
       "      <th>Nombre del proveedor</th>\n",
       "      <th>Por entregar (cantidad)</th>\n",
       "      <th>Por entregar (valor)</th>\n",
       "      <th>Por calcular (cantidad)</th>\n",
       "      <th>Por calcular (valor)</th>\n",
       "      <th>NomSector_actual</th>\n",
       "      <th>Origen</th>\n",
       "      <th>TIPO</th>\n",
       "      <th>Corresponde</th>\n",
       "    </tr>\n",
       "  </thead>\n",
       "  <tbody>\n",
       "    <tr>\n",
       "      <th>0</th>\n",
       "      <td>430001539910</td>\n",
       "      <td>4300015399</td>\n",
       "      <td>10</td>\n",
       "      <td>1.0</td>\n",
       "      <td>ZVOR</td>\n",
       "      <td>F</td>\n",
       "      <td>RR4</td>\n",
       "      <td>NaN</td>\n",
       "      <td>2024-05-15</td>\n",
       "      <td>S203F2602060605</td>\n",
       "      <td>...</td>\n",
       "      <td>1</td>\n",
       "      <td>10000717   SAMUEL SALVADOR SUAREZ C</td>\n",
       "      <td>4.0</td>\n",
       "      <td>638320.00</td>\n",
       "      <td>4.0</td>\n",
       "      <td>638320.00</td>\n",
       "      <td>Changan</td>\n",
       "      <td>CL</td>\n",
       "      <td>OEM</td>\n",
       "      <td>1.0</td>\n",
       "    </tr>\n",
       "    <tr>\n",
       "      <th>1</th>\n",
       "      <td>430001625610</td>\n",
       "      <td>4300016256</td>\n",
       "      <td>10</td>\n",
       "      <td>1.0</td>\n",
       "      <td>ZVOR</td>\n",
       "      <td>F</td>\n",
       "      <td>RR4</td>\n",
       "      <td>NaN</td>\n",
       "      <td>2024-06-24</td>\n",
       "      <td>4311017560R15CPZ</td>\n",
       "      <td>...</td>\n",
       "      <td>1</td>\n",
       "      <td>10000717   SAMUEL SALVADOR SUAREZ C</td>\n",
       "      <td>4.0</td>\n",
       "      <td>206720.00</td>\n",
       "      <td>4.0</td>\n",
       "      <td>206720.00</td>\n",
       "      <td>Suzuki</td>\n",
       "      <td>CL</td>\n",
       "      <td>OEM</td>\n",
       "      <td>1.0</td>\n",
       "    </tr>\n",
       "    <tr>\n",
       "      <th>2</th>\n",
       "      <td>420000568910</td>\n",
       "      <td>4200005689</td>\n",
       "      <td>10</td>\n",
       "      <td>1.0</td>\n",
       "      <td>ZSTO</td>\n",
       "      <td>F</td>\n",
       "      <td>RR2</td>\n",
       "      <td>NaN</td>\n",
       "      <td>2024-06-11</td>\n",
       "      <td>PORTADOCSUZUKI</td>\n",
       "      <td>...</td>\n",
       "      <td>1</td>\n",
       "      <td>10001447   I.V. Fabrica de producto</td>\n",
       "      <td>400.0</td>\n",
       "      <td>1192000.00</td>\n",
       "      <td>1135.0</td>\n",
       "      <td>3382300.00</td>\n",
       "      <td>Accesorios</td>\n",
       "      <td>CL</td>\n",
       "      <td>AXS</td>\n",
       "      <td>1.0</td>\n",
       "    </tr>\n",
       "    <tr>\n",
       "      <th>3</th>\n",
       "      <td>420000591710</td>\n",
       "      <td>4200005917</td>\n",
       "      <td>10</td>\n",
       "      <td>1.0</td>\n",
       "      <td>ZSTO</td>\n",
       "      <td>F</td>\n",
       "      <td>RR2</td>\n",
       "      <td>NaN</td>\n",
       "      <td>2024-07-10</td>\n",
       "      <td>PORTADCTOKYAL</td>\n",
       "      <td>...</td>\n",
       "      <td>1</td>\n",
       "      <td>10001447   I.V. Fabrica de producto</td>\n",
       "      <td>852.0</td>\n",
       "      <td>3493200.00</td>\n",
       "      <td>852.0</td>\n",
       "      <td>3493200.00</td>\n",
       "      <td>Accesorios</td>\n",
       "      <td>CL</td>\n",
       "      <td>AXS</td>\n",
       "      <td>1.0</td>\n",
       "    </tr>\n",
       "    <tr>\n",
       "      <th>4</th>\n",
       "      <td>420000591740</td>\n",
       "      <td>4200005917</td>\n",
       "      <td>40</td>\n",
       "      <td>1.0</td>\n",
       "      <td>ZSTO</td>\n",
       "      <td>F</td>\n",
       "      <td>RR2</td>\n",
       "      <td>NaN</td>\n",
       "      <td>2024-07-10</td>\n",
       "      <td>PORTADOCPOER</td>\n",
       "      <td>...</td>\n",
       "      <td>1</td>\n",
       "      <td>10001447   I.V. Fabrica de producto</td>\n",
       "      <td>225.0</td>\n",
       "      <td>905625.00</td>\n",
       "      <td>225.0</td>\n",
       "      <td>905625.00</td>\n",
       "      <td>Accesorios</td>\n",
       "      <td>CL</td>\n",
       "      <td>AXS</td>\n",
       "      <td>1.0</td>\n",
       "    </tr>\n",
       "    <tr>\n",
       "      <th>...</th>\n",
       "      <td>...</td>\n",
       "      <td>...</td>\n",
       "      <td>...</td>\n",
       "      <td>...</td>\n",
       "      <td>...</td>\n",
       "      <td>...</td>\n",
       "      <td>...</td>\n",
       "      <td>...</td>\n",
       "      <td>...</td>\n",
       "      <td>...</td>\n",
       "      <td>...</td>\n",
       "      <td>...</td>\n",
       "      <td>...</td>\n",
       "      <td>...</td>\n",
       "      <td>...</td>\n",
       "      <td>...</td>\n",
       "      <td>...</td>\n",
       "      <td>...</td>\n",
       "      <td>...</td>\n",
       "      <td>...</td>\n",
       "      <td>...</td>\n",
       "    </tr>\n",
       "    <tr>\n",
       "      <th>18403</th>\n",
       "      <td>4300017115360</td>\n",
       "      <td>4300017115</td>\n",
       "      <td>360</td>\n",
       "      <td>1.0</td>\n",
       "      <td>ZVOR</td>\n",
       "      <td>F</td>\n",
       "      <td>RR9</td>\n",
       "      <td>NaN</td>\n",
       "      <td>2024-08-05</td>\n",
       "      <td>8210100U1910-F011</td>\n",
       "      <td>...</td>\n",
       "      <td>1</td>\n",
       "      <td>PU02       DERCO PERU S.A.</td>\n",
       "      <td>1.0</td>\n",
       "      <td>12.81</td>\n",
       "      <td>1.0</td>\n",
       "      <td>12.81</td>\n",
       "      <td>JAC Cars</td>\n",
       "      <td>NaN</td>\n",
       "      <td>OEM</td>\n",
       "      <td>1.0</td>\n",
       "    </tr>\n",
       "    <tr>\n",
       "      <th>18404</th>\n",
       "      <td>4300017115370</td>\n",
       "      <td>4300017115</td>\n",
       "      <td>370</td>\n",
       "      <td>1.0</td>\n",
       "      <td>ZVOR</td>\n",
       "      <td>F</td>\n",
       "      <td>RR9</td>\n",
       "      <td>NaN</td>\n",
       "      <td>2024-08-05</td>\n",
       "      <td>Z-1701114-00-00</td>\n",
       "      <td>...</td>\n",
       "      <td>1</td>\n",
       "      <td>PU02       DERCO PERU S.A.</td>\n",
       "      <td>1.0</td>\n",
       "      <td>3.23</td>\n",
       "      <td>1.0</td>\n",
       "      <td>3.23</td>\n",
       "      <td>JAC Cars</td>\n",
       "      <td>NaN</td>\n",
       "      <td>OEM</td>\n",
       "      <td>1.0</td>\n",
       "    </tr>\n",
       "    <tr>\n",
       "      <th>18405</th>\n",
       "      <td>4300017115380</td>\n",
       "      <td>4300017115</td>\n",
       "      <td>380</td>\n",
       "      <td>1.0</td>\n",
       "      <td>ZVOR</td>\n",
       "      <td>F</td>\n",
       "      <td>RR9</td>\n",
       "      <td>NaN</td>\n",
       "      <td>2024-08-05</td>\n",
       "      <td>ZM6T82AF-1701513</td>\n",
       "      <td>...</td>\n",
       "      <td>1</td>\n",
       "      <td>PU02       DERCO PERU S.A.</td>\n",
       "      <td>1.0</td>\n",
       "      <td>3.56</td>\n",
       "      <td>1.0</td>\n",
       "      <td>3.56</td>\n",
       "      <td>JAC Cars</td>\n",
       "      <td>NaN</td>\n",
       "      <td>OEM</td>\n",
       "      <td>1.0</td>\n",
       "    </tr>\n",
       "    <tr>\n",
       "      <th>18406</th>\n",
       "      <td>4300017115390</td>\n",
       "      <td>4300017115</td>\n",
       "      <td>390</td>\n",
       "      <td>1.0</td>\n",
       "      <td>ZVOR</td>\n",
       "      <td>F</td>\n",
       "      <td>RR9</td>\n",
       "      <td>NaN</td>\n",
       "      <td>2024-08-05</td>\n",
       "      <td>6203400XSZ08A</td>\n",
       "      <td>...</td>\n",
       "      <td>1</td>\n",
       "      <td>PU02       DERCO PERU S.A.</td>\n",
       "      <td>1.0</td>\n",
       "      <td>30.16</td>\n",
       "      <td>1.0</td>\n",
       "      <td>30.16</td>\n",
       "      <td>Great Wall</td>\n",
       "      <td>NaN</td>\n",
       "      <td>OEM</td>\n",
       "      <td>1.0</td>\n",
       "    </tr>\n",
       "    <tr>\n",
       "      <th>18407</th>\n",
       "      <td>4300017115400</td>\n",
       "      <td>4300017115</td>\n",
       "      <td>400</td>\n",
       "      <td>1.0</td>\n",
       "      <td>ZVOR</td>\n",
       "      <td>F</td>\n",
       "      <td>RR9</td>\n",
       "      <td>NaN</td>\n",
       "      <td>2024-08-05</td>\n",
       "      <td>8105000XP64XB</td>\n",
       "      <td>...</td>\n",
       "      <td>1</td>\n",
       "      <td>PU02       DERCO PERU S.A.</td>\n",
       "      <td>1.0</td>\n",
       "      <td>105.68</td>\n",
       "      <td>1.0</td>\n",
       "      <td>105.68</td>\n",
       "      <td>Great Wall</td>\n",
       "      <td>NaN</td>\n",
       "      <td>OEM</td>\n",
       "      <td>1.0</td>\n",
       "    </tr>\n",
       "  </tbody>\n",
       "</table>\n",
       "<p>18340 rows × 42 columns</p>\n",
       "</div>"
      ],
      "text/plain": [
       "                 AUX Documento compras Posición  Reparto Cl.documento compras  \\\n",
       "0       430001539910        4300015399       10      1.0                 ZVOR   \n",
       "1       430001625610        4300016256       10      1.0                 ZVOR   \n",
       "2       420000568910        4200005689       10      1.0                 ZSTO   \n",
       "3       420000591710        4200005917       10      1.0                 ZSTO   \n",
       "4       420000591740        4200005917       40      1.0                 ZSTO   \n",
       "...              ...               ...      ...      ...                  ...   \n",
       "18403  4300017115360        4300017115      360      1.0                 ZVOR   \n",
       "18404  4300017115370        4300017115      370      1.0                 ZVOR   \n",
       "18405  4300017115380        4300017115      380      1.0                 ZVOR   \n",
       "18406  4300017115390        4300017115      390      1.0                 ZVOR   \n",
       "18407  4300017115400        4300017115      400      1.0                 ZVOR   \n",
       "\n",
       "      Tipo doc.compras Grupo de compras  Historial pedido/Docu.orden entrega  \\\n",
       "0                    F              RR4                                  NaN   \n",
       "1                    F              RR4                                  NaN   \n",
       "2                    F              RR2                                  NaN   \n",
       "3                    F              RR2                                  NaN   \n",
       "4                    F              RR2                                  NaN   \n",
       "...                ...              ...                                  ...   \n",
       "18403                F              RR9                                  NaN   \n",
       "18404                F              RR9                                  NaN   \n",
       "18405                F              RR9                                  NaN   \n",
       "18406                F              RR9                                  NaN   \n",
       "18407                F              RR9                                  NaN   \n",
       "\n",
       "      Fecha documento   Material Antiguo  ... Cantidad de posiciones  \\\n",
       "0          2024-05-15    S203F2602060605  ...                      1   \n",
       "1          2024-06-24   4311017560R15CPZ  ...                      1   \n",
       "2          2024-06-11     PORTADOCSUZUKI  ...                      1   \n",
       "3          2024-07-10      PORTADCTOKYAL  ...                      1   \n",
       "4          2024-07-10       PORTADOCPOER  ...                      1   \n",
       "...               ...                ...  ...                    ...   \n",
       "18403      2024-08-05  8210100U1910-F011  ...                      1   \n",
       "18404      2024-08-05    Z-1701114-00-00  ...                      1   \n",
       "18405      2024-08-05   ZM6T82AF-1701513  ...                      1   \n",
       "18406      2024-08-05      6203400XSZ08A  ...                      1   \n",
       "18407      2024-08-05      8105000XP64XB  ...                      1   \n",
       "\n",
       "                      Nombre del proveedor  Por entregar (cantidad)  \\\n",
       "0      10000717   SAMUEL SALVADOR SUAREZ C                      4.0   \n",
       "1      10000717   SAMUEL SALVADOR SUAREZ C                      4.0   \n",
       "2      10001447   I.V. Fabrica de producto                    400.0   \n",
       "3      10001447   I.V. Fabrica de producto                    852.0   \n",
       "4      10001447   I.V. Fabrica de producto                    225.0   \n",
       "...                                    ...                      ...   \n",
       "18403           PU02       DERCO PERU S.A.                      1.0   \n",
       "18404           PU02       DERCO PERU S.A.                      1.0   \n",
       "18405           PU02       DERCO PERU S.A.                      1.0   \n",
       "18406           PU02       DERCO PERU S.A.                      1.0   \n",
       "18407           PU02       DERCO PERU S.A.                      1.0   \n",
       "\n",
       "       Por entregar (valor)  Por calcular (cantidad)  Por calcular (valor)  \\\n",
       "0                 638320.00                      4.0             638320.00   \n",
       "1                 206720.00                      4.0             206720.00   \n",
       "2                1192000.00                   1135.0            3382300.00   \n",
       "3                3493200.00                    852.0            3493200.00   \n",
       "4                 905625.00                    225.0             905625.00   \n",
       "...                     ...                      ...                   ...   \n",
       "18403                 12.81                      1.0                 12.81   \n",
       "18404                  3.23                      1.0                  3.23   \n",
       "18405                  3.56                      1.0                  3.56   \n",
       "18406                 30.16                      1.0                 30.16   \n",
       "18407                105.68                      1.0                105.68   \n",
       "\n",
       "       NomSector_actual  Origen  TIPO  Corresponde  \n",
       "0               Changan      CL   OEM          1.0  \n",
       "1                Suzuki      CL   OEM          1.0  \n",
       "2            Accesorios      CL   AXS          1.0  \n",
       "3            Accesorios      CL   AXS          1.0  \n",
       "4            Accesorios      CL   AXS          1.0  \n",
       "...                 ...     ...   ...          ...  \n",
       "18403          JAC Cars     NaN   OEM          1.0  \n",
       "18404          JAC Cars     NaN   OEM          1.0  \n",
       "18405          JAC Cars     NaN   OEM          1.0  \n",
       "18406        Great Wall     NaN   OEM          1.0  \n",
       "18407        Great Wall     NaN   OEM          1.0  \n",
       "\n",
       "[18340 rows x 42 columns]"
      ]
     },
     "execution_count": 22,
     "metadata": {},
     "output_type": "execute_result"
    }
   ],
   "source": [
    "me2l_df['Material'] = me2l_df['Material'].astype('str')\n",
    "me2l_df['Material'] = me2l_df['Material'].apply(lambda x: x.split(\".\")[0])\n",
    "\n",
    "me2l_ue = pd.merge(me2l_df, cod_actual_df, left_on=\"Material\", right_on=\"Nro_pieza_fabricante_1\", how=\"left\")\n",
    "me2l_ue['Cod_Actual_1'].fillna(me2l_ue['Material'], inplace=True)\n",
    "\n",
    "me2l_ue = me2l_ue[['Documento compras', 'Posición', 'Reparto','Cl.documento compras','Tipo doc.compras',\n",
    "       'Grupo de compras','Historial pedido/Docu.orden entrega', 'Fecha documento', 'Material','Cod_Actual_1', 'Texto breve','Grupo de artículos',\n",
    "       'Indicador de borrado','Tipo de posición', 'Tipo de imputación', 'Centro', 'Almacén', 'Cantidad de reparto', 'Cantidad de pedido',\n",
    "       'Unidad medida pedido', 'Precio neto', 'Moneda', 'Cantidad base',\n",
    "       'Fecha de entrega','Hora', 'Fecha entrega estad.',  'Cantidad entrada', 'Cantidad de salida', 'Cantidad entregada',\n",
    "       'Solicitud de pedido', 'Pos.solicitud pedido', 'Indicador creación',\n",
    "       'Cantidad de posiciones', 'Nombre del proveedor',\n",
    "       'Por entregar (cantidad)', 'Por entregar (valor)',\n",
    "       'Por calcular (cantidad)', 'Por calcular (valor)'\n",
    "       ]]\n",
    "\n",
    "me2l_ue = me2l_ue.rename(columns={'Material':'Material Antiguo'})\n",
    "me2l_ue = me2l_ue.rename(columns={'Cod_Actual_1':'Material'})\n",
    "\n",
    "base_df_prov = base_df_prov.drop_duplicates(subset=['Proveedor'])\n",
    "me2l_cruce_sector = pd.merge(me2l_ue, base_df_ue[['Material','Texto breve de material', 'NomSector_actual', 'TIPO','Corresponde']], left_on=\"Material\", right_on=\"Material\", how=\"left\")\n",
    "#me2l_ue.to_excel(\"C:/Users/lravlic/PROYECTOS DATA/PRUEBAS TRANSITO/me2l_sector.xlsx\")\n",
    "me2l_cruce_sector.shape\n",
    "me2l_cruce_sector = me2l_cruce_sector[['Documento compras', 'Posición', 'Reparto','Cl.documento compras','Tipo doc.compras',\n",
    "       'Grupo de compras','Historial pedido/Docu.orden entrega', 'Fecha documento', 'Material Antiguo','Material', 'Texto breve','Grupo de artículos',\n",
    "       'Indicador de borrado','Tipo de posición', 'Tipo de imputación', 'Centro', 'Almacén', 'Cantidad de reparto', 'Cantidad de pedido',\n",
    "       'Unidad medida pedido', 'Precio neto', 'Moneda', \n",
    "       'Fecha de entrega','Hora', 'Fecha entrega estad.',\n",
    "       'Cantidad entrada', 'Cantidad de salida', 'Cantidad entregada',\n",
    "       'Solicitud de pedido', 'Pos.solicitud pedido', 'Indicador creación',\n",
    "       'Cantidad de posiciones', 'Nombre del proveedor',\n",
    "       'Por entregar (cantidad)', 'Por entregar (valor)',\n",
    "       'Por calcular (cantidad)', 'Por calcular (valor)', 'NomSector_actual',\n",
    "       'Texto breve de material', 'TIPO', 'Corresponde']]\n",
    "me2l_cruce_sector['Cod_Prov'] = me2l_cruce_sector['Nombre del proveedor'].str.split(' ', expand=True)[0]\n",
    "me2l_cruce_sector = me2l_cruce_sector.merge(base_df_prov,left_on='Cod_Prov', right_on='Proveedor', how='left')\n",
    "me2l_cruce_sector['Posición'] = me2l_cruce_sector['Posición'].astype('str')\n",
    "me2l_cruce_sector['AUX'] = me2l_cruce_sector['Documento compras'] + me2l_cruce_sector['Posición']\n",
    "me2l_cruce_sector['Origen'] = me2l_cruce_sector['Pais (Proveedor)']\n",
    "me2l_cruce_sector = me2l_cruce_sector[['AUX','Documento compras', 'Posición', 'Reparto','Cl.documento compras','Tipo doc.compras',\n",
    "       'Grupo de compras','Historial pedido/Docu.orden entrega', 'Fecha documento', 'Material Antiguo','Material', 'Texto breve','Grupo de artículos',\n",
    "       'Indicador de borrado','Tipo de posición', 'Tipo de imputación', 'Centro', 'Almacén', 'Cantidad de reparto', 'Cantidad de pedido',\n",
    "       'Unidad medida pedido', 'Precio neto', 'Moneda',\n",
    "       'Fecha de entrega','Hora', 'Fecha entrega estad.',\n",
    "       'Cantidad entrada', 'Cantidad de salida', 'Cantidad entregada',\n",
    "       'Solicitud de pedido', 'Pos.solicitud pedido', 'Indicador creación',\n",
    "       'Cantidad de posiciones', 'Nombre del proveedor',\n",
    "       'Por entregar (cantidad)', 'Por entregar (valor)',\n",
    "       'Por calcular (cantidad)', 'Por calcular (valor)', 'NomSector_actual','Origen', 'TIPO',  'Corresponde']]\n",
    "me2l_base_tr = me2l_cruce_sector[me2l_cruce_sector['NomSector_actual'].notna()]\n",
    "me2l_base_tr['Corresponde'].fillna(0, inplace=True)\n",
    "me2l_base_tr['Corresponde'].replace({0:1}, inplace=True)\n",
    "me2l_base_tr"
   ]
  },
  {
   "cell_type": "code",
   "execution_count": 23,
   "metadata": {},
   "outputs": [],
   "source": [
    "carpeta_tubo = \"C:/Users/lravlic/Inchcape/Planificación y Compras Chile - Documentos/Planificación y Compras KPI-Reportes/Tubo Semanal\"\n",
    "ruta_tubo = os.listdir(carpeta_tubo)[-2]\n",
    "\n",
    "destino_tubo = carpeta_tubo + '/' +ruta_tubo + '/' + ruta_tubo  +' - '\n",
    "\n",
    "me2l_base_tr.to_excel(destino_tubo + 'ME2L R3.xlsx')"
   ]
  },
  {
   "cell_type": "code",
   "execution_count": null,
   "metadata": {},
   "outputs": [],
   "source": []
  },
  {
   "cell_type": "code",
   "execution_count": 24,
   "metadata": {},
   "outputs": [],
   "source": [
    "me2l_cruce_sector['AUX'] = me2l_cruce_sector['Documento compras'] + me2l_cruce_sector['Posición']"
   ]
  },
  {
   "cell_type": "code",
   "execution_count": 25,
   "metadata": {},
   "outputs": [],
   "source": [
    "me2l_cruce_sector = me2l_cruce_sector[['AUX','Documento compras', 'Posición', 'Reparto','Cl.documento compras','Tipo doc.compras',\n",
    "       'Grupo de compras','Historial pedido/Docu.orden entrega', 'Fecha documento', 'Material Antiguo','Material', 'Texto breve','Grupo de artículos',\n",
    "       'Indicador de borrado','Tipo de posición', 'Tipo de imputación', 'Centro', 'Almacén', 'Cantidad de reparto', 'Cantidad de pedido',\n",
    "       'Unidad medida pedido', 'Precio neto', 'Moneda',\n",
    "       'Fecha de entrega','Hora', 'Fecha entrega estad.', \n",
    "       'Cantidad entrada', 'Cantidad de salida', 'Cantidad entregada',\n",
    "       'Solicitud de pedido', 'Pos.solicitud pedido', 'Indicador creación',\n",
    "       'Cantidad de posiciones', 'Nombre del proveedor',\n",
    "       'Por entregar (cantidad)', 'Por entregar (valor)',\n",
    "       'Por calcular (cantidad)', 'Por calcular (valor)', 'NomSector_actual','Origen', 'TIPO',  'Corresponde']]"
   ]
  },
  {
   "cell_type": "code",
   "execution_count": 26,
   "metadata": {},
   "outputs": [],
   "source": [
    "me2l_base_tr = me2l_cruce_sector[me2l_cruce_sector['NomSector_actual'].notna()]"
   ]
  },
  {
   "cell_type": "code",
   "execution_count": 27,
   "metadata": {},
   "outputs": [
    {
     "name": "stderr",
     "output_type": "stream",
     "text": [
      "C:\\Users\\lravlic\\AppData\\Local\\Temp\\ipykernel_27184\\3910453820.py:1: SettingWithCopyWarning: \n",
      "A value is trying to be set on a copy of a slice from a DataFrame\n",
      "\n",
      "See the caveats in the documentation: https://pandas.pydata.org/pandas-docs/stable/user_guide/indexing.html#returning-a-view-versus-a-copy\n",
      "  me2l_base_tr['Corresponde'].fillna(0, inplace=True)\n",
      "C:\\Users\\lravlic\\AppData\\Local\\Temp\\ipykernel_27184\\3910453820.py:2: SettingWithCopyWarning: \n",
      "A value is trying to be set on a copy of a slice from a DataFrame\n",
      "\n",
      "See the caveats in the documentation: https://pandas.pydata.org/pandas-docs/stable/user_guide/indexing.html#returning-a-view-versus-a-copy\n",
      "  me2l_base_tr['Corresponde'].replace({0:1}, inplace=True)\n"
     ]
    }
   ],
   "source": [
    "me2l_base_tr['Corresponde'].fillna(0, inplace=True)\n",
    "me2l_base_tr['Corresponde'].replace({0:1}, inplace=True)"
   ]
  },
  {
   "cell_type": "code",
   "execution_count": 28,
   "metadata": {},
   "outputs": [],
   "source": [
    "bases_oc = me2l_base_tr.groupby(['Documento compras'])['Posición'].count().sort_values(ascending=False).reset_index()"
   ]
  },
  {
   "cell_type": "code",
   "execution_count": 29,
   "metadata": {},
   "outputs": [
    {
     "name": "stderr",
     "output_type": "stream",
     "text": [
      "c:\\Users\\lravlic\\AppData\\Local\\Programs\\Python\\Python312\\Lib\\site-packages\\numpy\\core\\fromnumeric.py:59: FutureWarning: 'DataFrame.swapaxes' is deprecated and will be removed in a future version. Please use 'DataFrame.transpose' instead.\n",
      "  return bound(*args, **kwds)\n"
     ]
    }
   ],
   "source": [
    "\n",
    "\n",
    "# Calculate the number of rows in each part\n",
    "num_rows_per_part = len(bases_oc) // 2  # Integer division to get an equal split\n",
    "\n",
    "# Split the DataFrame into five parts\n",
    "df_parts = np.array_split(bases_oc, 2)\n",
    "\n",
    "\n",
    "# Alternatively, you can access the parts using indexing (e.g., df_parts[0], df_parts[1], etc.)\n",
    "\n",
    "# Each part will have a similar number of rows\n"
   ]
  },
  {
   "cell_type": "code",
   "execution_count": null,
   "metadata": {},
   "outputs": [],
   "source": []
  },
  {
   "cell_type": "code",
   "execution_count": 30,
   "metadata": {},
   "outputs": [],
   "source": [
    "df_parts[0]['Documento compras'].to_clipboard(header=False, index=False)"
   ]
  },
  {
   "cell_type": "code",
   "execution_count": 31,
   "metadata": {},
   "outputs": [],
   "source": [
    "import win32com.client\n",
    "\n",
    "# Initialize SAP GUI scripting engine\n",
    "SapGuiAuto = win32com.client.GetObject(\"SAPGUI\")\n",
    "application = SapGuiAuto.GetScriptingEngine\n",
    "\n",
    "# Get the first connection and session\n",
    "connection = application.Children(0)\n",
    "session = connection.Children(0)\n",
    "\n",
    "# Maximize the SAP window\n",
    "session.findById(\"wnd[0]\").maximize()\n",
    "\n",
    "# Enter transaction code ZMM_MONITOR_ORDEN_CL and execute\n",
    "session.findById(\"wnd[0]/tbar[0]/okcd\").text = \"ZMM_MONITOR_ORDEN_CL\"\n",
    "session.findById(\"wnd[0]\").sendVKey(0)\n",
    "\n",
    "# Select the specific tab\n",
    "session.findById(\"wnd[0]/usr/tabsTABSTRIP_TABB2/tabpMON_OC_OC\").select()\n",
    "\n",
    "# Set focus and position for the required field\n",
    "session.findById(\"wnd[0]/usr/tabsTABSTRIP_TABB2/tabpMON_OC_OC/ssub%_SUBSCREEN_TABB2:ZMM_MONITO3_SEGUIMIENTO_ORV4CL:1003/ctxtSO_OC-LOW\").setFocus()\n",
    "session.findById(\"wnd[0]/usr/tabsTABSTRIP_TABB2/tabpMON_OC_OC/ssub%_SUBSCREEN_TABB2:ZMM_MONITO3_SEGUIMIENTO_ORV4CL:1003/ctxtSO_OC-LOW\").caretPosition = 0\n",
    "\n",
    "# Press the value push button\n",
    "session.findById(\"wnd[0]/usr/tabsTABSTRIP_TABB2/tabpMON_OC_OC/ssub%_SUBSCREEN_TABB2:ZMM_MONITO3_SEGUIMIENTO_ORV4CL:1003/btn%_SO_OC_%_APP_%-VALU_PUSH\").press()\n",
    "\n",
    "# Interact with the buttons in the new window\n",
    "session.findById(\"wnd[1]/tbar[0]/btn[24]\").press()\n",
    "session.findById(\"wnd[1]/tbar[0]/btn[0]\").press()\n",
    "session.findById(\"wnd[1]/tbar[0]/btn[8]\").press()\n",
    "\n",
    "# Send VKey 8 to confirm the entries\n",
    "session.findById(\"wnd[0]\").sendVKey(8)\n",
    "\n",
    "# Press the toolbar button\n",
    "session.findById(\"wnd[0]/usr/cntlCONTROL_ALV_UPPER/shellcont/shell\").pressToolbarButton(\"&MB_VARIANT\")\n",
    "\n",
    "# Interact with the subsequent popup\n",
    "session.findById(\"wnd[1]/usr/ssubD0500_SUBSCREEN:SAPLSLVC_DIALOG:0501/cntlG51_CONTAINER/shellcont/shell\").setCurrentCell(3, \"TEXT\")\n",
    "session.findById(\"wnd[1]/usr/ssubD0500_SUBSCREEN:SAPLSLVC_DIALOG:0501/cntlG51_CONTAINER/shellcont/shell\").selectedRows = \"3\"\n",
    "session.findById(\"wnd[1]/usr/ssubD0500_SUBSCREEN:SAPLSLVC_DIALOG:0501/cntlG51_CONTAINER/shellcont/shell\").clickCurrentCell()\n",
    "\n",
    "# Export the data\n",
    "session.findById(\"wnd[0]/usr/cntlCONTROL_ALV_UPPER/shellcont/shell\").pressToolbarContextButton(\"&MB_EXPORT\")\n",
    "session.findById(\"wnd[0]/usr/cntlCONTROL_ALV_UPPER/shellcont/shell\").selectContextMenuItem(\"&XXL\")\n",
    "session.findById(\"wnd[1]/tbar[0]/btn[0]\").press()\n",
    "\n",
    "# Set the file path and name\n",
    "session.findById(\"wnd[1]/usr/ctxtDY_PATH\").text = \"\"\n",
    "session.findById(\"wnd[1]/usr/ctxtDY_FILENAME\").text = \"monitor_1_r3.XLSX\"\n",
    "session.findById(\"wnd[1]/usr/ctxtDY_PATH\").setFocus()\n",
    "session.findById(\"wnd[1]/usr/ctxtDY_PATH\").caretPosition = 0\n",
    "session.findById(\"wnd[1]\").sendVKey(4)\n",
    "\n",
    "# Set the directory path in the new window\n",
    "session.findById(\"wnd[2]/usr/ctxtDY_PATH\").text = \"C:\\\\Users\\\\lravlic\\\\Inchcape\\\\Planificación y Compras Chile - Documentos\\\\Planificación y Compras KPI-Reportes\\\\Bases Transito (python)\"\n",
    "session.findById(\"wnd[2]/usr/ctxtDY_PATH\").setFocus()\n",
    "session.findById(\"wnd[2]/usr/ctxtDY_PATH\").caretPosition = 131\n",
    "session.findById(\"wnd[2]/tbar[0]/btn[11]\").press()\n",
    "\n",
    "# Confirm the export\n",
    "session.findById(\"wnd[1]/tbar[0]/btn[11]\").press()\n",
    "\n",
    "# Close the windows\n",
    "session.findById(\"wnd[0]\").sendVKey(3)\n",
    "session.findById(\"wnd[0]\").sendVKey(3)\n"
   ]
  },
  {
   "cell_type": "code",
   "execution_count": 32,
   "metadata": {},
   "outputs": [],
   "source": [
    "import xlwings as xw\n",
    "try:\n",
    "    book = xw.Book(\"C:/Users/lravlic/Inchcape/Planificación y Compras Chile - Documentos/Planificación y Compras KPI-Reportes/Bases Transito (python)/monitor_1_r3.XLSX\")\n",
    "    book.close()\n",
    "except Exception as e:\n",
    "    print(e)"
   ]
  },
  {
   "cell_type": "code",
   "execution_count": 33,
   "metadata": {},
   "outputs": [],
   "source": [
    "df_parts[1]['Documento compras'].to_clipboard(header=False, index=False)"
   ]
  },
  {
   "cell_type": "code",
   "execution_count": 34,
   "metadata": {},
   "outputs": [],
   "source": [
    "import win32com.client\n",
    "\n",
    "# Initialize SAP GUI scripting engine\n",
    "SapGuiAuto = win32com.client.GetObject(\"SAPGUI\")\n",
    "application = SapGuiAuto.GetScriptingEngine\n",
    "\n",
    "# Get the first connection and session\n",
    "connection = application.Children(0)\n",
    "session = connection.Children(0)\n",
    "\n",
    "# Maximize the SAP window\n",
    "session.findById(\"wnd[0]\").maximize()\n",
    "\n",
    "# Enter transaction code ZMM_MONITOR_ORDEN_CL and execute\n",
    "session.findById(\"wnd[0]/tbar[0]/okcd\").text = \"ZMM_MONITOR_ORDEN_CL\"\n",
    "session.findById(\"wnd[0]\").sendVKey(0)\n",
    "\n",
    "# Select the specific tab\n",
    "session.findById(\"wnd[0]/usr/tabsTABSTRIP_TABB2/tabpMON_OC_OC\").select()\n",
    "\n",
    "# Set focus and position for the required field\n",
    "session.findById(\"wnd[0]/usr/tabsTABSTRIP_TABB2/tabpMON_OC_OC/ssub%_SUBSCREEN_TABB2:ZMM_MONITO3_SEGUIMIENTO_ORV4CL:1003/ctxtSO_OC-LOW\").setFocus()\n",
    "session.findById(\"wnd[0]/usr/tabsTABSTRIP_TABB2/tabpMON_OC_OC/ssub%_SUBSCREEN_TABB2:ZMM_MONITO3_SEGUIMIENTO_ORV4CL:1003/ctxtSO_OC-LOW\").caretPosition = 0\n",
    "\n",
    "# Press the value push button\n",
    "session.findById(\"wnd[0]/usr/tabsTABSTRIP_TABB2/tabpMON_OC_OC/ssub%_SUBSCREEN_TABB2:ZMM_MONITO3_SEGUIMIENTO_ORV4CL:1003/btn%_SO_OC_%_APP_%-VALU_PUSH\").press()\n",
    "\n",
    "# Interact with the buttons in the new window\n",
    "session.findById(\"wnd[1]/tbar[0]/btn[24]\").press()\n",
    "session.findById(\"wnd[1]/tbar[0]/btn[0]\").press()\n",
    "session.findById(\"wnd[1]/tbar[0]/btn[8]\").press()\n",
    "\n",
    "# Send VKey 8 to confirm the entries\n",
    "session.findById(\"wnd[0]\").sendVKey(8)\n",
    "\n",
    "# Press the toolbar button\n",
    "session.findById(\"wnd[0]/usr/cntlCONTROL_ALV_UPPER/shellcont/shell\").pressToolbarButton(\"&MB_VARIANT\")\n",
    "\n",
    "# Interact with the subsequent popup\n",
    "session.findById(\"wnd[1]/usr/ssubD0500_SUBSCREEN:SAPLSLVC_DIALOG:0501/cntlG51_CONTAINER/shellcont/shell\").setCurrentCell(3, \"TEXT\")\n",
    "session.findById(\"wnd[1]/usr/ssubD0500_SUBSCREEN:SAPLSLVC_DIALOG:0501/cntlG51_CONTAINER/shellcont/shell\").selectedRows = \"3\"\n",
    "session.findById(\"wnd[1]/usr/ssubD0500_SUBSCREEN:SAPLSLVC_DIALOG:0501/cntlG51_CONTAINER/shellcont/shell\").clickCurrentCell()\n",
    "\n",
    "# Export the data\n",
    "session.findById(\"wnd[0]/usr/cntlCONTROL_ALV_UPPER/shellcont/shell\").pressToolbarContextButton(\"&MB_EXPORT\")\n",
    "session.findById(\"wnd[0]/usr/cntlCONTROL_ALV_UPPER/shellcont/shell\").selectContextMenuItem(\"&XXL\")\n",
    "session.findById(\"wnd[1]/tbar[0]/btn[0]\").press()\n",
    "\n",
    "# Set the file path and name\n",
    "session.findById(\"wnd[1]/usr/ctxtDY_PATH\").text = \"\"\n",
    "session.findById(\"wnd[1]/usr/ctxtDY_FILENAME\").text = \"monitor_2_r3.XLSX\"\n",
    "session.findById(\"wnd[1]/usr/ctxtDY_PATH\").setFocus()\n",
    "session.findById(\"wnd[1]/usr/ctxtDY_PATH\").caretPosition = 0\n",
    "session.findById(\"wnd[1]\").sendVKey(4)\n",
    "\n",
    "# Set the directory path in the new window\n",
    "session.findById(\"wnd[2]/usr/ctxtDY_PATH\").text = \"C:\\\\Users\\\\lravlic\\\\Inchcape\\\\Planificación y Compras Chile - Documentos\\\\Planificación y Compras KPI-Reportes\\\\Bases Transito (python)\"\n",
    "session.findById(\"wnd[2]/usr/ctxtDY_PATH\").setFocus()\n",
    "session.findById(\"wnd[2]/usr/ctxtDY_PATH\").caretPosition = 131\n",
    "session.findById(\"wnd[2]/tbar[0]/btn[11]\").press()\n",
    "\n",
    "# Confirm the export\n",
    "session.findById(\"wnd[1]/tbar[0]/btn[11]\").press()\n",
    "\n",
    "# Close the windows\n",
    "session.findById(\"wnd[0]\").sendVKey(3)\n",
    "session.findById(\"wnd[0]\").sendVKey(3)\n"
   ]
  },
  {
   "cell_type": "code",
   "execution_count": 35,
   "metadata": {},
   "outputs": [],
   "source": [
    "import xlwings as xw\n",
    "try:\n",
    "    book = xw.Book(\"C:/Users/lravlic/Inchcape/Planificación y Compras Chile - Documentos/Planificación y Compras KPI-Reportes/Bases Transito (python)/monitor_2_r3.XLSX\")\n",
    "    book.close()\n",
    "except Exception as e:\n",
    "    print(e)"
   ]
  },
  {
   "cell_type": "code",
   "execution_count": 36,
   "metadata": {},
   "outputs": [],
   "source": [
    "bases_oc['Documento compras'].to_clipboard(header=False, index=False)"
   ]
  },
  {
   "cell_type": "code",
   "execution_count": 37,
   "metadata": {},
   "outputs": [],
   "source": [
    "SapGuiAuto = win32com.client.GetObject(\"SAPGUI\")\n",
    "application = SapGuiAuto.GetScriptingEngine\n",
    "connection = application.Children(0)\n",
    "session = connection.Children(0)\n",
    "#now = datetime.now()\n",
    "\n",
    "#session.findById(\"wnd[0]\").maximize\n",
    "#session.findById(\"wnd[0]\").maximize\n",
    "session.findById(\"wnd[0]/tbar[0]/okcd\").text = \"vl06if\"\n",
    "session.findById(\"wnd[0]\").sendVKey(0)\n",
    "session.findById(\"wnd[0]/usr/ctxtIT_LFDAT-LOW\").text = \"\"\n",
    "session.findById(\"wnd[0]/usr/ctxtIT_LFDAT-HIGH\").text = \"\"\n",
    "session.findById(\"wnd[0]/usr/ctxtIT_LFDAT-LOW\").setFocus()\n",
    "session.findById(\"wnd[0]/usr/ctxtIT_LFDAT-LOW\").caretPosition = 0\n",
    "session.findById(\"wnd[0]\").sendVKey(0)\n",
    "session.findById(\"wnd[0]/usr/ctxtIT_LFDAT-HIGH\").setFocus()\n",
    "session.findById(\"wnd[0]/usr/ctxtIT_LFDAT-HIGH\").caretPosition = 0\n",
    "session.findById(\"wnd[0]\").sendVKey(0)\n",
    "session.findById(\"wnd[0]/usr/btn%_IT_EBELN_%_APP_%-VALU_PUSH\").press()\n",
    "session.findById(\"wnd[1]/tbar[0]/btn[24]\").press()\n",
    "session.findById(\"wnd[1]/tbar[0]/btn[0]\").press()\n",
    "session.findById(\"wnd[1]/tbar[0]/btn[8]\").press()\n",
    "session.findById(\"wnd[0]\").sendVKey(8)\n",
    "session.findById(\"wnd[0]/tbar[1]/btn[18]\").press()\n",
    "session.findById(\"wnd[0]\").sendVKey(33)\n",
    "session.findById(\"wnd[1]/usr/lbl[1,7]\").setFocus()\n",
    "session.findById(\"wnd[1]/usr/lbl[1,7]\").caretPosition = 4\n",
    "session.findById(\"wnd[1]\").sendVKey(2)\n",
    "session.findById(\"wnd[0]\").sendVKey(43)\n",
    "session.findById(\"wnd[1]/usr/cmbG_LISTBOX\").setFocus()\n",
    "session.findById(\"wnd[1]/tbar[0]/btn[0]\").press()\n",
    "session.findById(\"wnd[1]/usr/ctxtDY_PATH\").text = \"C:\\\\Users\\\\lravlic\\\\Inchcape\\\\Planificación y Compras Chile - Documentos\\\\Planificación y Compras KPI-Reportes\\\\Bases Transito (python)\"\n",
    "session.findById(\"wnd[1]/tbar[0]/btn[11]\").press()\n",
    "session.findById(\"wnd[0]\").sendVKey(3)\n",
    "session.findById(\"wnd[0]\").sendVKey(3)\n",
    "\n",
    "\n"
   ]
  },
  {
   "cell_type": "code",
   "execution_count": 38,
   "metadata": {},
   "outputs": [],
   "source": [
    "import xlwings as xw\n",
    "try:\n",
    "    book = xw.Book(\"C:/Users/lravlic/Inchcape/Planificación y Compras Chile - Documentos/Planificación y Compras KPI-Reportes/Bases Transito (python)/export.XLSX\")\n",
    "    book.close()\n",
    "except Exception as e:\n",
    "    print(e)"
   ]
  },
  {
   "cell_type": "code",
   "execution_count": 39,
   "metadata": {},
   "outputs": [],
   "source": [
    "lista = os.listdir(\"C:/Users/lravlic/Inchcape/Planificación y Compras Chile - Documentos/Planificación y Compras KPI-Reportes/Bases Transito (python)\")"
   ]
  },
  {
   "cell_type": "code",
   "execution_count": 40,
   "metadata": {},
   "outputs": [
    {
     "name": "stdout",
     "output_type": "stream",
     "text": [
      "Archivos usados (Monitor)\n",
      "monitor_1_r3.XLSX\n",
      "monitor_2_r3.XLSX\n"
     ]
    }
   ],
   "source": [
    "dfs = []\n",
    "print('Archivos usados (Monitor)')\n",
    "for i in lista:\n",
    "    if ('monitor_' in i):\n",
    "        df = pd.read_excel(\"C:/Users/lravlic/Inchcape/Planificación y Compras Chile - Documentos/Planificación y Compras KPI-Reportes/Bases Transito (python)\" + '/' +i, index_col=None)\n",
    "        print(i)\n",
    "        dfs.append(df)\n"
   ]
  },
  {
   "cell_type": "code",
   "execution_count": 41,
   "metadata": {},
   "outputs": [],
   "source": [
    "df_ee = pd.read_excel(\"C:/Users/lravlic/Inchcape/Planificación y Compras Chile - Documentos/Planificación y Compras KPI-Reportes/Bases Transito (python)/export.XLSX\" ,dtype={'Documento compras':'str','Posición modelo':'str'})"
   ]
  },
  {
   "cell_type": "code",
   "execution_count": 42,
   "metadata": {},
   "outputs": [
    {
     "name": "stdout",
     "output_type": "stream",
     "text": [
      "Dimensiones del df1\n",
      ": FILAS:41675\n",
      "COLUMNAS: 13\n"
     ]
    }
   ],
   "source": [
    "print(f'Dimensiones del df1\\n: FILAS:{df_ee.shape[0]}\\nCOLUMNAS: {df_ee.shape[1]}')"
   ]
  },
  {
   "cell_type": "code",
   "execution_count": 43,
   "metadata": {},
   "outputs": [],
   "source": [
    "monitor_df = pd.concat(dfs,axis=0, ignore_index=True)"
   ]
  },
  {
   "cell_type": "code",
   "execution_count": 44,
   "metadata": {},
   "outputs": [
    {
     "data": {
      "text/html": [
       "<div>\n",
       "<style scoped>\n",
       "    .dataframe tbody tr th:only-of-type {\n",
       "        vertical-align: middle;\n",
       "    }\n",
       "\n",
       "    .dataframe tbody tr th {\n",
       "        vertical-align: top;\n",
       "    }\n",
       "\n",
       "    .dataframe thead th {\n",
       "        text-align: right;\n",
       "    }\n",
       "</style>\n",
       "<table border=\"1\" class=\"dataframe\">\n",
       "  <thead>\n",
       "    <tr style=\"text-align: right;\">\n",
       "      <th></th>\n",
       "      <th>Prefijo OC</th>\n",
       "      <th>Nro. OC SAP</th>\n",
       "      <th>Clase Doc. OC</th>\n",
       "      <th>Posición OC SAP</th>\n",
       "      <th>Ind. Borrado OC</th>\n",
       "      <th>Fecha Creación OC</th>\n",
       "      <th>Clase Doc. SP</th>\n",
       "      <th>Nro. SOLPED</th>\n",
       "      <th>Posición SOLPED</th>\n",
       "      <th>Ind. Borrado SP</th>\n",
       "      <th>...</th>\n",
       "      <th>Días del pedido</th>\n",
       "      <th>Días en BO</th>\n",
       "      <th>Días Pend. Emb.</th>\n",
       "      <th>Pedido Cerrado</th>\n",
       "      <th>Material Cotizado</th>\n",
       "      <th>Cód. Mat de prov en PO</th>\n",
       "      <th>Cantidad en BO</th>\n",
       "      <th>Pet.Ofert.Creado por</th>\n",
       "      <th>OC Creado por</th>\n",
       "      <th>Marcar para \"Cerrar\"</th>\n",
       "    </tr>\n",
       "  </thead>\n",
       "  <tbody>\n",
       "    <tr>\n",
       "      <th>0</th>\n",
       "      <td>SIM003-24</td>\n",
       "      <td>4200004288</td>\n",
       "      <td>ZSTO</td>\n",
       "      <td>3930</td>\n",
       "      <td>NaN</td>\n",
       "      <td>2024-01-12</td>\n",
       "      <td>ZSTO</td>\n",
       "      <td>13608391.0</td>\n",
       "      <td>7840</td>\n",
       "      <td>NaN</td>\n",
       "      <td>...</td>\n",
       "      <td>206</td>\n",
       "      <td>0</td>\n",
       "      <td>0</td>\n",
       "      <td>Sí</td>\n",
       "      <td>82801M69R50WAA</td>\n",
       "      <td>82801M69R50-WAA</td>\n",
       "      <td>0</td>\n",
       "      <td>JFIGUEROAP</td>\n",
       "      <td>JFIGUEROAP</td>\n",
       "      <td>Indeterminado</td>\n",
       "    </tr>\n",
       "    <tr>\n",
       "      <th>1</th>\n",
       "      <td>SIM003-24</td>\n",
       "      <td>4200004288</td>\n",
       "      <td>ZSTO</td>\n",
       "      <td>4020</td>\n",
       "      <td>NaN</td>\n",
       "      <td>2024-01-12</td>\n",
       "      <td>ZSTO</td>\n",
       "      <td>13608391.0</td>\n",
       "      <td>7930</td>\n",
       "      <td>NaN</td>\n",
       "      <td>...</td>\n",
       "      <td>206</td>\n",
       "      <td>0</td>\n",
       "      <td>0</td>\n",
       "      <td>Sí</td>\n",
       "      <td>82802M69R50WAA</td>\n",
       "      <td>82802M69R50-WAA</td>\n",
       "      <td>0</td>\n",
       "      <td>JFIGUEROAP</td>\n",
       "      <td>JFIGUEROAP</td>\n",
       "      <td>Indeterminado</td>\n",
       "    </tr>\n",
       "    <tr>\n",
       "      <th>2</th>\n",
       "      <td>SIM003-24</td>\n",
       "      <td>4200004288</td>\n",
       "      <td>ZSTO</td>\n",
       "      <td>4060</td>\n",
       "      <td>NaN</td>\n",
       "      <td>2024-01-12</td>\n",
       "      <td>ZSTO</td>\n",
       "      <td>13608391.0</td>\n",
       "      <td>7970</td>\n",
       "      <td>NaN</td>\n",
       "      <td>...</td>\n",
       "      <td>206</td>\n",
       "      <td>0</td>\n",
       "      <td>0</td>\n",
       "      <td>Sí</td>\n",
       "      <td>82802M69R50ZTN</td>\n",
       "      <td>82802M69R50-ZTN</td>\n",
       "      <td>0</td>\n",
       "      <td>JFIGUEROAP</td>\n",
       "      <td>JFIGUEROAP</td>\n",
       "      <td>Indeterminado</td>\n",
       "    </tr>\n",
       "    <tr>\n",
       "      <th>3</th>\n",
       "      <td>SIM003-24</td>\n",
       "      <td>4200004288</td>\n",
       "      <td>ZSTO</td>\n",
       "      <td>4070</td>\n",
       "      <td>NaN</td>\n",
       "      <td>2024-01-12</td>\n",
       "      <td>ZSTO</td>\n",
       "      <td>13608391.0</td>\n",
       "      <td>7990</td>\n",
       "      <td>NaN</td>\n",
       "      <td>...</td>\n",
       "      <td>206</td>\n",
       "      <td>0</td>\n",
       "      <td>0</td>\n",
       "      <td>Sí</td>\n",
       "      <td>82820M68P20ZTN</td>\n",
       "      <td>82820M68P20-ZTN</td>\n",
       "      <td>0</td>\n",
       "      <td>JFIGUEROAP</td>\n",
       "      <td>JFIGUEROAP</td>\n",
       "      <td>Indeterminado</td>\n",
       "    </tr>\n",
       "    <tr>\n",
       "      <th>4</th>\n",
       "      <td>SIM003-24</td>\n",
       "      <td>4200004288</td>\n",
       "      <td>ZSTO</td>\n",
       "      <td>4080</td>\n",
       "      <td>NaN</td>\n",
       "      <td>2024-01-12</td>\n",
       "      <td>ZSTO</td>\n",
       "      <td>13608391.0</td>\n",
       "      <td>8000</td>\n",
       "      <td>NaN</td>\n",
       "      <td>...</td>\n",
       "      <td>206</td>\n",
       "      <td>0</td>\n",
       "      <td>0</td>\n",
       "      <td>Sí</td>\n",
       "      <td>82820M72R20Z2S</td>\n",
       "      <td>82820M72R20-Z2S</td>\n",
       "      <td>0</td>\n",
       "      <td>JFIGUEROAP</td>\n",
       "      <td>JFIGUEROAP</td>\n",
       "      <td>Indeterminado</td>\n",
       "    </tr>\n",
       "    <tr>\n",
       "      <th>...</th>\n",
       "      <td>...</td>\n",
       "      <td>...</td>\n",
       "      <td>...</td>\n",
       "      <td>...</td>\n",
       "      <td>...</td>\n",
       "      <td>...</td>\n",
       "      <td>...</td>\n",
       "      <td>...</td>\n",
       "      <td>...</td>\n",
       "      <td>...</td>\n",
       "      <td>...</td>\n",
       "      <td>...</td>\n",
       "      <td>...</td>\n",
       "      <td>...</td>\n",
       "      <td>...</td>\n",
       "      <td>...</td>\n",
       "      <td>...</td>\n",
       "      <td>...</td>\n",
       "      <td>...</td>\n",
       "      <td>...</td>\n",
       "      <td>...</td>\n",
       "    </tr>\n",
       "    <tr>\n",
       "      <th>54141</th>\n",
       "      <td>JDM003-23</td>\n",
       "      <td>4200004531</td>\n",
       "      <td>ZSTO</td>\n",
       "      <td>10</td>\n",
       "      <td>NaN</td>\n",
       "      <td>2024-01-25</td>\n",
       "      <td>NaN</td>\n",
       "      <td>NaN</td>\n",
       "      <td>0</td>\n",
       "      <td>NaN</td>\n",
       "      <td>...</td>\n",
       "      <td>0</td>\n",
       "      <td>0</td>\n",
       "      <td>0</td>\n",
       "      <td>No</td>\n",
       "      <td>NaN</td>\n",
       "      <td>NaN</td>\n",
       "      <td>21</td>\n",
       "      <td>NaN</td>\n",
       "      <td>E-LMEZA</td>\n",
       "      <td>Indeterminado</td>\n",
       "    </tr>\n",
       "    <tr>\n",
       "      <th>54142</th>\n",
       "      <td>RFM032-23</td>\n",
       "      <td>4200004378</td>\n",
       "      <td>ZSTO</td>\n",
       "      <td>60</td>\n",
       "      <td>NaN</td>\n",
       "      <td>2024-01-16</td>\n",
       "      <td>NaN</td>\n",
       "      <td>NaN</td>\n",
       "      <td>0</td>\n",
       "      <td>NaN</td>\n",
       "      <td>...</td>\n",
       "      <td>0</td>\n",
       "      <td>0</td>\n",
       "      <td>0</td>\n",
       "      <td>No</td>\n",
       "      <td>NaN</td>\n",
       "      <td>NaN</td>\n",
       "      <td>1</td>\n",
       "      <td>NaN</td>\n",
       "      <td>E-LMEZA</td>\n",
       "      <td>Indeterminado</td>\n",
       "    </tr>\n",
       "    <tr>\n",
       "      <th>54143</th>\n",
       "      <td>CHLJACM028-24</td>\n",
       "      <td>4200005755</td>\n",
       "      <td>ZSTO</td>\n",
       "      <td>10</td>\n",
       "      <td>NaN</td>\n",
       "      <td>2024-06-22</td>\n",
       "      <td>ZSTO</td>\n",
       "      <td>13621900.0</td>\n",
       "      <td>830</td>\n",
       "      <td>NaN</td>\n",
       "      <td>...</td>\n",
       "      <td>48</td>\n",
       "      <td>18</td>\n",
       "      <td>0</td>\n",
       "      <td>No</td>\n",
       "      <td>7911140U3400</td>\n",
       "      <td>7911140U3400</td>\n",
       "      <td>6</td>\n",
       "      <td>APAINEO</td>\n",
       "      <td>APAINEO</td>\n",
       "      <td>Indeterminado</td>\n",
       "    </tr>\n",
       "    <tr>\n",
       "      <th>54144</th>\n",
       "      <td>CHLJACM028-24</td>\n",
       "      <td>4200005755</td>\n",
       "      <td>ZSTO</td>\n",
       "      <td>20</td>\n",
       "      <td>NaN</td>\n",
       "      <td>2024-06-22</td>\n",
       "      <td>ZSTO</td>\n",
       "      <td>13621900.0</td>\n",
       "      <td>860</td>\n",
       "      <td>NaN</td>\n",
       "      <td>...</td>\n",
       "      <td>48</td>\n",
       "      <td>18</td>\n",
       "      <td>0</td>\n",
       "      <td>No</td>\n",
       "      <td>7911141P3010</td>\n",
       "      <td>7911141P3010</td>\n",
       "      <td>6</td>\n",
       "      <td>APAINEO</td>\n",
       "      <td>APAINEO</td>\n",
       "      <td>Indeterminado</td>\n",
       "    </tr>\n",
       "    <tr>\n",
       "      <th>54145</th>\n",
       "      <td>JDM089-23</td>\n",
       "      <td>4400000400</td>\n",
       "      <td>ZIPL</td>\n",
       "      <td>700</td>\n",
       "      <td>NaN</td>\n",
       "      <td>2024-01-09</td>\n",
       "      <td>NaN</td>\n",
       "      <td>NaN</td>\n",
       "      <td>0</td>\n",
       "      <td>NaN</td>\n",
       "      <td>...</td>\n",
       "      <td>0</td>\n",
       "      <td>0</td>\n",
       "      <td>0</td>\n",
       "      <td>No</td>\n",
       "      <td>NaN</td>\n",
       "      <td>NaN</td>\n",
       "      <td>2</td>\n",
       "      <td>NaN</td>\n",
       "      <td>E-LMEZA</td>\n",
       "      <td>Indeterminado</td>\n",
       "    </tr>\n",
       "  </tbody>\n",
       "</table>\n",
       "<p>54146 rows × 106 columns</p>\n",
       "</div>"
      ],
      "text/plain": [
       "          Prefijo OC  Nro. OC SAP Clase Doc. OC  Posición OC SAP  \\\n",
       "0          SIM003-24   4200004288          ZSTO             3930   \n",
       "1          SIM003-24   4200004288          ZSTO             4020   \n",
       "2          SIM003-24   4200004288          ZSTO             4060   \n",
       "3          SIM003-24   4200004288          ZSTO             4070   \n",
       "4          SIM003-24   4200004288          ZSTO             4080   \n",
       "...              ...          ...           ...              ...   \n",
       "54141      JDM003-23   4200004531          ZSTO               10   \n",
       "54142      RFM032-23   4200004378          ZSTO               60   \n",
       "54143  CHLJACM028-24   4200005755          ZSTO               10   \n",
       "54144  CHLJACM028-24   4200005755          ZSTO               20   \n",
       "54145      JDM089-23   4400000400          ZIPL              700   \n",
       "\n",
       "      Ind. Borrado OC Fecha Creación OC Clase Doc. SP  Nro. SOLPED  \\\n",
       "0                 NaN        2024-01-12          ZSTO   13608391.0   \n",
       "1                 NaN        2024-01-12          ZSTO   13608391.0   \n",
       "2                 NaN        2024-01-12          ZSTO   13608391.0   \n",
       "3                 NaN        2024-01-12          ZSTO   13608391.0   \n",
       "4                 NaN        2024-01-12          ZSTO   13608391.0   \n",
       "...               ...               ...           ...          ...   \n",
       "54141             NaN        2024-01-25           NaN          NaN   \n",
       "54142             NaN        2024-01-16           NaN          NaN   \n",
       "54143             NaN        2024-06-22          ZSTO   13621900.0   \n",
       "54144             NaN        2024-06-22          ZSTO   13621900.0   \n",
       "54145             NaN        2024-01-09           NaN          NaN   \n",
       "\n",
       "       Posición SOLPED Ind. Borrado SP  ... Días del pedido  Días en BO  \\\n",
       "0                 7840             NaN  ...             206           0   \n",
       "1                 7930             NaN  ...             206           0   \n",
       "2                 7970             NaN  ...             206           0   \n",
       "3                 7990             NaN  ...             206           0   \n",
       "4                 8000             NaN  ...             206           0   \n",
       "...                ...             ...  ...             ...         ...   \n",
       "54141                0             NaN  ...               0           0   \n",
       "54142                0             NaN  ...               0           0   \n",
       "54143              830             NaN  ...              48          18   \n",
       "54144              860             NaN  ...              48          18   \n",
       "54145                0             NaN  ...               0           0   \n",
       "\n",
       "      Días Pend. Emb.  Pedido Cerrado Material Cotizado  \\\n",
       "0                   0              Sí    82801M69R50WAA   \n",
       "1                   0              Sí    82802M69R50WAA   \n",
       "2                   0              Sí    82802M69R50ZTN   \n",
       "3                   0              Sí    82820M68P20ZTN   \n",
       "4                   0              Sí    82820M72R20Z2S   \n",
       "...               ...             ...               ...   \n",
       "54141               0              No               NaN   \n",
       "54142               0              No               NaN   \n",
       "54143               0              No      7911140U3400   \n",
       "54144               0              No      7911141P3010   \n",
       "54145               0              No               NaN   \n",
       "\n",
       "      Cód. Mat de prov en PO Cantidad en BO Pet.Ofert.Creado por  \\\n",
       "0            82801M69R50-WAA              0           JFIGUEROAP   \n",
       "1            82802M69R50-WAA              0           JFIGUEROAP   \n",
       "2            82802M69R50-ZTN              0           JFIGUEROAP   \n",
       "3            82820M68P20-ZTN              0           JFIGUEROAP   \n",
       "4            82820M72R20-Z2S              0           JFIGUEROAP   \n",
       "...                      ...            ...                  ...   \n",
       "54141                    NaN             21                  NaN   \n",
       "54142                    NaN              1                  NaN   \n",
       "54143           7911140U3400              6              APAINEO   \n",
       "54144           7911141P3010              6              APAINEO   \n",
       "54145                    NaN              2                  NaN   \n",
       "\n",
       "       OC Creado por  Marcar para \"Cerrar\"  \n",
       "0         JFIGUEROAP         Indeterminado  \n",
       "1         JFIGUEROAP         Indeterminado  \n",
       "2         JFIGUEROAP         Indeterminado  \n",
       "3         JFIGUEROAP         Indeterminado  \n",
       "4         JFIGUEROAP         Indeterminado  \n",
       "...              ...                   ...  \n",
       "54141        E-LMEZA         Indeterminado  \n",
       "54142        E-LMEZA         Indeterminado  \n",
       "54143        APAINEO         Indeterminado  \n",
       "54144        APAINEO         Indeterminado  \n",
       "54145        E-LMEZA         Indeterminado  \n",
       "\n",
       "[54146 rows x 106 columns]"
      ]
     },
     "execution_count": 44,
     "metadata": {},
     "output_type": "execute_result"
    }
   ],
   "source": [
    "monitor_df"
   ]
  },
  {
   "cell_type": "code",
   "execution_count": 45,
   "metadata": {},
   "outputs": [],
   "source": [
    "monitor_df.to_excel(destino_tubo + \"Monitor R3.xlsx\")\n"
   ]
  },
  {
   "cell_type": "code",
   "execution_count": 46,
   "metadata": {},
   "outputs": [],
   "source": [
    "df_ee.to_excel(destino_tubo + \"Entrega Entrante R3.xlsx\")"
   ]
  },
  {
   "cell_type": "code",
   "execution_count": 47,
   "metadata": {},
   "outputs": [],
   "source": [
    "#monitor_df = monitor_df[['Nro. OC SAP','Clase Doc. OC','Posición OC SAP','Ind. Borrado OC','Clase Doc. SP','Nro. SOLPED','Posición SOLPED','Ind. Borrado SP','Cant. UN. OC','N° MIRO','Posición Factura',\n",
    "#'Cant. Factura','Fe. Confirmación','Fe. Compromiso','Fe. ATA','TF de ATA','Cantidad en BO','Ind. Borrado PO']]"
   ]
  },
  {
   "cell_type": "code",
   "execution_count": 48,
   "metadata": {},
   "outputs": [],
   "source": [
    "monitor_df['Nro. OC SAP'] = monitor_df['Nro. OC SAP'].astype('str')\n",
    "monitor_df['Posición OC SAP'] = monitor_df['Posición OC SAP'].astype('str')\n"
   ]
  },
  {
   "cell_type": "code",
   "execution_count": 49,
   "metadata": {},
   "outputs": [],
   "source": [
    "monitor_df['AUX'] = monitor_df['Nro. OC SAP'] + monitor_df['Posición OC SAP']"
   ]
  },
  {
   "cell_type": "code",
   "execution_count": 50,
   "metadata": {},
   "outputs": [],
   "source": [
    "monitor_df['N° MIRO'] = monitor_df['N° MIRO'].astype('str')"
   ]
  },
  {
   "cell_type": "code",
   "execution_count": 51,
   "metadata": {},
   "outputs": [],
   "source": [
    "#revision = monitor_df.groupby('AUX')['Fe. ATA'].nunique().sort_values(ascending=False).reset_index()"
   ]
  },
  {
   "cell_type": "code",
   "execution_count": null,
   "metadata": {},
   "outputs": [],
   "source": []
  },
  {
   "cell_type": "code",
   "execution_count": 52,
   "metadata": {},
   "outputs": [],
   "source": [
    "tabla_1 = monitor_df[monitor_df['Ind. Borrado OC'].isna() &\n",
    "    monitor_df['Ind. Borrado SP'].isna() &\n",
    "    monitor_df['Ind. Borrado PO'].isna()].groupby(['AUX', 'N° MIRO']).agg({'Cant. UN. OC':'mean', 'Cant. Factura':'max','Cantidad en BO':'mean'})"
   ]
  },
  {
   "cell_type": "code",
   "execution_count": 53,
   "metadata": {},
   "outputs": [],
   "source": [
    "tabla_final = tabla_1.groupby(['AUX']).agg({'Cant. UN. OC':'mean','Cant. Factura':'sum', 'Cantidad en BO':'mean'}).reset_index()"
   ]
  },
  {
   "cell_type": "code",
   "execution_count": 54,
   "metadata": {},
   "outputs": [
    {
     "name": "stdout",
     "output_type": "stream",
     "text": [
      "Dimension de tabla final: (45050, 4)\n",
      "----------------------------------------\n",
      "Total Campo OC: 613576.0\n",
      "Total Campo Factura: 451806\n",
      "Total Campo BO: 159291.0\n"
     ]
    }
   ],
   "source": [
    "print(f'Dimension de tabla final: {tabla_final.shape}')\n",
    "print('-'*40)\n",
    "print(f'Total Campo OC: {tabla_final['Cant. UN. OC'].sum()}')\n",
    "print(f'Total Campo Factura: {tabla_final['Cant. Factura'].sum()}')\n",
    "print(f'Total Campo BO: {tabla_final['Cantidad en BO'].sum()}')"
   ]
  },
  {
   "cell_type": "code",
   "execution_count": null,
   "metadata": {},
   "outputs": [],
   "source": []
  },
  {
   "cell_type": "code",
   "execution_count": 55,
   "metadata": {},
   "outputs": [
    {
     "data": {
      "text/html": [
       "<div>\n",
       "<style scoped>\n",
       "    .dataframe tbody tr th:only-of-type {\n",
       "        vertical-align: middle;\n",
       "    }\n",
       "\n",
       "    .dataframe tbody tr th {\n",
       "        vertical-align: top;\n",
       "    }\n",
       "\n",
       "    .dataframe thead th {\n",
       "        text-align: right;\n",
       "    }\n",
       "</style>\n",
       "<table border=\"1\" class=\"dataframe\">\n",
       "  <thead>\n",
       "    <tr style=\"text-align: right;\">\n",
       "      <th></th>\n",
       "      <th>AUX</th>\n",
       "      <th>Cant. UN. OC</th>\n",
       "      <th>Cant. Factura</th>\n",
       "      <th>Cantidad en BO</th>\n",
       "    </tr>\n",
       "  </thead>\n",
       "  <tbody>\n",
       "  </tbody>\n",
       "</table>\n",
       "</div>"
      ],
      "text/plain": [
       "Empty DataFrame\n",
       "Columns: [AUX, Cant. UN. OC, Cant. Factura, Cantidad en BO]\n",
       "Index: []"
      ]
     },
     "execution_count": 55,
     "metadata": {},
     "output_type": "execute_result"
    }
   ],
   "source": [
    "tabla_final[tabla_final['AUX']=='420000494760']"
   ]
  },
  {
   "cell_type": "code",
   "execution_count": 56,
   "metadata": {},
   "outputs": [
    {
     "data": {
      "text/plain": [
       "(54146, 107)"
      ]
     },
     "execution_count": 56,
     "metadata": {},
     "output_type": "execute_result"
    }
   ],
   "source": [
    "monitor_df.shape"
   ]
  },
  {
   "cell_type": "code",
   "execution_count": 57,
   "metadata": {},
   "outputs": [
    {
     "data": {
      "text/plain": [
       "Index(['Entrega', 'Posición', 'Material', 'Denominación', 'Cantidad entrega',\n",
       "       'Un.medida venta', 'Fe.entr.mercancías', 'Posición modelo', 'Proveedor',\n",
       "       'Documento modelo', 'Nombre del proveedor', 'Documento compras',\n",
       "       'Status mov.mcía.'],\n",
       "      dtype='object')"
      ]
     },
     "execution_count": 57,
     "metadata": {},
     "output_type": "execute_result"
    }
   ],
   "source": [
    "df_ee.columns"
   ]
  },
  {
   "cell_type": "code",
   "execution_count": 58,
   "metadata": {},
   "outputs": [],
   "source": [
    "df_ee = df_ee[['Documento compras','Posición modelo', 'Cantidad entrega', 'Status mov.mcía.']]"
   ]
  },
  {
   "cell_type": "code",
   "execution_count": 59,
   "metadata": {},
   "outputs": [],
   "source": [
    "df_ee['Documento compras'] = df_ee['Documento compras'].astype('str')\n",
    "df_ee['Posición modelo'] = df_ee['Posición modelo'].astype('str')"
   ]
  },
  {
   "cell_type": "code",
   "execution_count": 60,
   "metadata": {},
   "outputs": [
    {
     "data": {
      "text/plain": [
       "Documento compras    object\n",
       "Posición modelo      object\n",
       "Cantidad entrega      int64\n",
       "Status mov.mcía.     object\n",
       "dtype: object"
      ]
     },
     "execution_count": 60,
     "metadata": {},
     "output_type": "execute_result"
    }
   ],
   "source": [
    "df_ee.dtypes"
   ]
  },
  {
   "cell_type": "code",
   "execution_count": 61,
   "metadata": {},
   "outputs": [
    {
     "data": {
      "text/html": [
       "<div>\n",
       "<style scoped>\n",
       "    .dataframe tbody tr th:only-of-type {\n",
       "        vertical-align: middle;\n",
       "    }\n",
       "\n",
       "    .dataframe tbody tr th {\n",
       "        vertical-align: top;\n",
       "    }\n",
       "\n",
       "    .dataframe thead th {\n",
       "        text-align: right;\n",
       "    }\n",
       "</style>\n",
       "<table border=\"1\" class=\"dataframe\">\n",
       "  <thead>\n",
       "    <tr style=\"text-align: right;\">\n",
       "      <th></th>\n",
       "      <th>Cantidad entrega</th>\n",
       "      <th>Status mov.mcía.</th>\n",
       "      <th>AUX</th>\n",
       "    </tr>\n",
       "  </thead>\n",
       "  <tbody>\n",
       "    <tr>\n",
       "      <th>0</th>\n",
       "      <td>2</td>\n",
       "      <td>C</td>\n",
       "      <td>420000413360</td>\n",
       "    </tr>\n",
       "    <tr>\n",
       "      <th>1</th>\n",
       "      <td>1</td>\n",
       "      <td>C</td>\n",
       "      <td>420000413370</td>\n",
       "    </tr>\n",
       "    <tr>\n",
       "      <th>2</th>\n",
       "      <td>1</td>\n",
       "      <td>C</td>\n",
       "      <td>4200004133130</td>\n",
       "    </tr>\n",
       "    <tr>\n",
       "      <th>3</th>\n",
       "      <td>2</td>\n",
       "      <td>C</td>\n",
       "      <td>4200004133190</td>\n",
       "    </tr>\n",
       "    <tr>\n",
       "      <th>4</th>\n",
       "      <td>1</td>\n",
       "      <td>C</td>\n",
       "      <td>4200004133260</td>\n",
       "    </tr>\n",
       "    <tr>\n",
       "      <th>...</th>\n",
       "      <td>...</td>\n",
       "      <td>...</td>\n",
       "      <td>...</td>\n",
       "    </tr>\n",
       "    <tr>\n",
       "      <th>41670</th>\n",
       "      <td>1</td>\n",
       "      <td>A</td>\n",
       "      <td>430001712460</td>\n",
       "    </tr>\n",
       "    <tr>\n",
       "      <th>41671</th>\n",
       "      <td>1</td>\n",
       "      <td>A</td>\n",
       "      <td>430001712470</td>\n",
       "    </tr>\n",
       "    <tr>\n",
       "      <th>41672</th>\n",
       "      <td>1</td>\n",
       "      <td>A</td>\n",
       "      <td>430001712480</td>\n",
       "    </tr>\n",
       "    <tr>\n",
       "      <th>41673</th>\n",
       "      <td>32</td>\n",
       "      <td>NaN</td>\n",
       "      <td>nannan</td>\n",
       "    </tr>\n",
       "    <tr>\n",
       "      <th>41674</th>\n",
       "      <td>503301</td>\n",
       "      <td>NaN</td>\n",
       "      <td>nannan</td>\n",
       "    </tr>\n",
       "  </tbody>\n",
       "</table>\n",
       "<p>41675 rows × 3 columns</p>\n",
       "</div>"
      ],
      "text/plain": [
       "       Cantidad entrega Status mov.mcía.            AUX\n",
       "0                     2                C   420000413360\n",
       "1                     1                C   420000413370\n",
       "2                     1                C  4200004133130\n",
       "3                     2                C  4200004133190\n",
       "4                     1                C  4200004133260\n",
       "...                 ...              ...            ...\n",
       "41670                 1                A   430001712460\n",
       "41671                 1                A   430001712470\n",
       "41672                 1                A   430001712480\n",
       "41673                32              NaN         nannan\n",
       "41674            503301              NaN         nannan\n",
       "\n",
       "[41675 rows x 3 columns]"
      ]
     },
     "execution_count": 61,
     "metadata": {},
     "output_type": "execute_result"
    }
   ],
   "source": [
    "df_ee['AUX'] = df_ee['Documento compras'] + df_ee['Posición modelo']\n",
    "df_ee.drop(columns=['Documento compras','Posición modelo'])"
   ]
  },
  {
   "cell_type": "code",
   "execution_count": 62,
   "metadata": {},
   "outputs": [],
   "source": [
    "table_ee = df_ee[df_ee['Status mov.mcía.']=='C'].groupby(['AUX'])['Cantidad entrega'].sum().reset_index()"
   ]
  },
  {
   "cell_type": "code",
   "execution_count": 63,
   "metadata": {},
   "outputs": [
    {
     "data": {
      "text/plain": [
       "(18340, 42)"
      ]
     },
     "execution_count": 63,
     "metadata": {},
     "output_type": "execute_result"
    }
   ],
   "source": [
    "me2l_base_tr.shape"
   ]
  },
  {
   "cell_type": "code",
   "execution_count": 64,
   "metadata": {},
   "outputs": [],
   "source": [
    "me2l_15 = me2l_base_tr"
   ]
  },
  {
   "cell_type": "code",
   "execution_count": null,
   "metadata": {},
   "outputs": [],
   "source": []
  },
  {
   "cell_type": "code",
   "execution_count": 65,
   "metadata": {},
   "outputs": [
    {
     "data": {
      "text/plain": [
       "Index(['Prefijo OC', 'Nro. OC SAP', 'Clase Doc. OC', 'Posición OC SAP',\n",
       "       'Ind. Borrado OC', 'Fecha Creación OC', 'Clase Doc. SP', 'Nro. SOLPED',\n",
       "       'Posición SOLPED', 'Ind. Borrado SP',\n",
       "       ...\n",
       "       'Días en BO', 'Días Pend. Emb.', 'Pedido Cerrado', 'Material Cotizado',\n",
       "       'Cód. Mat de prov en PO', 'Cantidad en BO', 'Pet.Ofert.Creado por',\n",
       "       'OC Creado por', 'Marcar para \"Cerrar\"', 'AUX'],\n",
       "      dtype='object', length=107)"
      ]
     },
     "execution_count": 65,
     "metadata": {},
     "output_type": "execute_result"
    }
   ],
   "source": [
    "monitor_df.columns"
   ]
  },
  {
   "cell_type": "code",
   "execution_count": 66,
   "metadata": {},
   "outputs": [],
   "source": [
    "monitor_df.drop_duplicates(subset=['AUX'], inplace=True)"
   ]
  },
  {
   "cell_type": "code",
   "execution_count": 67,
   "metadata": {},
   "outputs": [],
   "source": [
    "me2l_15 = me2l_base_tr"
   ]
  },
  {
   "cell_type": "code",
   "execution_count": 68,
   "metadata": {},
   "outputs": [
    {
     "data": {
      "text/plain": [
       "AUX                                            object\n",
       "Documento compras                              object\n",
       "Posición                                       object\n",
       "Reparto                                       float64\n",
       "Cl.documento compras                           object\n",
       "Tipo doc.compras                               object\n",
       "Grupo de compras                               object\n",
       "Historial pedido/Docu.orden entrega           float64\n",
       "Fecha documento                        datetime64[ns]\n",
       "Material Antiguo                               object\n",
       "Material                                       object\n",
       "Texto breve                                    object\n",
       "Grupo de artículos                            float64\n",
       "Indicador de borrado                          float64\n",
       "Tipo de posición                              float64\n",
       "Tipo de imputación                            float64\n",
       "Centro                                        float64\n",
       "Almacén                                       float64\n",
       "Cantidad de reparto                           float64\n",
       "Cantidad de pedido                            float64\n",
       "Unidad medida pedido                           object\n",
       "Precio neto                                   float64\n",
       "Moneda                                         object\n",
       "Fecha de entrega                       datetime64[ns]\n",
       "Hora                                           object\n",
       "Fecha entrega estad.                   datetime64[ns]\n",
       "Cantidad entrada                              float64\n",
       "Cantidad de salida                            float64\n",
       "Cantidad entregada                            float64\n",
       "Solicitud de pedido                           float64\n",
       "Pos.solicitud pedido                          float64\n",
       "Indicador creación                             object\n",
       "Cantidad de posiciones                          int64\n",
       "Nombre del proveedor                           object\n",
       "Por entregar (cantidad)                       float64\n",
       "Por entregar (valor)                          float64\n",
       "Por calcular (cantidad)                       float64\n",
       "Por calcular (valor)                          float64\n",
       "NomSector_actual                               object\n",
       "Origen                                         object\n",
       "TIPO                                           object\n",
       "Corresponde                                   float64\n",
       "dtype: object"
      ]
     },
     "execution_count": 68,
     "metadata": {},
     "output_type": "execute_result"
    }
   ],
   "source": [
    "me2l_15.dtypes"
   ]
  },
  {
   "cell_type": "code",
   "execution_count": 69,
   "metadata": {},
   "outputs": [
    {
     "data": {
      "text/html": [
       "<div>\n",
       "<style scoped>\n",
       "    .dataframe tbody tr th:only-of-type {\n",
       "        vertical-align: middle;\n",
       "    }\n",
       "\n",
       "    .dataframe tbody tr th {\n",
       "        vertical-align: top;\n",
       "    }\n",
       "\n",
       "    .dataframe thead th {\n",
       "        text-align: right;\n",
       "    }\n",
       "</style>\n",
       "<table border=\"1\" class=\"dataframe\">\n",
       "  <thead>\n",
       "    <tr style=\"text-align: right;\">\n",
       "      <th></th>\n",
       "      <th>index</th>\n",
       "      <th>AUX</th>\n",
       "      <th>Cant. UN. OC</th>\n",
       "      <th>Cant. Factura</th>\n",
       "      <th>Cantidad en BO</th>\n",
       "    </tr>\n",
       "  </thead>\n",
       "  <tbody>\n",
       "    <tr>\n",
       "      <th>0</th>\n",
       "      <td>0</td>\n",
       "      <td>4200004121100</td>\n",
       "      <td>1.0</td>\n",
       "      <td>1</td>\n",
       "      <td>0.0</td>\n",
       "    </tr>\n",
       "    <tr>\n",
       "      <th>1</th>\n",
       "      <td>1</td>\n",
       "      <td>4200004121110</td>\n",
       "      <td>1.0</td>\n",
       "      <td>1</td>\n",
       "      <td>0.0</td>\n",
       "    </tr>\n",
       "    <tr>\n",
       "      <th>2</th>\n",
       "      <td>2</td>\n",
       "      <td>4200004121120</td>\n",
       "      <td>1.0</td>\n",
       "      <td>1</td>\n",
       "      <td>0.0</td>\n",
       "    </tr>\n",
       "    <tr>\n",
       "      <th>3</th>\n",
       "      <td>3</td>\n",
       "      <td>4200004121130</td>\n",
       "      <td>1.0</td>\n",
       "      <td>1</td>\n",
       "      <td>0.0</td>\n",
       "    </tr>\n",
       "    <tr>\n",
       "      <th>4</th>\n",
       "      <td>4</td>\n",
       "      <td>4200004121140</td>\n",
       "      <td>1.0</td>\n",
       "      <td>1</td>\n",
       "      <td>0.0</td>\n",
       "    </tr>\n",
       "    <tr>\n",
       "      <th>...</th>\n",
       "      <td>...</td>\n",
       "      <td>...</td>\n",
       "      <td>...</td>\n",
       "      <td>...</td>\n",
       "      <td>...</td>\n",
       "    </tr>\n",
       "    <tr>\n",
       "      <th>45045</th>\n",
       "      <td>45045</td>\n",
       "      <td>470001887680</td>\n",
       "      <td>1.0</td>\n",
       "      <td>0</td>\n",
       "      <td>1.0</td>\n",
       "    </tr>\n",
       "    <tr>\n",
       "      <th>45046</th>\n",
       "      <td>45046</td>\n",
       "      <td>470001887690</td>\n",
       "      <td>1.0</td>\n",
       "      <td>0</td>\n",
       "      <td>1.0</td>\n",
       "    </tr>\n",
       "    <tr>\n",
       "      <th>45047</th>\n",
       "      <td>45047</td>\n",
       "      <td>470001891610</td>\n",
       "      <td>40.0</td>\n",
       "      <td>0</td>\n",
       "      <td>40.0</td>\n",
       "    </tr>\n",
       "    <tr>\n",
       "      <th>45048</th>\n",
       "      <td>45048</td>\n",
       "      <td>470001891620</td>\n",
       "      <td>40.0</td>\n",
       "      <td>0</td>\n",
       "      <td>40.0</td>\n",
       "    </tr>\n",
       "    <tr>\n",
       "      <th>45049</th>\n",
       "      <td>45049</td>\n",
       "      <td>470001891630</td>\n",
       "      <td>40.0</td>\n",
       "      <td>0</td>\n",
       "      <td>40.0</td>\n",
       "    </tr>\n",
       "  </tbody>\n",
       "</table>\n",
       "<p>45050 rows × 5 columns</p>\n",
       "</div>"
      ],
      "text/plain": [
       "       index            AUX  Cant. UN. OC  Cant. Factura  Cantidad en BO\n",
       "0          0  4200004121100           1.0              1             0.0\n",
       "1          1  4200004121110           1.0              1             0.0\n",
       "2          2  4200004121120           1.0              1             0.0\n",
       "3          3  4200004121130           1.0              1             0.0\n",
       "4          4  4200004121140           1.0              1             0.0\n",
       "...      ...            ...           ...            ...             ...\n",
       "45045  45045   470001887680           1.0              0             1.0\n",
       "45046  45046   470001887690           1.0              0             1.0\n",
       "45047  45047   470001891610          40.0              0            40.0\n",
       "45048  45048   470001891620          40.0              0            40.0\n",
       "45049  45049   470001891630          40.0              0            40.0\n",
       "\n",
       "[45050 rows x 5 columns]"
      ]
     },
     "execution_count": 69,
     "metadata": {},
     "output_type": "execute_result"
    }
   ],
   "source": [
    "tabla_final.reset_index()"
   ]
  },
  {
   "cell_type": "code",
   "execution_count": 70,
   "metadata": {},
   "outputs": [],
   "source": [
    "me2l_15 = me2l_15.merge(monitor_df[['AUX','Fe. ATA']], left_on='AUX', right_on='AUX', how = 'left')"
   ]
  },
  {
   "cell_type": "code",
   "execution_count": 71,
   "metadata": {},
   "outputs": [],
   "source": [
    "me2l_15['Fecha Est. Fact'] = np.where(me2l_15['Fe. ATA'].notnull(), me2l_15['Fe. ATA'] + pd.Timedelta(days=15), me2l_15['Fecha de entrega'])"
   ]
  },
  {
   "cell_type": "code",
   "execution_count": 72,
   "metadata": {},
   "outputs": [
    {
     "data": {
      "text/html": [
       "<div>\n",
       "<style scoped>\n",
       "    .dataframe tbody tr th:only-of-type {\n",
       "        vertical-align: middle;\n",
       "    }\n",
       "\n",
       "    .dataframe tbody tr th {\n",
       "        vertical-align: top;\n",
       "    }\n",
       "\n",
       "    .dataframe thead th {\n",
       "        text-align: right;\n",
       "    }\n",
       "</style>\n",
       "<table border=\"1\" class=\"dataframe\">\n",
       "  <thead>\n",
       "    <tr style=\"text-align: right;\">\n",
       "      <th></th>\n",
       "      <th>AUX</th>\n",
       "      <th>Cant. UN. OC</th>\n",
       "      <th>Cant. Factura</th>\n",
       "      <th>Cantidad en BO</th>\n",
       "    </tr>\n",
       "  </thead>\n",
       "  <tbody>\n",
       "    <tr>\n",
       "      <th>0</th>\n",
       "      <td>4200004121100</td>\n",
       "      <td>1.0</td>\n",
       "      <td>1</td>\n",
       "      <td>0.0</td>\n",
       "    </tr>\n",
       "    <tr>\n",
       "      <th>1</th>\n",
       "      <td>4200004121110</td>\n",
       "      <td>1.0</td>\n",
       "      <td>1</td>\n",
       "      <td>0.0</td>\n",
       "    </tr>\n",
       "    <tr>\n",
       "      <th>2</th>\n",
       "      <td>4200004121120</td>\n",
       "      <td>1.0</td>\n",
       "      <td>1</td>\n",
       "      <td>0.0</td>\n",
       "    </tr>\n",
       "    <tr>\n",
       "      <th>3</th>\n",
       "      <td>4200004121130</td>\n",
       "      <td>1.0</td>\n",
       "      <td>1</td>\n",
       "      <td>0.0</td>\n",
       "    </tr>\n",
       "    <tr>\n",
       "      <th>4</th>\n",
       "      <td>4200004121140</td>\n",
       "      <td>1.0</td>\n",
       "      <td>1</td>\n",
       "      <td>0.0</td>\n",
       "    </tr>\n",
       "  </tbody>\n",
       "</table>\n",
       "</div>"
      ],
      "text/plain": [
       "             AUX  Cant. UN. OC  Cant. Factura  Cantidad en BO\n",
       "0  4200004121100           1.0              1             0.0\n",
       "1  4200004121110           1.0              1             0.0\n",
       "2  4200004121120           1.0              1             0.0\n",
       "3  4200004121130           1.0              1             0.0\n",
       "4  4200004121140           1.0              1             0.0"
      ]
     },
     "execution_count": 72,
     "metadata": {},
     "output_type": "execute_result"
    }
   ],
   "source": [
    "tabla_final.head()"
   ]
  },
  {
   "cell_type": "code",
   "execution_count": 73,
   "metadata": {},
   "outputs": [
    {
     "data": {
      "text/plain": [
       "(45376, 107)"
      ]
     },
     "execution_count": 73,
     "metadata": {},
     "output_type": "execute_result"
    }
   ],
   "source": [
    "monitor_df.shape"
   ]
  },
  {
   "cell_type": "code",
   "execution_count": 74,
   "metadata": {},
   "outputs": [],
   "source": [
    "me2l_15 = me2l_15.merge(tabla_final[['AUX', 'Cant. Factura']], left_on = 'AUX', right_on='AUX',how='left')"
   ]
  },
  {
   "cell_type": "code",
   "execution_count": 75,
   "metadata": {},
   "outputs": [],
   "source": [
    "me2l_15['Cant. Factura'] = me2l_15['Cant. Factura'] * me2l_15['Corresponde']"
   ]
  },
  {
   "cell_type": "code",
   "execution_count": 76,
   "metadata": {},
   "outputs": [
    {
     "data": {
      "text/plain": [
       "118321.0"
      ]
     },
     "execution_count": 76,
     "metadata": {},
     "output_type": "execute_result"
    }
   ],
   "source": [
    "me2l_15['Cant. Factura'].sum()"
   ]
  },
  {
   "cell_type": "code",
   "execution_count": 77,
   "metadata": {},
   "outputs": [
    {
     "data": {
      "text/plain": [
       "Index(['AUX', 'Cantidad entrega'], dtype='object')"
      ]
     },
     "execution_count": 77,
     "metadata": {},
     "output_type": "execute_result"
    }
   ],
   "source": [
    "table_ee.columns"
   ]
  },
  {
   "cell_type": "code",
   "execution_count": 78,
   "metadata": {},
   "outputs": [],
   "source": [
    "me2l_15= me2l_15.merge(table_ee, left_on='AUX', right_on='AUX', how='left')"
   ]
  },
  {
   "cell_type": "code",
   "execution_count": 79,
   "metadata": {},
   "outputs": [
    {
     "data": {
      "text/html": [
       "<div>\n",
       "<style scoped>\n",
       "    .dataframe tbody tr th:only-of-type {\n",
       "        vertical-align: middle;\n",
       "    }\n",
       "\n",
       "    .dataframe tbody tr th {\n",
       "        vertical-align: top;\n",
       "    }\n",
       "\n",
       "    .dataframe thead th {\n",
       "        text-align: right;\n",
       "    }\n",
       "</style>\n",
       "<table border=\"1\" class=\"dataframe\">\n",
       "  <thead>\n",
       "    <tr style=\"text-align: right;\">\n",
       "      <th></th>\n",
       "      <th>AUX</th>\n",
       "      <th>Cantidad entrega</th>\n",
       "    </tr>\n",
       "  </thead>\n",
       "  <tbody>\n",
       "    <tr>\n",
       "      <th>0</th>\n",
       "      <td>4200004121100</td>\n",
       "      <td>1</td>\n",
       "    </tr>\n",
       "    <tr>\n",
       "      <th>1</th>\n",
       "      <td>4200004121110</td>\n",
       "      <td>1</td>\n",
       "    </tr>\n",
       "    <tr>\n",
       "      <th>2</th>\n",
       "      <td>4200004121120</td>\n",
       "      <td>1</td>\n",
       "    </tr>\n",
       "    <tr>\n",
       "      <th>3</th>\n",
       "      <td>4200004121130</td>\n",
       "      <td>1</td>\n",
       "    </tr>\n",
       "    <tr>\n",
       "      <th>4</th>\n",
       "      <td>4200004121140</td>\n",
       "      <td>1</td>\n",
       "    </tr>\n",
       "  </tbody>\n",
       "</table>\n",
       "</div>"
      ],
      "text/plain": [
       "             AUX  Cantidad entrega\n",
       "0  4200004121100                 1\n",
       "1  4200004121110                 1\n",
       "2  4200004121120                 1\n",
       "3  4200004121130                 1\n",
       "4  4200004121140                 1"
      ]
     },
     "execution_count": 79,
     "metadata": {},
     "output_type": "execute_result"
    }
   ],
   "source": [
    "table_ee.head()"
   ]
  },
  {
   "cell_type": "code",
   "execution_count": 80,
   "metadata": {},
   "outputs": [],
   "source": [
    "me2l_15['Cantidad entrega'] = me2l_15['Cantidad entrega']*me2l_15['Corresponde']"
   ]
  },
  {
   "cell_type": "code",
   "execution_count": 81,
   "metadata": {},
   "outputs": [
    {
     "data": {
      "text/plain": [
       "14898.0"
      ]
     },
     "execution_count": 81,
     "metadata": {},
     "output_type": "execute_result"
    }
   ],
   "source": [
    "me2l_15['Cantidad entrega'].sum()"
   ]
  },
  {
   "cell_type": "code",
   "execution_count": 82,
   "metadata": {},
   "outputs": [],
   "source": [
    "me2l_15['Qty por Entregar'] = me2l_15['Por entregar (cantidad)']*me2l_15['Corresponde']"
   ]
  },
  {
   "cell_type": "code",
   "execution_count": 83,
   "metadata": {},
   "outputs": [
    {
     "data": {
      "text/plain": [
       "243585.0"
      ]
     },
     "execution_count": 83,
     "metadata": {},
     "output_type": "execute_result"
    }
   ],
   "source": [
    "me2l_15['Qty por Entregar'].sum()"
   ]
  },
  {
   "cell_type": "code",
   "execution_count": 84,
   "metadata": {},
   "outputs": [],
   "source": [
    "#cambiar esto por la fecha del dia actual\n",
    "\n",
    "hoy = datetime.datetime.today()"
   ]
  },
  {
   "cell_type": "code",
   "execution_count": null,
   "metadata": {},
   "outputs": [],
   "source": []
  },
  {
   "cell_type": "code",
   "execution_count": 85,
   "metadata": {},
   "outputs": [],
   "source": [
    "me2l_15['Cantidad entrega'].fillna(0, inplace=True)"
   ]
  },
  {
   "cell_type": "code",
   "execution_count": 86,
   "metadata": {},
   "outputs": [],
   "source": [
    "\n",
    "\n",
    "# Suponiendo que 'me2l_15' es tu DataFrame y 'AW4', 'BJ4' y 'AT4' son columnas en tu DataFrame\n",
    "result = me2l_15['Cant. Factura'] - me2l_15['Cantidad entrega']\n",
    "result = np.where(np.isnan(result), me2l_15['Qty por Entregar'], result)\n",
    "\n",
    "me2l_15['Qty Fact Corr'] = np.where(result<0, 0, result)"
   ]
  },
  {
   "cell_type": "code",
   "execution_count": 87,
   "metadata": {},
   "outputs": [],
   "source": [
    "me2l_15[['AUX','Qty Fact Corr']].to_excel('verif_x_entr.xlsx')"
   ]
  },
  {
   "cell_type": "code",
   "execution_count": 88,
   "metadata": {},
   "outputs": [],
   "source": [
    "hoy = pd.to_datetime(hoy)"
   ]
  },
  {
   "cell_type": "code",
   "execution_count": 89,
   "metadata": {},
   "outputs": [
    {
     "data": {
      "text/plain": [
       "Timestamp('2024-12-11 00:00:00')"
      ]
     },
     "execution_count": 89,
     "metadata": {},
     "output_type": "execute_result"
    }
   ],
   "source": [
    "me2l_15[ 'Fecha Est. Fact'].max()"
   ]
  },
  {
   "cell_type": "code",
   "execution_count": 90,
   "metadata": {},
   "outputs": [],
   "source": [
    "conditions = [\n",
    "    (me2l_15['Qty Fact Corr'] > 0) & (me2l_15['Fecha Est. Fact'] >= hoy),\n",
    "    (me2l_15['Qty Fact Corr'] > 0) & (me2l_15['Fecha Est. Fact'] < hoy)\n",
    "]\n",
    "\n",
    "choices = ['Facturado No Vencido', 'Facturado Vencido']\n",
    "\n",
    "me2l_15['Status TR Fact'] = np.select(conditions, choices, default='No Facturado')"
   ]
  },
  {
   "cell_type": "code",
   "execution_count": 91,
   "metadata": {},
   "outputs": [
    {
     "data": {
      "text/plain": [
       "Status TR Fact\n",
       "No Facturado            10822\n",
       "Facturado No Vencido     7253\n",
       "Facturado Vencido         265\n",
       "Name: count, dtype: int64"
      ]
     },
     "execution_count": 91,
     "metadata": {},
     "output_type": "execute_result"
    }
   ],
   "source": [
    "me2l_15['Status TR Fact'].value_counts()"
   ]
  },
  {
   "cell_type": "code",
   "execution_count": 92,
   "metadata": {},
   "outputs": [],
   "source": [
    "from datetime import timedelta, datetime\n",
    "\n",
    "hoy_31 = hoy  + timedelta(days=31)"
   ]
  },
  {
   "cell_type": "code",
   "execution_count": 93,
   "metadata": {},
   "outputs": [],
   "source": [
    "hoy_31 = pd.to_datetime(hoy_31)"
   ]
  },
  {
   "cell_type": "code",
   "execution_count": null,
   "metadata": {},
   "outputs": [],
   "source": []
  },
  {
   "cell_type": "code",
   "execution_count": 94,
   "metadata": {},
   "outputs": [],
   "source": [
    "condition = (me2l_15['Fecha de entrega'] > hoy) & (me2l_15['Fecha de entrega'] < hoy_31)\n",
    "\n",
    "# Apply the condition using boolean indexing and assign 'SI' or 'NO' accordingly\n",
    "me2l_15['Fecha BO Mes Actual'] = np.where(condition, 'SI', 'NO')"
   ]
  },
  {
   "cell_type": "code",
   "execution_count": 95,
   "metadata": {},
   "outputs": [
    {
     "data": {
      "text/plain": [
       "Fecha BO Mes Actual\n",
       "NO    14015\n",
       "SI     4325\n",
       "Name: count, dtype: int64"
      ]
     },
     "execution_count": 95,
     "metadata": {},
     "output_type": "execute_result"
    }
   ],
   "source": [
    "me2l_15['Fecha BO Mes Actual'].value_counts()"
   ]
  },
  {
   "cell_type": "code",
   "execution_count": 96,
   "metadata": {},
   "outputs": [],
   "source": [
    "condition= (me2l_15['Fecha de entrega']< hoy)\n",
    "\n",
    "me2l_15['TR Vencido'] = np.where(condition, 'SI','NO')"
   ]
  },
  {
   "cell_type": "code",
   "execution_count": 97,
   "metadata": {},
   "outputs": [
    {
     "data": {
      "text/plain": [
       "TR Vencido\n",
       "NO    14543\n",
       "SI     3797\n",
       "Name: count, dtype: int64"
      ]
     },
     "execution_count": 97,
     "metadata": {},
     "output_type": "execute_result"
    }
   ],
   "source": [
    "me2l_15['TR Vencido'].value_counts()"
   ]
  },
  {
   "cell_type": "code",
   "execution_count": 98,
   "metadata": {},
   "outputs": [],
   "source": [
    "conditions = [\n",
    "    (me2l_15['Fecha BO Mes Actual'] == \"NO\") & (me2l_15['TR Vencido'] == \"NO\"),\n",
    "    (me2l_15['TR Vencido'] == \"SI\"),\n",
    "]\n",
    "\n",
    "# Define choices\n",
    "choices = [\n",
    "    \"Fecha Teórica\",\n",
    "    \"TR Vencido\",\n",
    "]\n",
    "\n",
    "# Apply np.select\n",
    "me2l_15['Statur TR No FAct'] = np.select(conditions, choices, default=\"Replanificar +45\")"
   ]
  },
  {
   "cell_type": "code",
   "execution_count": 99,
   "metadata": {},
   "outputs": [
    {
     "data": {
      "text/plain": [
       "118321.0"
      ]
     },
     "execution_count": 99,
     "metadata": {},
     "output_type": "execute_result"
    }
   ],
   "source": [
    "me2l_15['Cant. Factura'].sum()"
   ]
  },
  {
   "cell_type": "code",
   "execution_count": 100,
   "metadata": {},
   "outputs": [],
   "source": [
    "#Qty BO\n",
    "me2l_15['Cant. BO'] = me2l_15['Cant. Factura'].fillna(0, inplace=True)"
   ]
  },
  {
   "cell_type": "code",
   "execution_count": 101,
   "metadata": {},
   "outputs": [],
   "source": [
    "#Cant Factura : Cant Fact CORR\n",
    "#QTY BO: CHECK"
   ]
  },
  {
   "cell_type": "code",
   "execution_count": 102,
   "metadata": {},
   "outputs": [],
   "source": [
    "condicion = (me2l_15['Fecha Est. Fact'] < hoy)\n",
    "\n",
    "me2l_15['Atraso'] = np.where(condicion, 'SI','NO')"
   ]
  },
  {
   "cell_type": "code",
   "execution_count": 103,
   "metadata": {},
   "outputs": [
    {
     "data": {
      "text/plain": [
       "Atraso\n",
       "NO    14816\n",
       "SI     3524\n",
       "Name: count, dtype: int64"
      ]
     },
     "execution_count": 103,
     "metadata": {},
     "output_type": "execute_result"
    }
   ],
   "source": [
    "me2l_15['Atraso'].value_counts()"
   ]
  },
  {
   "cell_type": "code",
   "execution_count": 104,
   "metadata": {},
   "outputs": [
    {
     "data": {
      "text/plain": [
       "0       2024-06-15\n",
       "1       2024-06-24\n",
       "2       2024-07-06\n",
       "3       2024-08-04\n",
       "4       2024-08-04\n",
       "           ...    \n",
       "18335   2024-09-19\n",
       "18336   2024-09-19\n",
       "18337   2024-09-19\n",
       "18338   2024-09-19\n",
       "18339   2024-09-19\n",
       "Name: Fecha Est. Fact, Length: 18340, dtype: datetime64[ns]"
      ]
     },
     "execution_count": 104,
     "metadata": {},
     "output_type": "execute_result"
    }
   ],
   "source": [
    "me2l_15['Fecha Est. Fact']"
   ]
  },
  {
   "cell_type": "code",
   "execution_count": 105,
   "metadata": {},
   "outputs": [],
   "source": [
    "condicion = (me2l_15['Atraso'] == 'SI')\n",
    "\n",
    "me2l_15['Fecha Facturacion Final'] = np.where(condicion, hoy_31, me2l_15['Fecha Est. Fact'])\n",
    "\n"
   ]
  },
  {
   "cell_type": "code",
   "execution_count": 106,
   "metadata": {},
   "outputs": [
    {
     "data": {
      "text/plain": [
       "0        2024-09-05 15:19:20.938111\n",
       "1        2024-09-05 15:19:20.938111\n",
       "2        2024-09-05 15:19:20.938111\n",
       "3        2024-09-05 15:19:20.938111\n",
       "4        2024-09-05 15:19:20.938111\n",
       "                    ...            \n",
       "18335           1726704000000000000\n",
       "18336           1726704000000000000\n",
       "18337           1726704000000000000\n",
       "18338           1726704000000000000\n",
       "18339           1726704000000000000\n",
       "Name: Fecha Facturacion Final, Length: 18340, dtype: object"
      ]
     },
     "execution_count": 106,
     "metadata": {},
     "output_type": "execute_result"
    }
   ],
   "source": [
    "me2l_15['Fecha Facturacion Final']"
   ]
  },
  {
   "cell_type": "code",
   "execution_count": 107,
   "metadata": {},
   "outputs": [],
   "source": [
    "me2l_15['Fecha Facturacion Final'] = pd.to_datetime(me2l_15['Fecha Facturacion Final'])"
   ]
  },
  {
   "cell_type": "code",
   "execution_count": 108,
   "metadata": {},
   "outputs": [
    {
     "data": {
      "text/plain": [
       "0       2024-09-05 15:19:20.938111\n",
       "1       2024-09-05 15:19:20.938111\n",
       "2       2024-09-05 15:19:20.938111\n",
       "3       2024-09-05 15:19:20.938111\n",
       "4       2024-09-05 15:19:20.938111\n",
       "                   ...            \n",
       "18335   2024-09-19 00:00:00.000000\n",
       "18336   2024-09-19 00:00:00.000000\n",
       "18337   2024-09-19 00:00:00.000000\n",
       "18338   2024-09-19 00:00:00.000000\n",
       "18339   2024-09-19 00:00:00.000000\n",
       "Name: Fecha Facturacion Final, Length: 18340, dtype: datetime64[ns]"
      ]
     },
     "execution_count": 108,
     "metadata": {},
     "output_type": "execute_result"
    }
   ],
   "source": [
    "me2l_15['Fecha Facturacion Final']"
   ]
  },
  {
   "cell_type": "code",
   "execution_count": 109,
   "metadata": {},
   "outputs": [
    {
     "data": {
      "text/plain": [
       "Prefijo OC              object\n",
       "Nro. OC SAP             object\n",
       "Clase Doc. OC           object\n",
       "Posición OC SAP         object\n",
       "Ind. Borrado OC         object\n",
       "                         ...  \n",
       "Cantidad en BO           int64\n",
       "Pet.Ofert.Creado por    object\n",
       "OC Creado por           object\n",
       "Marcar para \"Cerrar\"    object\n",
       "AUX                     object\n",
       "Length: 107, dtype: object"
      ]
     },
     "execution_count": 109,
     "metadata": {},
     "output_type": "execute_result"
    }
   ],
   "source": [
    "monitor_df.dtypes"
   ]
  },
  {
   "cell_type": "code",
   "execution_count": 110,
   "metadata": {},
   "outputs": [],
   "source": [
    "me2l_15 = me2l_15.merge(monitor_df[['AUX', 'Vía (Texto)']], left_on='AUX', right_on='AUX', how='left')"
   ]
  },
  {
   "cell_type": "code",
   "execution_count": 111,
   "metadata": {},
   "outputs": [
    {
     "data": {
      "text/plain": [
       "Vía (Texto)\n",
       "Marítimo     12820\n",
       "Aéreo         1706\n",
       "Courier       1405\n",
       "Terrestre      176\n",
       "Name: count, dtype: int64"
      ]
     },
     "execution_count": 111,
     "metadata": {},
     "output_type": "execute_result"
    }
   ],
   "source": [
    "me2l_15['Vía (Texto)'].value_counts()"
   ]
  },
  {
   "cell_type": "code",
   "execution_count": 112,
   "metadata": {},
   "outputs": [
    {
     "data": {
      "text/plain": [
       "Index(['AUX', 'Documento compras', 'Posición', 'Reparto',\n",
       "       'Cl.documento compras', 'Tipo doc.compras', 'Grupo de compras',\n",
       "       'Historial pedido/Docu.orden entrega', 'Fecha documento',\n",
       "       'Material Antiguo', 'Material', 'Texto breve', 'Grupo de artículos',\n",
       "       'Indicador de borrado', 'Tipo de posición', 'Tipo de imputación',\n",
       "       'Centro', 'Almacén', 'Cantidad de reparto', 'Cantidad de pedido',\n",
       "       'Unidad medida pedido', 'Precio neto', 'Moneda', 'Fecha de entrega',\n",
       "       'Hora', 'Fecha entrega estad.', 'Cantidad entrada',\n",
       "       'Cantidad de salida', 'Cantidad entregada', 'Solicitud de pedido',\n",
       "       'Pos.solicitud pedido', 'Indicador creación', 'Cantidad de posiciones',\n",
       "       'Nombre del proveedor', 'Por entregar (cantidad)',\n",
       "       'Por entregar (valor)', 'Por calcular (cantidad)',\n",
       "       'Por calcular (valor)', 'NomSector_actual', 'Origen', 'TIPO',\n",
       "       'Corresponde', 'Fe. ATA', 'Fecha Est. Fact', 'Cant. Factura',\n",
       "       'Cantidad entrega', 'Qty por Entregar', 'Qty Fact Corr',\n",
       "       'Status TR Fact', 'Fecha BO Mes Actual', 'TR Vencido',\n",
       "       'Statur TR No FAct', 'Cant. BO', 'Atraso', 'Fecha Facturacion Final',\n",
       "       'Vía (Texto)'],\n",
       "      dtype='object')"
      ]
     },
     "execution_count": 112,
     "metadata": {},
     "output_type": "execute_result"
    }
   ],
   "source": [
    "me2l_15.columns"
   ]
  },
  {
   "cell_type": "code",
   "execution_count": 113,
   "metadata": {},
   "outputs": [],
   "source": [
    "me2l_15['LT Objetivo'] = np.where(me2l_15['Vía (Texto)'].isin([\"Marítimo\", \"Terrestre\"]), 45,\n",
    "                    np.where(me2l_15['Vía (Texto)'] == \"Aéreo\", 15,\n",
    "                        np.where(me2l_15['Vía (Texto)'] == \"Courier\", 7, 0)))"
   ]
  },
  {
   "cell_type": "code",
   "execution_count": 114,
   "metadata": {},
   "outputs": [],
   "source": [
    "me2l_15 = me2l_15.merge(monitor_df[['AUX','Fe. Confirmación']], left_on='AUX',right_on='AUX', how='left')"
   ]
  },
  {
   "cell_type": "code",
   "execution_count": 115,
   "metadata": {},
   "outputs": [],
   "source": [
    "me2l_15['Fecha OC'] = np.where((me2l_15['Fe. Confirmación'] == 0) | (me2l_15['Fe. Confirmación'].isna()), me2l_15['Fecha documento'], me2l_15['Fe. Confirmación'])"
   ]
  },
  {
   "cell_type": "code",
   "execution_count": 116,
   "metadata": {},
   "outputs": [],
   "source": [
    "import datetime\n",
    "today = hoy"
   ]
  },
  {
   "cell_type": "code",
   "execution_count": 117,
   "metadata": {},
   "outputs": [],
   "source": [
    "today = pd.to_datetime(today)"
   ]
  },
  {
   "cell_type": "code",
   "execution_count": 118,
   "metadata": {},
   "outputs": [],
   "source": [
    "\n",
    "\n",
    "# Calculate the difference\n",
    "me2l_15['Dias LT BO'] = (today - me2l_15['Fecha OC']).dt.days - me2l_15['LT Objetivo']\n",
    "\n",
    "# Handling potential errors, setting them to 0\n",
    "me2l_15['Dias LT BO'] = me2l_15['Dias LT BO'].fillna(0)"
   ]
  },
  {
   "cell_type": "code",
   "execution_count": 119,
   "metadata": {},
   "outputs": [
    {
     "data": {
      "text/plain": [
       "543358"
      ]
     },
     "execution_count": 119,
     "metadata": {},
     "output_type": "execute_result"
    }
   ],
   "source": [
    "me2l_15['Dias LT BO'].sum()"
   ]
  },
  {
   "cell_type": "code",
   "execution_count": 120,
   "metadata": {},
   "outputs": [],
   "source": [
    "import pandas as pd\n",
    "import numpy as np\n",
    "\n",
    "# Define conditions and choices\n",
    "conditions = [\n",
    "    (me2l_15['Vía (Texto)'].isin([\"Marítimo\", \"Terrestre\"])) & (me2l_15['Dias LT BO'].between(1, 30)),\n",
    "    (me2l_15['Vía (Texto)'].isin([\"Marítimo\", \"Terrestre\"])) & (me2l_15['Dias LT BO'].between(31, 60)),\n",
    "    (me2l_15['Vía (Texto)'].isin([\"Marítimo\", \"Terrestre\"])) & (me2l_15['Dias LT BO'].between(61, 90)),\n",
    "    (me2l_15['Vía (Texto)'].isin([\"Marítimo\", \"Terrestre\"])) & (me2l_15['Dias LT BO'] > 90),\n",
    "    (me2l_15['Vía (Texto)'] == \"Aéreo\") & (me2l_15['Dias LT BO'].between(1, 15)),\n",
    "    (me2l_15['Vía (Texto)'] == \"Aéreo\") & (me2l_15['Dias LT BO'].between(16, 30)),\n",
    "    (me2l_15['Vía (Texto)'] == \"Aéreo\") & (me2l_15['Dias LT BO'].between(31, 45)),\n",
    "    (me2l_15['Vía (Texto)'] == \"Courier\") & (me2l_15['Dias LT BO'].between(1, 7)),\n",
    "    (me2l_15['Vía (Texto)'] == \"Courier\") & (me2l_15['Dias LT BO'].between(8, 15)),\n",
    "    (me2l_15['Vía (Texto)'] == \"Courier\") & (me2l_15['Dias LT BO'].between(16, 21)),\n",
    "    (me2l_15['Vía (Texto)'] == \"Courier\") & (me2l_15['Dias LT BO'] > 21),\n",
    "    (me2l_15['Vía (Texto)'] == \"Aéreo\") & (me2l_15['Dias LT BO'] > 45)\n",
    "]\n",
    "\n",
    "choices = [\n",
    "    \"De 1 a 30 días\",\n",
    "    \"De 31 a 60 días\",\n",
    "    \"De 61 a 90 días\",\n",
    "    \"De 91 días a más\",\n",
    "    \"De 1 a 15 días\",\n",
    "    \"De 16 a 30 días\",\n",
    "    \"De 31 a 45 días\",\n",
    "    \"De 1 a 7 días\",\n",
    "    \"De 8 a 15 días\",\n",
    "    \"De 16 a 21 días\",\n",
    "    \"De 21 días a más\",\n",
    "    \"De 45 días a más\"\n",
    "]\n",
    "\n",
    "# Assign the values based on conditions\n",
    "me2l_15['Categoría LT'] = np.select(conditions, choices, default=\"Dentro de LT\")\n",
    "\n"
   ]
  },
  {
   "cell_type": "code",
   "execution_count": 121,
   "metadata": {},
   "outputs": [
    {
     "data": {
      "text/plain": [
       "Categoría LT\n",
       "Dentro de LT        7079\n",
       "De 1 a 30 días      4030\n",
       "De 31 a 60 días     2526\n",
       "De 61 a 90 días     1666\n",
       "De 91 días a más     644\n",
       "De 45 días a más     569\n",
       "De 1 a 15 días       316\n",
       "De 1 a 7 días        314\n",
       "De 21 días a más     299\n",
       "De 16 a 30 días      288\n",
       "De 31 a 45 días      261\n",
       "De 8 a 15 días       189\n",
       "De 16 a 21 días      159\n",
       "Name: count, dtype: int64"
      ]
     },
     "execution_count": 121,
     "metadata": {},
     "output_type": "execute_result"
    }
   ],
   "source": [
    "me2l_15['Categoría LT'].value_counts()"
   ]
  },
  {
   "cell_type": "code",
   "execution_count": 122,
   "metadata": {},
   "outputs": [],
   "source": [
    "import pandas as pd\n",
    "import numpy as np\n",
    "\n",
    "# Assuming CE4 is a column in the DataFrame and BV1 is a variable\n",
    "BV1 = 45  # Assuming the value of $BV$1 is 45\n",
    "\n",
    "# Define conditions and choices\n",
    "conditions = [\n",
    "    me2l_15['Statur TR No FAct'] == \"Replanificar +45\",\n",
    "    me2l_15['Statur TR No FAct'] == \"Fecha Teórica\",\n",
    "    (me2l_15['Statur TR No FAct'] == \"TR Vencido\") & ((me2l_15['Categoría LT'] == 0) | (me2l_15['Categoría LT'] == \"Dentro de LT\")),\n",
    "    (me2l_15['Statur TR No FAct'] == \"TR Vencido\") & (me2l_15['Categoría LT'] == \"De 31 a 60 días\"),\n",
    "    (me2l_15['Statur TR No FAct'] == \"TR Vencido\") & (me2l_15['Categoría LT'] == \"De 61 a 90 días\")\n",
    "]\n",
    "\n",
    "choices = [\n",
    "    hoy + timedelta(days =45),\n",
    "    me2l_15['Fecha Facturacion Final'],\n",
    "    hoy + timedelta(days =30),\n",
    "    hoy + timedelta(days =60),\n",
    "    hoy + timedelta(days =90)\n",
    "]\n",
    "\n",
    "# Assign the values based on conditions\n",
    "me2l_15['Fecha No Fact'] = np.select(conditions, choices, default=hoy + timedelta(days =120))\n"
   ]
  },
  {
   "cell_type": "code",
   "execution_count": 123,
   "metadata": {},
   "outputs": [],
   "source": [
    "me2l_15['Fecha No Fact'] = pd.to_datetime(me2l_15['Fecha No Fact'])"
   ]
  },
  {
   "cell_type": "code",
   "execution_count": 124,
   "metadata": {},
   "outputs": [
    {
     "data": {
      "text/plain": [
       "Index(['AUX', 'Cant. UN. OC', 'Cant. Factura', 'Cantidad en BO'], dtype='object')"
      ]
     },
     "execution_count": 124,
     "metadata": {},
     "output_type": "execute_result"
    }
   ],
   "source": [
    "tabla_final.columns"
   ]
  },
  {
   "cell_type": "code",
   "execution_count": 125,
   "metadata": {},
   "outputs": [],
   "source": [
    "me2l_15= me2l_15.merge(tabla_final[['AUX','Cantidad en BO']], left_on='AUX',right_on='AUX', how='left')"
   ]
  },
  {
   "cell_type": "code",
   "execution_count": 126,
   "metadata": {},
   "outputs": [],
   "source": [
    "me2l_15['Cantidad en BO'] = me2l_15['Cantidad en BO']*me2l_15['Corresponde']"
   ]
  },
  {
   "cell_type": "code",
   "execution_count": null,
   "metadata": {},
   "outputs": [],
   "source": []
  },
  {
   "cell_type": "code",
   "execution_count": 127,
   "metadata": {},
   "outputs": [],
   "source": [
    "me2l_15['Cantidad en BO'].fillna(0, inplace=True)"
   ]
  },
  {
   "cell_type": "code",
   "execution_count": 128,
   "metadata": {},
   "outputs": [
    {
     "data": {
      "text/plain": [
       "Index(['AUX', 'Documento compras', 'Posición', 'Reparto',\n",
       "       'Cl.documento compras', 'Tipo doc.compras', 'Grupo de compras',\n",
       "       'Historial pedido/Docu.orden entrega', 'Fecha documento',\n",
       "       'Material Antiguo', 'Material', 'Texto breve', 'Grupo de artículos',\n",
       "       'Indicador de borrado', 'Tipo de posición', 'Tipo de imputación',\n",
       "       'Centro', 'Almacén', 'Cantidad de reparto', 'Cantidad de pedido',\n",
       "       'Unidad medida pedido', 'Precio neto', 'Moneda', 'Fecha de entrega',\n",
       "       'Hora', 'Fecha entrega estad.', 'Cantidad entrada',\n",
       "       'Cantidad de salida', 'Cantidad entregada', 'Solicitud de pedido',\n",
       "       'Pos.solicitud pedido', 'Indicador creación', 'Cantidad de posiciones',\n",
       "       'Nombre del proveedor', 'Por entregar (cantidad)',\n",
       "       'Por entregar (valor)', 'Por calcular (cantidad)',\n",
       "       'Por calcular (valor)', 'NomSector_actual', 'Origen', 'TIPO',\n",
       "       'Corresponde', 'Fe. ATA', 'Fecha Est. Fact', 'Cant. Factura',\n",
       "       'Cantidad entrega', 'Qty por Entregar', 'Qty Fact Corr',\n",
       "       'Status TR Fact', 'Fecha BO Mes Actual', 'TR Vencido',\n",
       "       'Statur TR No FAct', 'Cant. BO', 'Atraso', 'Fecha Facturacion Final',\n",
       "       'Vía (Texto)', 'LT Objetivo', 'Fe. Confirmación', 'Fecha OC',\n",
       "       'Dias LT BO', 'Categoría LT', 'Fecha No Fact', 'Cantidad en BO'],\n",
       "      dtype='object')"
      ]
     },
     "execution_count": 128,
     "metadata": {},
     "output_type": "execute_result"
    }
   ],
   "source": [
    "me2l_15.columns"
   ]
  },
  {
   "cell_type": "code",
   "execution_count": 129,
   "metadata": {},
   "outputs": [],
   "source": [
    "import numpy as np\n",
    "\n",
    "# Crear una condición basada en la columna 'TIPO'\n",
    "condicion = (me2l_15['TIPO'] == 'OEM') & (me2l_15['Por calcular (cantidad)'] == 0)\n",
    "\n",
    "# Actualizar la columna 'Cantidad en BO' basada en la condición\n",
    "me2l_15['Cantidad en BO'] = np.where(condicion, 0, me2l_15['Cantidad en BO'])\n",
    "\n"
   ]
  },
  {
   "cell_type": "code",
   "execution_count": 130,
   "metadata": {},
   "outputs": [
    {
     "data": {
      "text/plain": [
       "Series([], Name: Por calcular (cantidad), dtype: float64)"
      ]
     },
     "execution_count": 130,
     "metadata": {},
     "output_type": "execute_result"
    }
   ],
   "source": [
    "me2l_15['Por calcular (cantidad)'][me2l_15['AUX']=='420000494760']\n"
   ]
  },
  {
   "cell_type": "code",
   "execution_count": 131,
   "metadata": {},
   "outputs": [
    {
     "data": {
      "text/plain": [
       "TIPO\n",
       "OEM    18120\n",
       "AXS      220\n",
       "Name: count, dtype: int64"
      ]
     },
     "execution_count": 131,
     "metadata": {},
     "output_type": "execute_result"
    }
   ],
   "source": [
    "me2l_15['TIPO'].value_counts()"
   ]
  },
  {
   "cell_type": "code",
   "execution_count": 132,
   "metadata": {},
   "outputs": [
    {
     "data": {
      "text/plain": [
       "141559.0"
      ]
     },
     "execution_count": 132,
     "metadata": {},
     "output_type": "execute_result"
    }
   ],
   "source": [
    "me2l_15['Cantidad en BO'].sum()"
   ]
  },
  {
   "cell_type": "code",
   "execution_count": 133,
   "metadata": {},
   "outputs": [
    {
     "data": {
      "text/html": [
       "<div>\n",
       "<style scoped>\n",
       "    .dataframe tbody tr th:only-of-type {\n",
       "        vertical-align: middle;\n",
       "    }\n",
       "\n",
       "    .dataframe tbody tr th {\n",
       "        vertical-align: top;\n",
       "    }\n",
       "\n",
       "    .dataframe thead th {\n",
       "        text-align: right;\n",
       "    }\n",
       "</style>\n",
       "<table border=\"1\" class=\"dataframe\">\n",
       "  <thead>\n",
       "    <tr style=\"text-align: right;\">\n",
       "      <th></th>\n",
       "      <th>AUX</th>\n",
       "      <th>Documento compras</th>\n",
       "      <th>Posición</th>\n",
       "      <th>Reparto</th>\n",
       "      <th>Cl.documento compras</th>\n",
       "      <th>Tipo doc.compras</th>\n",
       "      <th>Grupo de compras</th>\n",
       "      <th>Historial pedido/Docu.orden entrega</th>\n",
       "      <th>Fecha documento</th>\n",
       "      <th>Material Antiguo</th>\n",
       "      <th>...</th>\n",
       "      <th>Atraso</th>\n",
       "      <th>Fecha Facturacion Final</th>\n",
       "      <th>Vía (Texto)</th>\n",
       "      <th>LT Objetivo</th>\n",
       "      <th>Fe. Confirmación</th>\n",
       "      <th>Fecha OC</th>\n",
       "      <th>Dias LT BO</th>\n",
       "      <th>Categoría LT</th>\n",
       "      <th>Fecha No Fact</th>\n",
       "      <th>Cantidad en BO</th>\n",
       "    </tr>\n",
       "  </thead>\n",
       "  <tbody>\n",
       "  </tbody>\n",
       "</table>\n",
       "<p>0 rows × 63 columns</p>\n",
       "</div>"
      ],
      "text/plain": [
       "Empty DataFrame\n",
       "Columns: [AUX, Documento compras, Posición, Reparto, Cl.documento compras, Tipo doc.compras, Grupo de compras, Historial pedido/Docu.orden entrega, Fecha documento, Material Antiguo, Material, Texto breve, Grupo de artículos, Indicador de borrado, Tipo de posición, Tipo de imputación, Centro, Almacén, Cantidad de reparto, Cantidad de pedido, Unidad medida pedido, Precio neto, Moneda, Fecha de entrega, Hora, Fecha entrega estad., Cantidad entrada, Cantidad de salida, Cantidad entregada, Solicitud de pedido, Pos.solicitud pedido, Indicador creación, Cantidad de posiciones, Nombre del proveedor, Por entregar (cantidad), Por entregar (valor), Por calcular (cantidad), Por calcular (valor), NomSector_actual, Origen, TIPO, Corresponde, Fe. ATA, Fecha Est. Fact, Cant. Factura, Cantidad entrega, Qty por Entregar, Qty Fact Corr, Status TR Fact, Fecha BO Mes Actual, TR Vencido, Statur TR No FAct, Cant. BO, Atraso, Fecha Facturacion Final, Vía (Texto), LT Objetivo, Fe. Confirmación, Fecha OC, Dias LT BO, Categoría LT, Fecha No Fact, Cantidad en BO]\n",
       "Index: []\n",
       "\n",
       "[0 rows x 63 columns]"
      ]
     },
     "execution_count": 133,
     "metadata": {},
     "output_type": "execute_result"
    }
   ],
   "source": [
    "me2l_15[me2l_15['AUX'] =='430002269010']"
   ]
  },
  {
   "cell_type": "code",
   "execution_count": 134,
   "metadata": {},
   "outputs": [
    {
     "data": {
      "text/plain": [
       "Index(['AUX', 'Documento compras', 'Posición', 'Reparto',\n",
       "       'Cl.documento compras', 'Tipo doc.compras', 'Grupo de compras',\n",
       "       'Historial pedido/Docu.orden entrega', 'Fecha documento',\n",
       "       'Material Antiguo', 'Material', 'Texto breve', 'Grupo de artículos',\n",
       "       'Indicador de borrado', 'Tipo de posición', 'Tipo de imputación',\n",
       "       'Centro', 'Almacén', 'Cantidad de reparto', 'Cantidad de pedido',\n",
       "       'Unidad medida pedido', 'Precio neto', 'Moneda', 'Fecha de entrega',\n",
       "       'Hora', 'Fecha entrega estad.', 'Cantidad entrada',\n",
       "       'Cantidad de salida', 'Cantidad entregada', 'Solicitud de pedido',\n",
       "       'Pos.solicitud pedido', 'Indicador creación', 'Cantidad de posiciones',\n",
       "       'Nombre del proveedor', 'Por entregar (cantidad)',\n",
       "       'Por entregar (valor)', 'Por calcular (cantidad)',\n",
       "       'Por calcular (valor)', 'NomSector_actual', 'Origen', 'TIPO',\n",
       "       'Corresponde', 'Fe. ATA', 'Fecha Est. Fact', 'Cant. Factura',\n",
       "       'Cantidad entrega', 'Qty por Entregar', 'Qty Fact Corr',\n",
       "       'Status TR Fact', 'Fecha BO Mes Actual', 'TR Vencido',\n",
       "       'Statur TR No FAct', 'Cant. BO', 'Atraso', 'Fecha Facturacion Final',\n",
       "       'Vía (Texto)', 'LT Objetivo', 'Fe. Confirmación', 'Fecha OC',\n",
       "       'Dias LT BO', 'Categoría LT', 'Fecha No Fact', 'Cantidad en BO'],\n",
       "      dtype='object')"
      ]
     },
     "execution_count": 134,
     "metadata": {},
     "output_type": "execute_result"
    }
   ],
   "source": [
    "me2l_15.columns"
   ]
  },
  {
   "cell_type": "code",
   "execution_count": 135,
   "metadata": {},
   "outputs": [],
   "source": [
    "me2l_15.to_excel(destino_tubo + \"Base Transito para Analisis.xlsx\")"
   ]
  },
  {
   "cell_type": "code",
   "execution_count": 136,
   "metadata": {},
   "outputs": [],
   "source": [
    "side_a = me2l_15[['AUX','Status TR Fact',   'Material','Texto breve','Qty Fact Corr','Centro','NomSector_actual','Origen','TIPO','Cl.documento compras','Fecha Facturacion Final','Nombre del proveedor','Grupo de compras']]\n",
    "side_b = me2l_15[['AUX','Statur TR No FAct','Material','Texto breve','Cantidad en BO',     'Centro','NomSector_actual','Origen','TIPO','Cl.documento compras','Fecha No Fact',          'Nombre del proveedor','Grupo de compras']]"
   ]
  },
  {
   "cell_type": "code",
   "execution_count": 137,
   "metadata": {},
   "outputs": [
    {
     "name": "stderr",
     "output_type": "stream",
     "text": [
      "C:\\Users\\lravlic\\AppData\\Local\\Temp\\ipykernel_27184\\410670440.py:1: SettingWithCopyWarning: \n",
      "A value is trying to be set on a copy of a slice from a DataFrame\n",
      "\n",
      "See the caveats in the documentation: https://pandas.pydata.org/pandas-docs/stable/user_guide/indexing.html#returning-a-view-versus-a-copy\n",
      "  side_a.rename(columns={'Status TR Fact':'Status','Qty Fact Corr':'Cantidad','Fecha Facturacion Final':'Fecha'}, inplace=True)\n",
      "C:\\Users\\lravlic\\AppData\\Local\\Temp\\ipykernel_27184\\410670440.py:2: SettingWithCopyWarning: \n",
      "A value is trying to be set on a copy of a slice from a DataFrame\n",
      "\n",
      "See the caveats in the documentation: https://pandas.pydata.org/pandas-docs/stable/user_guide/indexing.html#returning-a-view-versus-a-copy\n",
      "  side_b.rename(columns={'Statur TR No FAct':'Status','Cantidad en BO':'Cantidad','Fecha No Fact':'Fecha'}, inplace=True)\n"
     ]
    }
   ],
   "source": [
    "side_a.rename(columns={'Status TR Fact':'Status','Qty Fact Corr':'Cantidad','Fecha Facturacion Final':'Fecha'}, inplace=True)\n",
    "side_b.rename(columns={'Statur TR No FAct':'Status','Cantidad en BO':'Cantidad','Fecha No Fact':'Fecha'}, inplace=True)"
   ]
  },
  {
   "cell_type": "code",
   "execution_count": 138,
   "metadata": {},
   "outputs": [],
   "source": [
    "tr_final = pd.concat([side_a, side_b])"
   ]
  },
  {
   "cell_type": "code",
   "execution_count": 139,
   "metadata": {},
   "outputs": [
    {
     "data": {
      "text/html": [
       "<div>\n",
       "<style scoped>\n",
       "    .dataframe tbody tr th:only-of-type {\n",
       "        vertical-align: middle;\n",
       "    }\n",
       "\n",
       "    .dataframe tbody tr th {\n",
       "        vertical-align: top;\n",
       "    }\n",
       "\n",
       "    .dataframe thead th {\n",
       "        text-align: right;\n",
       "    }\n",
       "</style>\n",
       "<table border=\"1\" class=\"dataframe\">\n",
       "  <thead>\n",
       "    <tr style=\"text-align: right;\">\n",
       "      <th></th>\n",
       "      <th>index</th>\n",
       "      <th>AUX</th>\n",
       "      <th>Status</th>\n",
       "      <th>Material</th>\n",
       "      <th>Texto breve</th>\n",
       "      <th>Cantidad</th>\n",
       "      <th>Centro</th>\n",
       "      <th>NomSector_actual</th>\n",
       "      <th>Origen</th>\n",
       "      <th>TIPO</th>\n",
       "      <th>Cl.documento compras</th>\n",
       "      <th>Fecha</th>\n",
       "      <th>Nombre del proveedor</th>\n",
       "      <th>Grupo de compras</th>\n",
       "    </tr>\n",
       "  </thead>\n",
       "  <tbody>\n",
       "    <tr>\n",
       "      <th>0</th>\n",
       "      <td>0</td>\n",
       "      <td>430001539910</td>\n",
       "      <td>Facturado Vencido</td>\n",
       "      <td>S203F2602060605</td>\n",
       "      <td>NEUMATICO 22555R19</td>\n",
       "      <td>4.0</td>\n",
       "      <td>201.0</td>\n",
       "      <td>Changan</td>\n",
       "      <td>CL</td>\n",
       "      <td>OEM</td>\n",
       "      <td>ZVOR</td>\n",
       "      <td>2024-09-05 15:19:20.938111</td>\n",
       "      <td>10000717   SAMUEL SALVADOR SUAREZ C</td>\n",
       "      <td>RR4</td>\n",
       "    </tr>\n",
       "    <tr>\n",
       "      <th>1</th>\n",
       "      <td>1</td>\n",
       "      <td>430001625610</td>\n",
       "      <td>No Facturado</td>\n",
       "      <td>4311017560R15CPZ</td>\n",
       "      <td>NEUMATICO 17560 R 15  WESLAKE</td>\n",
       "      <td>0.0</td>\n",
       "      <td>201.0</td>\n",
       "      <td>Suzuki</td>\n",
       "      <td>CL</td>\n",
       "      <td>OEM</td>\n",
       "      <td>ZVOR</td>\n",
       "      <td>2024-09-05 15:19:20.938111</td>\n",
       "      <td>10000717   SAMUEL SALVADOR SUAREZ C</td>\n",
       "      <td>RR4</td>\n",
       "    </tr>\n",
       "    <tr>\n",
       "      <th>2</th>\n",
       "      <td>2</td>\n",
       "      <td>420000568910</td>\n",
       "      <td>No Facturado</td>\n",
       "      <td>PORTADOCSUZUKI</td>\n",
       "      <td>AXS.PORTA DOCUMENTOS SUZUKI</td>\n",
       "      <td>0.0</td>\n",
       "      <td>201.0</td>\n",
       "      <td>Accesorios</td>\n",
       "      <td>CL</td>\n",
       "      <td>AXS</td>\n",
       "      <td>ZSTO</td>\n",
       "      <td>2024-09-05 15:19:20.938111</td>\n",
       "      <td>10001447   I.V. Fabrica de producto</td>\n",
       "      <td>RR2</td>\n",
       "    </tr>\n",
       "    <tr>\n",
       "      <th>3</th>\n",
       "      <td>3</td>\n",
       "      <td>420000591710</td>\n",
       "      <td>No Facturado</td>\n",
       "      <td>PORTADCTOKYAL</td>\n",
       "      <td>AXS.PORTA DOCUMENTOS MAZDA</td>\n",
       "      <td>0.0</td>\n",
       "      <td>201.0</td>\n",
       "      <td>Accesorios</td>\n",
       "      <td>CL</td>\n",
       "      <td>AXS</td>\n",
       "      <td>ZSTO</td>\n",
       "      <td>2024-09-05 15:19:20.938111</td>\n",
       "      <td>10001447   I.V. Fabrica de producto</td>\n",
       "      <td>RR2</td>\n",
       "    </tr>\n",
       "    <tr>\n",
       "      <th>4</th>\n",
       "      <td>4</td>\n",
       "      <td>420000591740</td>\n",
       "      <td>No Facturado</td>\n",
       "      <td>PORTADOCPOER</td>\n",
       "      <td>AXS. PORTA DOCUMENTOS GWM POER</td>\n",
       "      <td>0.0</td>\n",
       "      <td>201.0</td>\n",
       "      <td>Accesorios</td>\n",
       "      <td>CL</td>\n",
       "      <td>AXS</td>\n",
       "      <td>ZSTO</td>\n",
       "      <td>2024-09-05 15:19:20.938111</td>\n",
       "      <td>10001447   I.V. Fabrica de producto</td>\n",
       "      <td>RR2</td>\n",
       "    </tr>\n",
       "    <tr>\n",
       "      <th>...</th>\n",
       "      <td>...</td>\n",
       "      <td>...</td>\n",
       "      <td>...</td>\n",
       "      <td>...</td>\n",
       "      <td>...</td>\n",
       "      <td>...</td>\n",
       "      <td>...</td>\n",
       "      <td>...</td>\n",
       "      <td>...</td>\n",
       "      <td>...</td>\n",
       "      <td>...</td>\n",
       "      <td>...</td>\n",
       "      <td>...</td>\n",
       "      <td>...</td>\n",
       "    </tr>\n",
       "    <tr>\n",
       "      <th>36675</th>\n",
       "      <td>18335</td>\n",
       "      <td>4300017115360</td>\n",
       "      <td>Fecha Teórica</td>\n",
       "      <td>8210100U1910-F011</td>\n",
       "      <td>FOCO SENALIZADOR ESPEJO IZQ</td>\n",
       "      <td>1.0</td>\n",
       "      <td>201.0</td>\n",
       "      <td>JAC Cars</td>\n",
       "      <td>NaN</td>\n",
       "      <td>OEM</td>\n",
       "      <td>ZVOR</td>\n",
       "      <td>2024-09-19 00:00:00.000000</td>\n",
       "      <td>PU02       DERCO PERU S.A.</td>\n",
       "      <td>RR9</td>\n",
       "    </tr>\n",
       "    <tr>\n",
       "      <th>36676</th>\n",
       "      <td>18336</td>\n",
       "      <td>4300017115370</td>\n",
       "      <td>Fecha Teórica</td>\n",
       "      <td>Z-1701114-00-00</td>\n",
       "      <td>RODAMIENTO</td>\n",
       "      <td>1.0</td>\n",
       "      <td>201.0</td>\n",
       "      <td>JAC Cars</td>\n",
       "      <td>NaN</td>\n",
       "      <td>OEM</td>\n",
       "      <td>ZVOR</td>\n",
       "      <td>2024-09-19 00:00:00.000000</td>\n",
       "      <td>PU02       DERCO PERU S.A.</td>\n",
       "      <td>RR9</td>\n",
       "    </tr>\n",
       "    <tr>\n",
       "      <th>36677</th>\n",
       "      <td>18337</td>\n",
       "      <td>4300017115380</td>\n",
       "      <td>Fecha Teórica</td>\n",
       "      <td>ZM6T82AF-1701513</td>\n",
       "      <td>SELLO</td>\n",
       "      <td>1.0</td>\n",
       "      <td>201.0</td>\n",
       "      <td>JAC Cars</td>\n",
       "      <td>NaN</td>\n",
       "      <td>OEM</td>\n",
       "      <td>ZVOR</td>\n",
       "      <td>2024-09-19 00:00:00.000000</td>\n",
       "      <td>PU02       DERCO PERU S.A.</td>\n",
       "      <td>RR9</td>\n",
       "    </tr>\n",
       "    <tr>\n",
       "      <th>36678</th>\n",
       "      <td>18338</td>\n",
       "      <td>4300017115390</td>\n",
       "      <td>Fecha Teórica</td>\n",
       "      <td>6203400XSZ08A</td>\n",
       "      <td>VIDRIO PUERTA POST DER</td>\n",
       "      <td>1.0</td>\n",
       "      <td>201.0</td>\n",
       "      <td>Great Wall</td>\n",
       "      <td>NaN</td>\n",
       "      <td>OEM</td>\n",
       "      <td>ZVOR</td>\n",
       "      <td>2024-09-19 00:00:00.000000</td>\n",
       "      <td>PU02       DERCO PERU S.A.</td>\n",
       "      <td>RR9</td>\n",
       "    </tr>\n",
       "    <tr>\n",
       "      <th>36679</th>\n",
       "      <td>18339</td>\n",
       "      <td>4300017115400</td>\n",
       "      <td>Fecha Teórica</td>\n",
       "      <td>8105000AP64XB</td>\n",
       "      <td>CONDENSADOR</td>\n",
       "      <td>1.0</td>\n",
       "      <td>201.0</td>\n",
       "      <td>Great Wall</td>\n",
       "      <td>NaN</td>\n",
       "      <td>OEM</td>\n",
       "      <td>ZVOR</td>\n",
       "      <td>2024-09-19 00:00:00.000000</td>\n",
       "      <td>PU02       DERCO PERU S.A.</td>\n",
       "      <td>RR9</td>\n",
       "    </tr>\n",
       "  </tbody>\n",
       "</table>\n",
       "<p>36680 rows × 14 columns</p>\n",
       "</div>"
      ],
      "text/plain": [
       "       index            AUX             Status           Material  \\\n",
       "0          0   430001539910  Facturado Vencido    S203F2602060605   \n",
       "1          1   430001625610       No Facturado   4311017560R15CPZ   \n",
       "2          2   420000568910       No Facturado     PORTADOCSUZUKI   \n",
       "3          3   420000591710       No Facturado      PORTADCTOKYAL   \n",
       "4          4   420000591740       No Facturado       PORTADOCPOER   \n",
       "...      ...            ...                ...                ...   \n",
       "36675  18335  4300017115360      Fecha Teórica  8210100U1910-F011   \n",
       "36676  18336  4300017115370      Fecha Teórica    Z-1701114-00-00   \n",
       "36677  18337  4300017115380      Fecha Teórica   ZM6T82AF-1701513   \n",
       "36678  18338  4300017115390      Fecha Teórica      6203400XSZ08A   \n",
       "36679  18339  4300017115400      Fecha Teórica      8105000AP64XB   \n",
       "\n",
       "                          Texto breve  Cantidad  Centro NomSector_actual  \\\n",
       "0                  NEUMATICO 22555R19       4.0   201.0          Changan   \n",
       "1       NEUMATICO 17560 R 15  WESLAKE       0.0   201.0           Suzuki   \n",
       "2         AXS.PORTA DOCUMENTOS SUZUKI       0.0   201.0       Accesorios   \n",
       "3          AXS.PORTA DOCUMENTOS MAZDA       0.0   201.0       Accesorios   \n",
       "4      AXS. PORTA DOCUMENTOS GWM POER       0.0   201.0       Accesorios   \n",
       "...                               ...       ...     ...              ...   \n",
       "36675     FOCO SENALIZADOR ESPEJO IZQ       1.0   201.0         JAC Cars   \n",
       "36676                      RODAMIENTO       1.0   201.0         JAC Cars   \n",
       "36677                           SELLO       1.0   201.0         JAC Cars   \n",
       "36678          VIDRIO PUERTA POST DER       1.0   201.0       Great Wall   \n",
       "36679                     CONDENSADOR       1.0   201.0       Great Wall   \n",
       "\n",
       "      Origen TIPO Cl.documento compras                      Fecha  \\\n",
       "0         CL  OEM                 ZVOR 2024-09-05 15:19:20.938111   \n",
       "1         CL  OEM                 ZVOR 2024-09-05 15:19:20.938111   \n",
       "2         CL  AXS                 ZSTO 2024-09-05 15:19:20.938111   \n",
       "3         CL  AXS                 ZSTO 2024-09-05 15:19:20.938111   \n",
       "4         CL  AXS                 ZSTO 2024-09-05 15:19:20.938111   \n",
       "...      ...  ...                  ...                        ...   \n",
       "36675    NaN  OEM                 ZVOR 2024-09-19 00:00:00.000000   \n",
       "36676    NaN  OEM                 ZVOR 2024-09-19 00:00:00.000000   \n",
       "36677    NaN  OEM                 ZVOR 2024-09-19 00:00:00.000000   \n",
       "36678    NaN  OEM                 ZVOR 2024-09-19 00:00:00.000000   \n",
       "36679    NaN  OEM                 ZVOR 2024-09-19 00:00:00.000000   \n",
       "\n",
       "                      Nombre del proveedor Grupo de compras  \n",
       "0      10000717   SAMUEL SALVADOR SUAREZ C              RR4  \n",
       "1      10000717   SAMUEL SALVADOR SUAREZ C              RR4  \n",
       "2      10001447   I.V. Fabrica de producto              RR2  \n",
       "3      10001447   I.V. Fabrica de producto              RR2  \n",
       "4      10001447   I.V. Fabrica de producto              RR2  \n",
       "...                                    ...              ...  \n",
       "36675           PU02       DERCO PERU S.A.              RR9  \n",
       "36676           PU02       DERCO PERU S.A.              RR9  \n",
       "36677           PU02       DERCO PERU S.A.              RR9  \n",
       "36678           PU02       DERCO PERU S.A.              RR9  \n",
       "36679           PU02       DERCO PERU S.A.              RR9  \n",
       "\n",
       "[36680 rows x 14 columns]"
      ]
     },
     "execution_count": 139,
     "metadata": {},
     "output_type": "execute_result"
    }
   ],
   "source": [
    "tr_final.reset_index()"
   ]
  },
  {
   "cell_type": "code",
   "execution_count": 140,
   "metadata": {},
   "outputs": [
    {
     "data": {
      "text/plain": [
       "246899.0"
      ]
     },
     "execution_count": 140,
     "metadata": {},
     "output_type": "execute_result"
    }
   ],
   "source": [
    "tr_final['Cantidad'].sum()"
   ]
  },
  {
   "cell_type": "markdown",
   "metadata": {},
   "source": []
  },
  {
   "cell_type": "code",
   "execution_count": 141,
   "metadata": {},
   "outputs": [],
   "source": [
    "tr_final.to_excel(destino_tubo + \"TR FINAL R3.xlsx\", index=False)"
   ]
  },
  {
   "cell_type": "code",
   "execution_count": 142,
   "metadata": {},
   "outputs": [
    {
     "name": "stderr",
     "output_type": "stream",
     "text": [
      "C:\\Users\\lravlic\\AppData\\Local\\Temp\\ipykernel_27184\\3838735803.py:6: DtypeWarning: Columns (4,11,14,15) have mixed types. Specify dtype option on import or set low_memory=False.\n",
      "  df_mara = pd.read_csv(ruta_mara)\n"
     ]
    },
    {
     "name": "stdout",
     "output_type": "stream",
     "text": [
      "Ruta Mara: \n",
      "C:\\Users\\lravlic\\Inchcape\\Planificación y Compras Chile - Documentos\\Bases Indicadores en CSV 2024-08\\MARA_R3.csv\n"
     ]
    }
   ],
   "source": [
    "#MARA\n",
    "columnas_mara = ['Material_R3','Part_number','Material_dsc','Modelo','Familia', 'Subfamilia', 'Categoría', 'Subcatgería','Sector_dsc']\n",
    "ruta_mara = ruta_repo.joinpath('MARA_R3.csv')\n",
    "\n",
    "# Leer el archivo CSV en un DataFrame\n",
    "df_mara = pd.read_csv(ruta_mara)\n",
    "\n",
    "print('Ruta Mara: ' + '\\n' + str(ruta_mara))"
   ]
  },
  {
   "cell_type": "code",
   "execution_count": 143,
   "metadata": {},
   "outputs": [],
   "source": [
    "import win32com.client\n",
    "import getpass\n",
    "usuario = getpass.getuser()\n",
    "\n",
    "# Initialize SAP GUI Scripting\n",
    "sap_gui_auto = win32com.client.GetObject(\"SAPGUI\")\n",
    "application = sap_gui_auto.GetScriptingEngine\n",
    "\n",
    "# Establish connection and session\n",
    "connection = application.Children(0)\n",
    "session = connection.Children(0)\n",
    "\n",
    "# Maximize the window\n",
    "session.findById(\"wnd[0]\").maximize()\n",
    "\n",
    "# Enter transaction code\n",
    "session.findById(\"wnd[0]/tbar[0]/okcd\").text = \"me5a\"\n",
    "session.findById(\"wnd[0]\").sendVKey(0)\n",
    "\n",
    "# Set plant code\n",
    "session.findById(\"wnd[0]/usr/ctxtS_WERKS-LOW\").text = \"0201\"\n",
    "session.findById(\"wnd[0]/usr/ctxtS_WERKS-LOW\").setFocus()\n",
    "session.findById(\"wnd[0]/usr/ctxtS_WERKS-LOW\").caretPosition = 4\n",
    "session.findById(\"wnd[0]\").sendVKey(0)\n",
    "\n",
    "# Set document type\n",
    "session.findById(\"wnd[0]/usr/ctxtS_BSART-LOW\").setFocus()\n",
    "session.findById(\"wnd[0]/usr/ctxtS_BSART-LOW\").caretPosition = 0\n",
    "session.findById(\"wnd[0]/usr/btn%_S_BSART_%_APP_%-VALU_PUSH\").press()\n",
    "\n",
    "# Enter multiple values\n",
    "session.findById(\"wnd[1]/usr/tabsTAB_STRIP/tabpSIVA/ssubSCREEN_HEADER:SAPLALDB:3010/tblSAPLALDBSINGLE/ctxtRSCSEL_255-SLOW_I[1,0]\").text = \"zsto\"\n",
    "session.findById(\"wnd[1]/usr/tabsTAB_STRIP/tabpSIVA/ssubSCREEN_HEADER:SAPLALDB:3010/tblSAPLALDBSINGLE/ctxtRSCSEL_255-SLOW_I[1,1]\").text = \"zspt\"\n",
    "session.findById(\"wnd[1]/usr/tabsTAB_STRIP/tabpSIVA/ssubSCREEN_HEADER:SAPLALDB:3010/tblSAPLALDBSINGLE/ctxtRSCSEL_255-SLOW_I[1,2]\").text = \"zvor\"\n",
    "session.findById(\"wnd[1]/usr/tabsTAB_STRIP/tabpSIVA/ssubSCREEN_HEADER:SAPLALDB:3010/tblSAPLALDBSINGLE/ctxtRSCSEL_255-SLOW_I[1,3]\").text = \"zipl\"\n",
    "session.findById(\"wnd[1]/usr/tabsTAB_STRIP/tabpSIVA/ssubSCREEN_HEADER:SAPLALDB:3010/tblSAPLALDBSINGLE/ctxtRSCSEL_255-SLOW_I[1,4]\").text = \"zatt\"\n",
    "session.findById(\"wnd[1]/usr/tabsTAB_STRIP/tabpSIVA/ssubSCREEN_HEADER:SAPLALDB:3010/tblSAPLALDBSINGLE/ctxtRSCSEL_255-SLOW_I[1,4]\").setFocus()\n",
    "session.findById(\"wnd[1]/usr/tabsTAB_STRIP/tabpSIVA/ssubSCREEN_HEADER:SAPLALDB:3010/tblSAPLALDBSINGLE/ctxtRSCSEL_255-SLOW_I[1,4]\").caretPosition = 4\n",
    "session.findById(\"wnd[1]\").sendVKey(8)\n",
    "\n",
    "# Set status\n",
    "session.findById(\"wnd[0]/usr/ctxtS_STATU-LOW\").setFocus()\n",
    "session.findById(\"wnd[0]/usr/ctxtS_STATU-LOW\").caretPosition = 0\n",
    "session.findById(\"wnd[0]/usr/btn%_S_STATU_%_APP_%-VALU_PUSH\").press()\n",
    "session.findById(\"wnd[1]/usr/tabsTAB_STRIP/tabpSIVA/ssubSCREEN_HEADER:SAPLALDB:3010/tblSAPLALDBSINGLE/ctxtRSCSEL_255-SLOW_I[1,0]\").text = \"a\"\n",
    "session.findById(\"wnd[1]/usr/tabsTAB_STRIP/tabpSIVA/ssubSCREEN_HEADER:SAPLALDB:3010/tblSAPLALDBSINGLE/ctxtRSCSEL_255-SLOW_I[1,1]\").text = \"n\"\n",
    "session.findById(\"wnd[1]/usr/tabsTAB_STRIP/tabpSIVA/ssubSCREEN_HEADER:SAPLALDB:3010/tblSAPLALDBSINGLE/ctxtRSCSEL_255-SLOW_I[1,1]\").setFocus()\n",
    "session.findById(\"wnd[1]/usr/tabsTAB_STRIP/tabpSIVA/ssubSCREEN_HEADER:SAPLALDB:3010/tblSAPLALDBSINGLE/ctxtRSCSEL_255-SLOW_I[1,1]\").caretPosition = 1\n",
    "session.findById(\"wnd[1]\").sendVKey(8)\n",
    "\n",
    "# Execute\n",
    "session.findById(\"wnd[0]\").sendVKey(8)\n",
    "\n",
    "# Export to Excel\n",
    "session.findById(\"wnd[0]/tbar[1]/btn[33]\").press()\n",
    "session.findById(\"wnd[1]/usr/ssubD0500_SUBSCREEN:SAPLSLVC_DIALOG:0501/cntlG51_CONTAINER/shellcont/shell\").setCurrentCell(38, \"TEXT\")\n",
    "session.findById(\"wnd[1]/usr/ssubD0500_SUBSCREEN:SAPLSLVC_DIALOG:0501/cntlG51_CONTAINER/shellcont/shell\").firstVisibleRow = 30\n",
    "session.findById(\"wnd[1]/usr/ssubD0500_SUBSCREEN:SAPLSLVC_DIALOG:0501/cntlG51_CONTAINER/shellcont/shell\").selectedRows = \"38\"\n",
    "session.findById(\"wnd[1]/usr/ssubD0500_SUBSCREEN:SAPLSLVC_DIALOG:0501/cntlG51_CONTAINER/shellcont/shell\").clickCurrentCell()\n",
    "session.findById(\"wnd[0]/tbar[1]/btn[43]\").press()\n",
    "session.findById(\"wnd[1]/tbar[0]/btn[0]\").press()\n",
    "session.findById(\"wnd[1]/usr/ctxtDY_PATH\").text = \"C:/Users/lravlic/Inchcape/Planificación y Compras Chile - Documentos/Planificación y Compras KPI-Reportes/Bases Transito (python)\"\n",
    "session.findById(\"wnd[1]/usr/ctxtDY_FILENAME\").text = \"ME5A_R3.XLSX\"\n",
    "session.findById(\"wnd[1]/usr/ctxtDY_FILENAME\").caretPosition = 8\n",
    "session.findById(\"wnd[1]/tbar[0]/btn[11]\").press()\n",
    "\n",
    "# Close the session\n",
    "session.findById(\"wnd[0]\").sendVKey(3)\n",
    "session.findById(\"wnd[0]\").sendVKey(3)\n",
    "\n"
   ]
  },
  {
   "cell_type": "code",
   "execution_count": 144,
   "metadata": {},
   "outputs": [],
   "source": [
    "me5a_df_r3 = pd.read_excel(\"C:/Users/lravlic/Inchcape/Planificación y Compras Chile - Documentos/Planificación y Compras KPI-Reportes/Bases Transito (python)/ME5A_R3.XLSX\")"
   ]
  },
  {
   "cell_type": "code",
   "execution_count": 145,
   "metadata": {},
   "outputs": [],
   "source": [
    "me5a_df_r3 = me5a_df_r3.merge(cod_actual_df, left_on='Material', right_on='Nro_pieza_fabricante_1',how='left')"
   ]
  },
  {
   "cell_type": "code",
   "execution_count": 146,
   "metadata": {},
   "outputs": [],
   "source": [
    "me5a_df_r3['Cod_Actual_1'].fillna(me5a_df_r3['Material'], inplace=True)\n",
    "me5a_df_r3.drop(columns= 'Nro_pieza_fabricante_1', inplace=True)\n",
    "me5a_df_r3.rename(columns={'Cod_Actual_1':'Ult. Eslabon'}, inplace=True)"
   ]
  },
  {
   "cell_type": "code",
   "execution_count": 147,
   "metadata": {},
   "outputs": [],
   "source": [
    "me5a_df_r3 = me5a_df_r3[['Solicitud de pedido', 'Clase documento', 'Fecha de solicitud',\n",
    "       'Pos.solicitud pedido', 'Material','Ult. Eslabon',\n",
    "       'Texto breve', 'Cantidad solicitada', 'Unidad de medida',\n",
    "       'Nombre del proveedor', 'Indicador de borrado', 'Status tratamiento',\n",
    "       'Centro', 'Status tratamiento solicitud pedido', 'Fecha de entrega',\n",
    "       'Grupo de compras', 'Solicitante', 'Proveedor deseado',\n",
    "       'Proveedor fijo', 'Reg.info de compras', 'Creado por',\n",
    "       'Fecha de pedido', 'Nombre del proveedor deseado', 'Pedido',\n",
    "       'Posición de pedido', 'Proveedor', 'Moneda', 'Precio de valoración',\n",
    "       'Valor total', 'Petición de oferta',\n",
    "       'Fecha Petición de oferta', 'Texto bloqueo', 'Cantidad confirmada','Urgencia necesidad'\n",
    "       ]]"
   ]
  },
  {
   "cell_type": "code",
   "execution_count": 148,
   "metadata": {},
   "outputs": [],
   "source": [
    "me5a_df_r3.to_excel(destino_tubo + \"ME5A R3.xlsx\", index=False)"
   ]
  },
  {
   "cell_type": "code",
   "execution_count": 149,
   "metadata": {},
   "outputs": [],
   "source": [
    "import win32com.client\n",
    "import getpass\n",
    "usuario = getpass.getuser()\n",
    "\n",
    "# Initialize SAP GUI Scripting\n",
    "sap_gui_auto = win32com.client.GetObject(\"SAPGUI\")\n",
    "application = sap_gui_auto.GetScriptingEngine\n",
    "\n",
    "# Establish connection and session\n",
    "connection = application.Children(0)\n",
    "session = connection.Children(0)\n",
    "\n",
    "# Maximize the window\n",
    "session.findById(\"wnd[0]\").maximize()\n",
    "\n",
    "# Enter transaction code\n",
    "session.findById(\"wnd[0]/tbar[0]/okcd\").text = \"MB52\"\n",
    "session.findById(\"wnd[0]\").sendVKey(0)\n",
    "\n",
    "# Open value help for plant field and fill in the values\n",
    "session.findById(\"wnd[0]/usr/btn%_WERKS_%_APP_%-VALU_PUSH\").press()\n",
    "session.findById(\"wnd[1]/usr/tabsTAB_STRIP/tabpSIVA/ssubSCREEN_HEADER:SAPLALDB:3010/tblSAPLALDBSINGLE/ctxtRSCSEL_255-SLOW_I[1,1]\").text = \"0270\"\n",
    "session.findById(\"wnd[1]/usr/tabsTAB_STRIP/tabpSIVA/ssubSCREEN_HEADER:SAPLALDB:3010/tblSAPLALDBSINGLE/ctxtRSCSEL_255-SLOW_I[1,2]\").text = \"0501\"\n",
    "session.findById(\"wnd[1]/usr/tabsTAB_STRIP/tabpSIVA/ssubSCREEN_HEADER:SAPLALDB:3010/tblSAPLALDBSINGLE/ctxtRSCSEL_255-SLOW_I[1,2]\").setFocus()\n",
    "session.findById(\"wnd[1]/usr/tabsTAB_STRIP/tabpSIVA/ssubSCREEN_HEADER:SAPLALDB:3010/tblSAPLALDBSINGLE/ctxtRSCSEL_255-SLOW_I[1,2]\").caretPosition = 4\n",
    "session.findById(\"wnd[1]\").sendVKey(8)\n",
    "\n",
    "# Set the variant and execute\n",
    "session.findById(\"wnd[0]/usr/ctxtP_VARI\").text = \"/LRAVLIC\"\n",
    "session.findById(\"wnd[0]/usr/ctxtP_VARI\").setFocus()\n",
    "session.findById(\"wnd[0]/usr/ctxtP_VARI\").caretPosition = 8\n",
    "session.findById(\"wnd[0]\").sendVKey(8)\n",
    "\n",
    "# Export the data\n",
    "session.findById(\"wnd[0]/tbar[1]/btn[43]\").press()\n",
    "session.findById(\"wnd[1]/tbar[0]/btn[0]\").press()\n",
    "session.findById(\"wnd[1]/usr/ctxtDY_PATH\").text = \"C:/Users/lravlic/Inchcape/Planificación y Compras Chile - Documentos/Planificación y Compras KPI-Reportes/Bases Transito (python)\"\n",
    "session.findById(\"wnd[1]/usr/ctxtDY_FILENAME\").text = \"STOCK_R3.XLSX\"\n",
    "session.findById(\"wnd[1]/usr/ctxtDY_PATH\").setFocus()\n",
    "session.findById(\"wnd[1]/usr/ctxtDY_PATH\").caretPosition = 0\n",
    "session.findById(\"wnd[1]/tbar[0]/btn[11]\").press()\n",
    "\n",
    "# Close the windows\n",
    "session.findById(\"wnd[0]\").sendVKey(3)\n",
    "session.findById(\"wnd[0]\").sendVKey(3)\n",
    "\n"
   ]
  },
  {
   "cell_type": "code",
   "execution_count": 150,
   "metadata": {},
   "outputs": [],
   "source": [
    "stock_r3 = pd.read_excel(\"C:/Users/lravlic/Inchcape/Planificación y Compras Chile - Documentos/Planificación y Compras KPI-Reportes/Bases Transito (python)/STOCK_R3.XLSX\")"
   ]
  },
  {
   "cell_type": "code",
   "execution_count": null,
   "metadata": {},
   "outputs": [],
   "source": []
  },
  {
   "cell_type": "code",
   "execution_count": 151,
   "metadata": {},
   "outputs": [],
   "source": [
    "stock_r3 = stock_r3.merge(cod_actual_df, left_on = 'Material', right_on='Nro_pieza_fabricante_1', how = 'left')"
   ]
  },
  {
   "cell_type": "code",
   "execution_count": 152,
   "metadata": {},
   "outputs": [],
   "source": [
    "stock_r3.drop(columns='Nro_pieza_fabricante_1', inplace=True)\n",
    "stock_r3.rename(columns={'Cod_Actual_1':'Ult. Eslabon'}, inplace=True)"
   ]
  },
  {
   "cell_type": "code",
   "execution_count": 153,
   "metadata": {},
   "outputs": [],
   "source": [
    "stock_r3['Ult. Eslabon'].fillna(stock_r3['Material'], inplace=True)"
   ]
  },
  {
   "cell_type": "code",
   "execution_count": null,
   "metadata": {},
   "outputs": [],
   "source": []
  },
  {
   "cell_type": "code",
   "execution_count": 154,
   "metadata": {},
   "outputs": [],
   "source": [
    "stock_r3 = stock_r3.merge(df_mara, left_on='Ult. Eslabon', right_on='Material_R3')"
   ]
  },
  {
   "cell_type": "code",
   "execution_count": 155,
   "metadata": {},
   "outputs": [],
   "source": [
    "stock_r3.to_excel(destino_tubo + \"Stock R3.xlsx\")"
   ]
  },
  {
   "cell_type": "code",
   "execution_count": null,
   "metadata": {},
   "outputs": [],
   "source": []
  },
  {
   "cell_type": "code",
   "execution_count": null,
   "metadata": {},
   "outputs": [],
   "source": []
  },
  {
   "cell_type": "code",
   "execution_count": null,
   "metadata": {},
   "outputs": [],
   "source": []
  }
 ],
 "metadata": {
  "kernelspec": {
   "display_name": "Python 3",
   "language": "python",
   "name": "python3"
  },
  "language_info": {
   "codemirror_mode": {
    "name": "ipython",
    "version": 3
   },
   "file_extension": ".py",
   "mimetype": "text/x-python",
   "name": "python",
   "nbconvert_exporter": "python",
   "pygments_lexer": "ipython3",
   "version": "3.12.0"
  }
 },
 "nbformat": 4,
 "nbformat_minor": 2
}
